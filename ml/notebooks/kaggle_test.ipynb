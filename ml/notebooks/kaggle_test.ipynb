{
 "cells": [
  {
   "metadata": {},
   "cell_type": "markdown",
   "source": "# Kaggle Titanic Challenge",
   "id": "51812385c7d94c6f"
  },
  {
   "metadata": {},
   "cell_type": "markdown",
   "source": "Tratamento dos dados para o arquivo de teste e posterior formatação para o padrão de resposta esperado para o desafio.",
   "id": "73c499a660c80fd6"
  },
  {
   "metadata": {
    "ExecuteTime": {
     "end_time": "2024-09-26T17:17:37.516786Z",
     "start_time": "2024-09-26T17:17:37.510869Z"
    }
   },
   "cell_type": "code",
   "source": [
    "# Configurações do notebook dentre outros\n",
    "import warnings\n",
    "warnings.filterwarnings(\"ignore\")\n",
    "from IPython.display import display, Markdown\n",
    "\n",
    "# Imports gerais\n",
    "import re\n",
    "import pandas as pd\n",
    "import numpy as np\n",
    "import seaborn as sns\n",
    "import matplotlib.pyplot as plt\n",
    "import pickle\n",
    "\n",
    "# Imports específicos do Scikit-lean\n",
    "from sklearn.preprocessing import StandardScaler\n",
    "from sklearn.preprocessing import MinMaxScaler\n",
    "from sklearn.model_selection import train_test_split\n",
    "from sklearn.model_selection import StratifiedKFold\n",
    "from sklearn.preprocessing import LabelEncoder\n",
    "from sklearn.model_selection import GridSearchCV\n",
    "from sklearn.metrics import accuracy_score\n",
    "from sklearn.pipeline import Pipeline\n",
    "from sklearn.linear_model import LogisticRegression\n",
    "from sklearn.tree import DecisionTreeClassifier\n",
    "from sklearn.neighbors import KNeighborsClassifier\n",
    "from sklearn.naive_bayes import GaussianNB\n",
    "from sklearn.svm import SVC\n",
    "from sklearn.ensemble import BaggingClassifier\n",
    "from sklearn.ensemble import RandomForestClassifier\n",
    "from sklearn.ensemble import ExtraTreesClassifier\n",
    "from sklearn.ensemble import VotingClassifier\n",
    "from sklearn.ensemble import AdaBoostClassifier\n",
    "from sklearn.ensemble import GradientBoostingClassifier\n",
    "from sklearn.model_selection import cross_val_score"
   ],
   "id": "25be0949f88d4952",
   "outputs": [],
   "execution_count": 102
  },
  {
   "metadata": {
    "ExecuteTime": {
     "end_time": "2024-09-26T17:17:37.821016Z",
     "start_time": "2024-09-26T17:17:37.603307Z"
    }
   },
   "cell_type": "code",
   "source": [
    "# Arquivos do Kaggle\n",
    "url = \"https://raw.githubusercontent.com/tekoryu/rough-on-rats/main/ml/data/titanic/test.csv\"\n",
    "\n",
    "# Carga no Pandas\n",
    "df_teste = pd.read_csv(url, delimiter=',')\n",
    "\n",
    "df_teste.info()"
   ],
   "id": "be87791dc7c72e66",
   "outputs": [
    {
     "name": "stdout",
     "output_type": "stream",
     "text": [
      "<class 'pandas.core.frame.DataFrame'>\n",
      "RangeIndex: 418 entries, 0 to 417\n",
      "Data columns (total 11 columns):\n",
      " #   Column       Non-Null Count  Dtype  \n",
      "---  ------       --------------  -----  \n",
      " 0   PassengerId  418 non-null    int64  \n",
      " 1   Pclass       418 non-null    int64  \n",
      " 2   Name         418 non-null    object \n",
      " 3   Sex          418 non-null    object \n",
      " 4   Age          332 non-null    float64\n",
      " 5   SibSp        418 non-null    int64  \n",
      " 6   Parch        418 non-null    int64  \n",
      " 7   Ticket       418 non-null    object \n",
      " 8   Fare         417 non-null    float64\n",
      " 9   Cabin        91 non-null     object \n",
      " 10  Embarked     418 non-null    object \n",
      "dtypes: float64(2), int64(4), object(5)\n",
      "memory usage: 36.1+ KB\n"
     ]
    }
   ],
   "execution_count": 103
  },
  {
   "metadata": {},
   "cell_type": "markdown",
   "source": "## Pré Processamento",
   "id": "9fc037fda2f30093"
  },
  {
   "metadata": {},
   "cell_type": "markdown",
   "source": "### Pronomes",
   "id": "4bc767818cabff7c"
  },
  {
   "metadata": {
    "ExecuteTime": {
     "end_time": "2024-09-26T17:17:37.826966Z",
     "start_time": "2024-09-26T17:17:37.822026Z"
    }
   },
   "cell_type": "code",
   "source": [
    "def pega_pronome_tratamento(entrada):\n",
    "    # A entrada deve ser um dataframe. Pega o Mr. Mrs. e coloca em coluna própria\n",
    "    pronome_tratamento = re.search(r' ([A-Za-z]+)\\.',entrada)\n",
    "    if pronome_tratamento:\n",
    "        return pronome_tratamento.group(1)\n",
    "    return \"\"\n",
    "\n",
    "df_teste['Pronome'] = df_teste['Name'].apply(pega_pronome_tratamento)"
   ],
   "id": "b01c93721b8f6d07",
   "outputs": [],
   "execution_count": 104
  },
  {
   "metadata": {},
   "cell_type": "markdown",
   "source": "## Estoicismo",
   "id": "8cc250366cb99a74"
  },
  {
   "metadata": {
    "ExecuteTime": {
     "end_time": "2024-09-26T17:17:37.834186Z",
     "start_time": "2024-09-26T17:17:37.827975Z"
    }
   },
   "cell_type": "code",
   "source": [
    "# uma pequena modificacao se torna necessaria uma vez que ha uma ocorrencia de \"Dona\"\n",
    "estoicismo = {\n",
    "    'Capt': 5,\n",
    "    'Col': 3,\n",
    "    'Countess': 1,\n",
    "    'Don': 5,\n",
    "    'Dr': 3,\n",
    "    'Jonkheer': 5,\n",
    "    'Lady': 1,\n",
    "    'Major': 3,\n",
    "    'Master': 3,\n",
    "    'Miss': 4,\n",
    "    'Mlle': 1,\n",
    "    'Mme': 1,\n",
    "    'Mr': 2,\n",
    "    'Mrs': 2,\n",
    "    'Ms': 1,\n",
    "    'Rev': 5,\n",
    "    'Sir': 1,\n",
    "    'Dona': 3,\n",
    "}\n",
    "df_teste['Aval_Pronome'] = df_teste[\"Pronome\"].apply(lambda x: estoicismo.get(x))"
   ],
   "id": "fc3bd2b233a2cdf2",
   "outputs": [],
   "execution_count": 105
  },
  {
   "metadata": {},
   "cell_type": "markdown",
   "source": "## Porto de Embarque",
   "id": "dc906e96d9cf9d09"
  },
  {
   "metadata": {
    "ExecuteTime": {
     "end_time": "2024-09-26T17:17:37.841298Z",
     "start_time": "2024-09-26T17:17:37.836194Z"
    }
   },
   "cell_type": "code",
   "source": [
    "# Nao ha pelo visto sujeira nessa parte\n",
    "df_teste[\"Embarked\"].unique()"
   ],
   "id": "6d085925ce9341b9",
   "outputs": [
    {
     "data": {
      "text/plain": [
       "array(['Q', 'S', 'C'], dtype=object)"
      ]
     },
     "execution_count": 106,
     "metadata": {},
     "output_type": "execute_result"
    }
   ],
   "execution_count": 106
  },
  {
   "metadata": {
    "ExecuteTime": {
     "end_time": "2024-09-26T17:17:37.847172Z",
     "start_time": "2024-09-26T17:17:37.842308Z"
    }
   },
   "cell_type": "code",
   "source": [
    "# Transforma o código do porto de embarque em escalar.\n",
    "le = LabelEncoder()\n",
    "df_teste[\"cod_embarque\"] = le.fit_transform(df_teste['Embarked'])"
   ],
   "id": "c5544f51142ff429",
   "outputs": [],
   "execution_count": 107
  },
  {
   "metadata": {},
   "cell_type": "markdown",
   "source": "## Valor do Ticket",
   "id": "c1bc37948f3f1e2d"
  },
  {
   "metadata": {
    "ExecuteTime": {
     "end_time": "2024-09-26T17:17:37.850945Z",
     "start_time": "2024-09-26T17:17:37.848181Z"
    }
   },
   "cell_type": "code",
   "source": "",
   "id": "1cc9a902b2f55527",
   "outputs": [],
   "execution_count": 107
  },
  {
   "metadata": {},
   "cell_type": "markdown",
   "source": "## Idade",
   "id": "8aeeadbf98455ecc"
  },
  {
   "metadata": {
    "ExecuteTime": {
     "end_time": "2024-09-26T17:17:37.867046Z",
     "start_time": "2024-09-26T17:17:37.851954Z"
    }
   },
   "cell_type": "code",
   "source": [
    "# Pega a média das idades por pronome\n",
    "pronomes = df_teste[\"Pronome\"].unique()\n",
    "\n",
    "# Pega a mediana por pronome\n",
    "mediana = {}\n",
    "for pronome in pronomes:\n",
    "    mediana[pronome] = df_teste[\"Age\"][df_teste[\"Pronome\"] == pronome].median()\n",
    "\n",
    "# Preenche as idades em branco com a media das idades para aquele pronome\n",
    "df_teste['Age'] = df_teste.apply(lambda x: mediana[x['Pronome']] if pd.isna(x['Age']) else x['Age'], axis=1)\n",
    "\n",
    "# se depois de preencher em branco nao melhorou\n",
    "df_teste[\"Age\"] = df_teste[\"Age\"].fillna(df_teste[\"Age\"].median())\n",
    "\n",
    "# Converte para inteiro\n",
    "df_teste[\"Age\"] = df_teste[\"Age\"].astype(int)\n",
    "\n",
    "df_teste[\"classe_idade\"] = pd.cut(df_teste[\"Age\"], bins=[-np.inf,5,10,13,60,np.inf], labels=[\"Colo\",\"Nova\",\"Jovem\",\"Adulto\", \"Idoso\"])"
   ],
   "id": "5523757a3651a002",
   "outputs": [],
   "execution_count": 108
  },
  {
   "metadata": {},
   "cell_type": "markdown",
   "source": "## Categorias de idade",
   "id": "b6a949da18b91641"
  },
  {
   "metadata": {
    "ExecuteTime": {
     "end_time": "2024-09-26T17:17:37.872851Z",
     "start_time": "2024-09-26T17:17:37.868059Z"
    }
   },
   "cell_type": "code",
   "source": [
    "# Essa etapa pode ser suprimida, mas dificulta a legibilidade do caderno\n",
    "cat_idades  = {\n",
    "    'Colo': 1,\n",
    "    'Nova': 2,\n",
    "    'Jovem': 3,\n",
    "    'Adulto': 4,\n",
    "    'Idoso': 5,    \n",
    "}\n",
    "\n",
    "df_teste[\"classe_idade\"] = df_teste[\"classe_idade\"].map(cat_idades)"
   ],
   "id": "9099672122065c7e",
   "outputs": [],
   "execution_count": 109
  },
  {
   "metadata": {},
   "cell_type": "markdown",
   "source": "## Sexo",
   "id": "840fb571c7fb763"
  },
  {
   "metadata": {
    "ExecuteTime": {
     "end_time": "2024-09-26T17:17:37.879048Z",
     "start_time": "2024-09-26T17:17:37.874001Z"
    }
   },
   "cell_type": "code",
   "source": "df_teste[\"Sex\"] = df_teste[\"Sex\"].map({'male':1,'female':0})",
   "id": "6463c66ad4ac0e75",
   "outputs": [],
   "execution_count": 110
  },
  {
   "metadata": {},
   "cell_type": "markdown",
   "source": "## Sozinho",
   "id": "990323c2ec2f5e29"
  },
  {
   "metadata": {
    "ExecuteTime": {
     "end_time": "2024-09-26T17:17:37.886942Z",
     "start_time": "2024-09-26T17:17:37.881056Z"
    }
   },
   "cell_type": "code",
   "source": "df_teste[\"Sozinho\"] = np.where(df_teste[\"SibSp\"]+df_teste[\"Parch\"]==0,1,0)",
   "id": "dc9d4cc510f3ebfd",
   "outputs": [],
   "execution_count": 111
  },
  {
   "metadata": {},
   "cell_type": "markdown",
   "source": "## Limpeza",
   "id": "5434f986ecd19316"
  },
  {
   "metadata": {
    "ExecuteTime": {
     "end_time": "2024-09-26T17:17:37.892615Z",
     "start_time": "2024-09-26T17:17:37.887949Z"
    }
   },
   "cell_type": "code",
   "source": "df_teste.drop([\"PassengerId\",\"Name\",\"Ticket\",\"Cabin\",\"Embarked\", \"Pronome\"], axis=1, inplace=True)\n",
   "id": "9e2f353cad1d08c2",
   "outputs": [],
   "execution_count": 112
  },
  {
   "metadata": {},
   "cell_type": "markdown",
   "source": "## Conversão de tipos e eliminacao de brancos",
   "id": "d2ef70d52015fc01"
  },
  {
   "metadata": {},
   "cell_type": "markdown",
   "source": "Essa etapa foi necessária já que nos dados originais nao havia Fare em branco.",
   "id": "fe800f29f63ebaa6"
  },
  {
   "metadata": {
    "ExecuteTime": {
     "end_time": "2024-09-26T17:17:37.903493Z",
     "start_time": "2024-09-26T17:17:37.893767Z"
    }
   },
   "cell_type": "code",
   "source": [
    "# Substitui a fare pela mediana da classe ocupada (classe de passageiros)\n",
    "classes = df_teste[\"Pclass\"].unique()\n",
    "\n",
    "mediana = {}\n",
    "for classe in classes:\n",
    "    mediana[classe] = df_teste[\"Fare\"][df_teste[\"Pclass\"]==classe].median()\n",
    "\n",
    "df_teste[\"Fare\"] = df_teste.apply(lambda x: mediana[x['Pclass']] if pd.isna(x[\"Fare\"]) else x[\"Fare\"], axis=1)"
   ],
   "id": "14fe2527a86d9f25",
   "outputs": [],
   "execution_count": 113
  },
  {
   "metadata": {},
   "cell_type": "markdown",
   "source": "Agora sim podemos converter para inteiro, pra ajudar o pai aqui no processamento do SVM",
   "id": "e78bc457ef1205e4"
  },
  {
   "metadata": {
    "ExecuteTime": {
     "end_time": "2024-09-26T17:17:37.908280Z",
     "start_time": "2024-09-26T17:17:37.904637Z"
    }
   },
   "cell_type": "code",
   "source": [
    "df_teste[\"Fare\"] = df_teste[\"Fare\"].astype(int)\n",
    "#df_treino[\"FixedFare\"] = df_treino[\"FixedFare\"].astype(int)"
   ],
   "id": "b91fba271fca288c",
   "outputs": [],
   "execution_count": 114
  },
  {
   "metadata": {},
   "cell_type": "markdown",
   "source": "## Valor real do ticket",
   "id": "f510e76a903412be"
  },
  {
   "metadata": {
    "ExecuteTime": {
     "end_time": "2024-09-26T17:42:27.196987Z",
     "start_time": "2024-09-26T17:42:27.190984Z"
    }
   },
   "cell_type": "code",
   "source": [
    "df_teste[\"FixedFare\"] = df_teste[\"Fare\"]/(df_teste[\"SibSp\"] + df_teste[\"Parch\"] + 1)\n",
    "df_teste[\"FixedFare\"] = df_teste[\"FixedFare\"].apply(np.round)"
   ],
   "id": "725fffb12865c42b",
   "outputs": [],
   "execution_count": 116
  },
  {
   "metadata": {
    "ExecuteTime": {
     "end_time": "2024-09-26T17:43:04.384641Z",
     "start_time": "2024-09-26T17:43:04.374367Z"
    }
   },
   "cell_type": "code",
   "source": "df_teste",
   "id": "7e34a79d1520b6cb",
   "outputs": [
    {
     "data": {
      "text/plain": [
       "     Pclass  Sex  Age  SibSp  Parch  Fare  Aval_Pronome  cod_embarque  \\\n",
       "0         3    1   34      0      0     7             2             1   \n",
       "1         3    0   47      1      0     7             2             2   \n",
       "2         2    1   62      0      0     9             2             1   \n",
       "3         3    1   27      0      0     8             2             2   \n",
       "4         3    0   22      1      1    12             2             2   \n",
       "..      ...  ...  ...    ...    ...   ...           ...           ...   \n",
       "413       3    1   28      0      0     8             2             2   \n",
       "414       1    0   39      0      0   108             3             0   \n",
       "415       3    1   38      0      0     7             2             2   \n",
       "416       3    1   28      0      0     8             2             2   \n",
       "417       3    1    7      1      1    22             3             0   \n",
       "\n",
       "    classe_idade  Sozinho  FixedFare  \n",
       "0              4        1        7.0  \n",
       "1              4        0        4.0  \n",
       "2              5        1        9.0  \n",
       "3              4        1        8.0  \n",
       "4              4        0        4.0  \n",
       "..           ...      ...        ...  \n",
       "413            4        1        8.0  \n",
       "414            4        1      108.0  \n",
       "415            4        1        7.0  \n",
       "416            4        1        8.0  \n",
       "417            2        0        7.0  \n",
       "\n",
       "[418 rows x 11 columns]"
      ],
      "text/html": [
       "<div>\n",
       "<style scoped>\n",
       "    .dataframe tbody tr th:only-of-type {\n",
       "        vertical-align: middle;\n",
       "    }\n",
       "\n",
       "    .dataframe tbody tr th {\n",
       "        vertical-align: top;\n",
       "    }\n",
       "\n",
       "    .dataframe thead th {\n",
       "        text-align: right;\n",
       "    }\n",
       "</style>\n",
       "<table border=\"1\" class=\"dataframe\">\n",
       "  <thead>\n",
       "    <tr style=\"text-align: right;\">\n",
       "      <th></th>\n",
       "      <th>Pclass</th>\n",
       "      <th>Sex</th>\n",
       "      <th>Age</th>\n",
       "      <th>SibSp</th>\n",
       "      <th>Parch</th>\n",
       "      <th>Fare</th>\n",
       "      <th>Aval_Pronome</th>\n",
       "      <th>cod_embarque</th>\n",
       "      <th>classe_idade</th>\n",
       "      <th>Sozinho</th>\n",
       "      <th>FixedFare</th>\n",
       "    </tr>\n",
       "  </thead>\n",
       "  <tbody>\n",
       "    <tr>\n",
       "      <th>0</th>\n",
       "      <td>3</td>\n",
       "      <td>1</td>\n",
       "      <td>34</td>\n",
       "      <td>0</td>\n",
       "      <td>0</td>\n",
       "      <td>7</td>\n",
       "      <td>2</td>\n",
       "      <td>1</td>\n",
       "      <td>4</td>\n",
       "      <td>1</td>\n",
       "      <td>7.0</td>\n",
       "    </tr>\n",
       "    <tr>\n",
       "      <th>1</th>\n",
       "      <td>3</td>\n",
       "      <td>0</td>\n",
       "      <td>47</td>\n",
       "      <td>1</td>\n",
       "      <td>0</td>\n",
       "      <td>7</td>\n",
       "      <td>2</td>\n",
       "      <td>2</td>\n",
       "      <td>4</td>\n",
       "      <td>0</td>\n",
       "      <td>4.0</td>\n",
       "    </tr>\n",
       "    <tr>\n",
       "      <th>2</th>\n",
       "      <td>2</td>\n",
       "      <td>1</td>\n",
       "      <td>62</td>\n",
       "      <td>0</td>\n",
       "      <td>0</td>\n",
       "      <td>9</td>\n",
       "      <td>2</td>\n",
       "      <td>1</td>\n",
       "      <td>5</td>\n",
       "      <td>1</td>\n",
       "      <td>9.0</td>\n",
       "    </tr>\n",
       "    <tr>\n",
       "      <th>3</th>\n",
       "      <td>3</td>\n",
       "      <td>1</td>\n",
       "      <td>27</td>\n",
       "      <td>0</td>\n",
       "      <td>0</td>\n",
       "      <td>8</td>\n",
       "      <td>2</td>\n",
       "      <td>2</td>\n",
       "      <td>4</td>\n",
       "      <td>1</td>\n",
       "      <td>8.0</td>\n",
       "    </tr>\n",
       "    <tr>\n",
       "      <th>4</th>\n",
       "      <td>3</td>\n",
       "      <td>0</td>\n",
       "      <td>22</td>\n",
       "      <td>1</td>\n",
       "      <td>1</td>\n",
       "      <td>12</td>\n",
       "      <td>2</td>\n",
       "      <td>2</td>\n",
       "      <td>4</td>\n",
       "      <td>0</td>\n",
       "      <td>4.0</td>\n",
       "    </tr>\n",
       "    <tr>\n",
       "      <th>...</th>\n",
       "      <td>...</td>\n",
       "      <td>...</td>\n",
       "      <td>...</td>\n",
       "      <td>...</td>\n",
       "      <td>...</td>\n",
       "      <td>...</td>\n",
       "      <td>...</td>\n",
       "      <td>...</td>\n",
       "      <td>...</td>\n",
       "      <td>...</td>\n",
       "      <td>...</td>\n",
       "    </tr>\n",
       "    <tr>\n",
       "      <th>413</th>\n",
       "      <td>3</td>\n",
       "      <td>1</td>\n",
       "      <td>28</td>\n",
       "      <td>0</td>\n",
       "      <td>0</td>\n",
       "      <td>8</td>\n",
       "      <td>2</td>\n",
       "      <td>2</td>\n",
       "      <td>4</td>\n",
       "      <td>1</td>\n",
       "      <td>8.0</td>\n",
       "    </tr>\n",
       "    <tr>\n",
       "      <th>414</th>\n",
       "      <td>1</td>\n",
       "      <td>0</td>\n",
       "      <td>39</td>\n",
       "      <td>0</td>\n",
       "      <td>0</td>\n",
       "      <td>108</td>\n",
       "      <td>3</td>\n",
       "      <td>0</td>\n",
       "      <td>4</td>\n",
       "      <td>1</td>\n",
       "      <td>108.0</td>\n",
       "    </tr>\n",
       "    <tr>\n",
       "      <th>415</th>\n",
       "      <td>3</td>\n",
       "      <td>1</td>\n",
       "      <td>38</td>\n",
       "      <td>0</td>\n",
       "      <td>0</td>\n",
       "      <td>7</td>\n",
       "      <td>2</td>\n",
       "      <td>2</td>\n",
       "      <td>4</td>\n",
       "      <td>1</td>\n",
       "      <td>7.0</td>\n",
       "    </tr>\n",
       "    <tr>\n",
       "      <th>416</th>\n",
       "      <td>3</td>\n",
       "      <td>1</td>\n",
       "      <td>28</td>\n",
       "      <td>0</td>\n",
       "      <td>0</td>\n",
       "      <td>8</td>\n",
       "      <td>2</td>\n",
       "      <td>2</td>\n",
       "      <td>4</td>\n",
       "      <td>1</td>\n",
       "      <td>8.0</td>\n",
       "    </tr>\n",
       "    <tr>\n",
       "      <th>417</th>\n",
       "      <td>3</td>\n",
       "      <td>1</td>\n",
       "      <td>7</td>\n",
       "      <td>1</td>\n",
       "      <td>1</td>\n",
       "      <td>22</td>\n",
       "      <td>3</td>\n",
       "      <td>0</td>\n",
       "      <td>2</td>\n",
       "      <td>0</td>\n",
       "      <td>7.0</td>\n",
       "    </tr>\n",
       "  </tbody>\n",
       "</table>\n",
       "<p>418 rows × 11 columns</p>\n",
       "</div>"
      ]
     },
     "execution_count": 119,
     "metadata": {},
     "output_type": "execute_result"
    }
   ],
   "execution_count": 119
  },
  {
   "metadata": {
    "ExecuteTime": {
     "end_time": "2024-09-26T17:51:07.839309Z",
     "start_time": "2024-09-26T17:51:07.833009Z"
    }
   },
   "cell_type": "code",
   "source": "",
   "id": "f49fcd429bac9b1c",
   "outputs": [],
   "execution_count": 121
  },
  {
   "metadata": {},
   "cell_type": "code",
   "outputs": [],
   "execution_count": null,
   "source": "",
   "id": "aaac4043e16a3bfa"
  }
 ],
 "metadata": {
  "kernelspec": {
   "display_name": "Python 3",
   "language": "python",
   "name": "python3"
  },
  "language_info": {
   "codemirror_mode": {
    "name": "ipython",
    "version": 2
   },
   "file_extension": ".py",
   "mimetype": "text/x-python",
   "name": "python",
   "nbconvert_exporter": "python",
   "pygments_lexer": "ipython2",
   "version": "2.7.6"
  }
 },
 "nbformat": 4,
 "nbformat_minor": 5
}
