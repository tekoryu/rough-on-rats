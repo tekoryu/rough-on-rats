{
 "cells": [
  {
   "metadata": {},
   "cell_type": "markdown",
   "source": "# Kaggle Titanic Challenge",
   "id": "51812385c7d94c6f"
  },
  {
   "metadata": {},
   "cell_type": "markdown",
   "source": "Tratamento dos dados para o arquivo de teste e posterior formatação para o padrão de resposta esperado para o desafio.",
   "id": "73c499a660c80fd6"
  },
  {
   "metadata": {
    "ExecuteTime": {
     "end_time": "2024-09-25T23:46:08.119613Z",
     "start_time": "2024-09-25T23:46:07.968751Z"
    }
   },
   "cell_type": "code",
   "source": [
    "# Configurações do notebook dentre outros\n",
    "import warnings\n",
    "warnings.filterwarnings(\"ignore\")\n",
    "from IPython.display import display, Markdown\n",
    "\n",
    "# Imports gerais\n",
    "import re\n",
    "import pandas as pd\n",
    "import numpy as np\n",
    "import seaborn as sns\n",
    "import matplotlib.pyplot as plt\n",
    "import pickle\n",
    "\n",
    "# Imports específicos do Scikit-lean\n",
    "from sklearn.preprocessing import StandardScaler\n",
    "from sklearn.preprocessing import MinMaxScaler\n",
    "from sklearn.model_selection import train_test_split\n",
    "from sklearn.model_selection import StratifiedKFold\n",
    "from sklearn.preprocessing import LabelEncoder\n",
    "from sklearn.model_selection import GridSearchCV\n",
    "from sklearn.metrics import accuracy_score\n",
    "from sklearn.pipeline import Pipeline\n",
    "from sklearn.linear_model import LogisticRegression\n",
    "from sklearn.tree import DecisionTreeClassifier\n",
    "from sklearn.neighbors import KNeighborsClassifier\n",
    "from sklearn.naive_bayes import GaussianNB\n",
    "from sklearn.svm import SVC\n",
    "from sklearn.ensemble import BaggingClassifier\n",
    "from sklearn.ensemble import RandomForestClassifier\n",
    "from sklearn.ensemble import ExtraTreesClassifier\n",
    "from sklearn.ensemble import VotingClassifier\n",
    "from sklearn.ensemble import AdaBoostClassifier\n",
    "from sklearn.ensemble import GradientBoostingClassifier\n",
    "from sklearn.model_selection import cross_val_score"
   ],
   "id": "25be0949f88d4952",
   "outputs": [],
   "execution_count": 1
  },
  {
   "metadata": {
    "ExecuteTime": {
     "end_time": "2024-09-25T23:46:08.626762Z",
     "start_time": "2024-09-25T23:46:08.128373Z"
    }
   },
   "cell_type": "code",
   "source": [
    "# Arquivos do Kaggle\n",
    "url = \"https://raw.githubusercontent.com/tekoryu/rough-on-rats/main/ml/data/titanic/test.csv\"\n",
    "\n",
    "# Carga no Pandas\n",
    "df_teste = pd.read_csv(url, delimiter=',')\n",
    "\n",
    "df_teste.info()"
   ],
   "id": "be87791dc7c72e66",
   "outputs": [
    {
     "name": "stdout",
     "output_type": "stream",
     "text": [
      "<class 'pandas.core.frame.DataFrame'>\n",
      "RangeIndex: 418 entries, 0 to 417\n",
      "Data columns (total 11 columns):\n",
      " #   Column       Non-Null Count  Dtype  \n",
      "---  ------       --------------  -----  \n",
      " 0   PassengerId  418 non-null    int64  \n",
      " 1   Pclass       418 non-null    int64  \n",
      " 2   Name         418 non-null    object \n",
      " 3   Sex          418 non-null    object \n",
      " 4   Age          332 non-null    float64\n",
      " 5   SibSp        418 non-null    int64  \n",
      " 6   Parch        418 non-null    int64  \n",
      " 7   Ticket       418 non-null    object \n",
      " 8   Fare         417 non-null    float64\n",
      " 9   Cabin        91 non-null     object \n",
      " 10  Embarked     418 non-null    object \n",
      "dtypes: float64(2), int64(4), object(5)\n",
      "memory usage: 36.1+ KB\n"
     ]
    }
   ],
   "execution_count": 2
  },
  {
   "metadata": {},
   "cell_type": "markdown",
   "source": "## Pré Processamento",
   "id": "9fc037fda2f30093"
  },
  {
   "metadata": {},
   "cell_type": "markdown",
   "source": "### Pronomes",
   "id": "4bc767818cabff7c"
  },
  {
   "metadata": {
    "ExecuteTime": {
     "end_time": "2024-09-25T23:46:08.702951Z",
     "start_time": "2024-09-25T23:46:08.700393Z"
    }
   },
   "cell_type": "code",
   "source": [
    "def pega_pronome_tratamento(entrada):\n",
    "    # A entrada deve ser um dataframe. Pega o Mr. Mrs. e coloca em coluna própria\n",
    "    pronome_tratamento = re.search(r' ([A-Za-z]+)\\.',entrada)\n",
    "    if pronome_tratamento:\n",
    "        return pronome_tratamento.group(1)\n",
    "    return \"\"\n",
    "\n",
    "df_teste['Pronome'] = df_teste['Name'].apply(pega_pronome_tratamento)"
   ],
   "id": "b01c93721b8f6d07",
   "outputs": [],
   "execution_count": 3
  },
  {
   "metadata": {},
   "cell_type": "markdown",
   "source": "## Estoicismo",
   "id": "8cc250366cb99a74"
  },
  {
   "metadata": {
    "ExecuteTime": {
     "end_time": "2024-09-25T23:46:08.747800Z",
     "start_time": "2024-09-25T23:46:08.745091Z"
    }
   },
   "cell_type": "code",
   "source": [
    "estoicismo = {\n",
    "    'Capt': 5,\n",
    "    'Col': 3,\n",
    "    'Countess': 1,\n",
    "    'Don': 5,\n",
    "    'Dr': 3,\n",
    "    'Jonkheer': 5,\n",
    "    'Lady': 1,\n",
    "    'Major': 3,\n",
    "    'Master': 3,\n",
    "    'Miss': 4,\n",
    "    'Mlle': 1,\n",
    "    'Mme': 1,\n",
    "    'Mr': 2,\n",
    "    'Mrs': 2,\n",
    "    'Ms': 1,\n",
    "    'Rev': 5,\n",
    "    'Sir': 1\n",
    "}\n",
    "df_teste['Aval_Pronome'] = df_teste[\"Pronome\"].apply(lambda x: estoicismo.get(x))"
   ],
   "id": "fc3bd2b233a2cdf2",
   "outputs": [],
   "execution_count": 4
  },
  {
   "metadata": {},
   "cell_type": "markdown",
   "source": "## Porto de Embarque",
   "id": "dc906e96d9cf9d09"
  },
  {
   "metadata": {
    "ExecuteTime": {
     "end_time": "2024-09-25T23:46:08.803754Z",
     "start_time": "2024-09-25T23:46:08.800124Z"
    }
   },
   "cell_type": "code",
   "source": [
    "# Nao ha pelo visto sujeira nessa parte\n",
    "df_teste[\"Embarked\"].unique()"
   ],
   "id": "6d085925ce9341b9",
   "outputs": [
    {
     "data": {
      "text/plain": [
       "array(['Q', 'S', 'C'], dtype=object)"
      ]
     },
     "execution_count": 5,
     "metadata": {},
     "output_type": "execute_result"
    }
   ],
   "execution_count": 5
  },
  {
   "metadata": {
    "ExecuteTime": {
     "end_time": "2024-09-25T23:46:08.856510Z",
     "start_time": "2024-09-25T23:46:08.854179Z"
    }
   },
   "cell_type": "code",
   "source": [
    "# Transforma o código do porto de embarque em escalar.\n",
    "le = LabelEncoder()\n",
    "df_teste[\"cod_embarque\"] = le.fit_transform(df_teste['Embarked'])"
   ],
   "id": "c5544f51142ff429",
   "outputs": [],
   "execution_count": 6
  },
  {
   "metadata": {},
   "cell_type": "markdown",
   "source": "## Valor do Ticket",
   "id": "c1bc37948f3f1e2d"
  },
  {
   "metadata": {
    "ExecuteTime": {
     "end_time": "2024-09-25T23:46:08.912863Z",
     "start_time": "2024-09-25T23:46:08.905289Z"
    }
   },
   "cell_type": "code",
   "source": [
    "df_teste[\"FixedFare\"] = df_teste[\"Fare\"]/(df_teste[\"SibSp\"] + df_teste[\"Parch\"] + 1)\n",
    "df_teste[\"FixedFare\"] = df_teste[\"FixedFare\"].apply(np.round)"
   ],
   "id": "1cc9a902b2f55527",
   "outputs": [],
   "execution_count": 7
  },
  {
   "metadata": {},
   "cell_type": "markdown",
   "source": "## Idade",
   "id": "8aeeadbf98455ecc"
  },
  {
   "metadata": {
    "ExecuteTime": {
     "end_time": "2024-09-25T23:46:08.976382Z",
     "start_time": "2024-09-25T23:46:08.965883Z"
    }
   },
   "cell_type": "code",
   "source": [
    "# Pega a média das idades por pronome\n",
    "pronomes = df_teste[\"Pronome\"].unique()\n",
    "\n",
    "# Pega a mediana por pronome\n",
    "mediana = {}\n",
    "for pronome in pronomes:\n",
    "    mediana[pronome] = df_teste[\"Age\"][df_teste[\"Pronome\"] == pronome].median()\n",
    "\n",
    "# Preenche as idades em branco com a media das idades para aquele pronome\n",
    "df_teste['Age'] = df_teste.apply(lambda x: mediana[x['Pronome']] if pd.isna(x['Age']) else x['Age'], axis=1)\n",
    "\n",
    "# se depois de preencher em branco nao melhorou\n",
    "df_teste[\"Age\"] = df_teste[\"Age\"].fillna(df_teste[\"Age\"].median())\n",
    "\n",
    "# Converte para inteiro\n",
    "df_teste[\"Age\"] = df_teste[\"Age\"].astype(int)\n",
    "\n",
    "df_teste[\"classe_idade\"] = pd.cut(df_teste[\"Age\"], bins=[-np.inf,5,10,13,60,np.inf], labels=[\"Colo\",\"Nova\",\"Jovem\",\"Adulto\", \"Idoso\"])"
   ],
   "id": "5523757a3651a002",
   "outputs": [],
   "execution_count": 8
  },
  {
   "metadata": {},
   "cell_type": "markdown",
   "source": "## Categorias de idade",
   "id": "b6a949da18b91641"
  },
  {
   "metadata": {
    "ExecuteTime": {
     "end_time": "2024-09-25T23:46:09.019113Z",
     "start_time": "2024-09-25T23:46:09.016579Z"
    }
   },
   "cell_type": "code",
   "source": [
    "# Essa etapa pode ser suprimida, mas dificulta a legibilidade do caderno\n",
    "cat_idades  = {\n",
    "    'Colo': 1,\n",
    "    'Nova': 2,\n",
    "    'Jovem': 3,\n",
    "    'Adulto': 4,\n",
    "    'Idoso': 5,    \n",
    "}\n",
    "\n",
    "df_teste[\"classe_idade\"] = df_teste[\"classe_idade\"].map(cat_idades)"
   ],
   "id": "9099672122065c7e",
   "outputs": [],
   "execution_count": 9
  },
  {
   "metadata": {},
   "cell_type": "markdown",
   "source": "## Sexo",
   "id": "840fb571c7fb763"
  },
  {
   "metadata": {
    "ExecuteTime": {
     "end_time": "2024-09-26T02:30:02.925513Z",
     "start_time": "2024-09-26T02:30:02.922842Z"
    }
   },
   "cell_type": "code",
   "source": "df_teste[\"Sex\"] = df_teste[\"Sex\"].map({'male':1,'female':0})",
   "id": "6463c66ad4ac0e75",
   "outputs": [],
   "execution_count": 11
  },
  {
   "metadata": {},
   "cell_type": "markdown",
   "source": "## Sozinho",
   "id": "990323c2ec2f5e29"
  },
  {
   "metadata": {
    "ExecuteTime": {
     "end_time": "2024-09-26T02:30:44.468484Z",
     "start_time": "2024-09-26T02:30:44.460468Z"
    }
   },
   "cell_type": "code",
   "source": "df_teste[\"Sozinho\"] = np.where(df_teste[\"SibSp\"]+df_teste[\"Parch\"]==0,1,0)",
   "id": "dc9d4cc510f3ebfd",
   "outputs": [],
   "execution_count": 12
  },
  {
   "metadata": {},
   "cell_type": "markdown",
   "source": "## Limpeza",
   "id": "5434f986ecd19316"
  },
  {
   "metadata": {},
   "cell_type": "code",
   "outputs": [],
   "execution_count": null,
   "source": "df_teste.drop([\"PassengerId\",\"Name\",\"Ticket\",\"Cabin\",\"Embarked\", \"Pronome\"], axis=1, inplace=True)\n",
   "id": "9e2f353cad1d08c2"
  },
  {
   "metadata": {},
   "cell_type": "markdown",
   "source": "## Mudancas menores",
   "id": "d2ef70d52015fc01"
  },
  {
   "metadata": {
    "ExecuteTime": {
     "end_time": "2024-09-26T02:33:07.248217Z",
     "start_time": "2024-09-26T02:33:06.951500Z"
    }
   },
   "cell_type": "code",
   "source": [
    "# Converter moeda para inteiro pra ajudar na eficiência do SVM\n",
    "df_teste[\"Fare\"] = df_teste[\"Fare\"].astype(int)\n",
    "#df_treino[\"FixedFare\"] = df_treino[\"FixedFare\"].astype(int)"
   ],
   "id": "b91fba271fca288c",
   "outputs": [
    {
     "ename": "IntCastingNaNError",
     "evalue": "Cannot convert non-finite values (NA or inf) to integer",
     "output_type": "error",
     "traceback": [
      "\u001B[0;31m---------------------------------------------------------------------------\u001B[0m",
      "\u001B[0;31mIntCastingNaNError\u001B[0m                        Traceback (most recent call last)",
      "Cell \u001B[0;32mIn[14], line 2\u001B[0m\n\u001B[1;32m      1\u001B[0m \u001B[38;5;66;03m# Converter moeda para inteiro pra ajudar na eficiência do SVM\u001B[39;00m\n\u001B[0;32m----> 2\u001B[0m df_teste[\u001B[38;5;124m\"\u001B[39m\u001B[38;5;124mFare\u001B[39m\u001B[38;5;124m\"\u001B[39m] \u001B[38;5;241m=\u001B[39m \u001B[43mdf_teste\u001B[49m\u001B[43m[\u001B[49m\u001B[38;5;124;43m\"\u001B[39;49m\u001B[38;5;124;43mFare\u001B[39;49m\u001B[38;5;124;43m\"\u001B[39;49m\u001B[43m]\u001B[49m\u001B[38;5;241;43m.\u001B[39;49m\u001B[43mastype\u001B[49m\u001B[43m(\u001B[49m\u001B[38;5;28;43mint\u001B[39;49m\u001B[43m)\u001B[49m\n\u001B[1;32m      3\u001B[0m \u001B[38;5;66;03m#df_treino[\"FixedFare\"] = df_treino[\"FixedFare\"].astype(int)\u001B[39;00m\n",
      "File \u001B[0;32m~/Projects/rough-on-rats/env/lib/python3.12/site-packages/pandas/core/generic.py:6643\u001B[0m, in \u001B[0;36mNDFrame.astype\u001B[0;34m(self, dtype, copy, errors)\u001B[0m\n\u001B[1;32m   6637\u001B[0m     results \u001B[38;5;241m=\u001B[39m [\n\u001B[1;32m   6638\u001B[0m         ser\u001B[38;5;241m.\u001B[39mastype(dtype, copy\u001B[38;5;241m=\u001B[39mcopy, errors\u001B[38;5;241m=\u001B[39merrors) \u001B[38;5;28;01mfor\u001B[39;00m _, ser \u001B[38;5;129;01min\u001B[39;00m \u001B[38;5;28mself\u001B[39m\u001B[38;5;241m.\u001B[39mitems()\n\u001B[1;32m   6639\u001B[0m     ]\n\u001B[1;32m   6641\u001B[0m \u001B[38;5;28;01melse\u001B[39;00m:\n\u001B[1;32m   6642\u001B[0m     \u001B[38;5;66;03m# else, only a single dtype is given\u001B[39;00m\n\u001B[0;32m-> 6643\u001B[0m     new_data \u001B[38;5;241m=\u001B[39m \u001B[38;5;28;43mself\u001B[39;49m\u001B[38;5;241;43m.\u001B[39;49m\u001B[43m_mgr\u001B[49m\u001B[38;5;241;43m.\u001B[39;49m\u001B[43mastype\u001B[49m\u001B[43m(\u001B[49m\u001B[43mdtype\u001B[49m\u001B[38;5;241;43m=\u001B[39;49m\u001B[43mdtype\u001B[49m\u001B[43m,\u001B[49m\u001B[43m \u001B[49m\u001B[43mcopy\u001B[49m\u001B[38;5;241;43m=\u001B[39;49m\u001B[43mcopy\u001B[49m\u001B[43m,\u001B[49m\u001B[43m \u001B[49m\u001B[43merrors\u001B[49m\u001B[38;5;241;43m=\u001B[39;49m\u001B[43merrors\u001B[49m\u001B[43m)\u001B[49m\n\u001B[1;32m   6644\u001B[0m     res \u001B[38;5;241m=\u001B[39m \u001B[38;5;28mself\u001B[39m\u001B[38;5;241m.\u001B[39m_constructor_from_mgr(new_data, axes\u001B[38;5;241m=\u001B[39mnew_data\u001B[38;5;241m.\u001B[39maxes)\n\u001B[1;32m   6645\u001B[0m     \u001B[38;5;28;01mreturn\u001B[39;00m res\u001B[38;5;241m.\u001B[39m__finalize__(\u001B[38;5;28mself\u001B[39m, method\u001B[38;5;241m=\u001B[39m\u001B[38;5;124m\"\u001B[39m\u001B[38;5;124mastype\u001B[39m\u001B[38;5;124m\"\u001B[39m)\n",
      "File \u001B[0;32m~/Projects/rough-on-rats/env/lib/python3.12/site-packages/pandas/core/internals/managers.py:430\u001B[0m, in \u001B[0;36mBaseBlockManager.astype\u001B[0;34m(self, dtype, copy, errors)\u001B[0m\n\u001B[1;32m    427\u001B[0m \u001B[38;5;28;01melif\u001B[39;00m using_copy_on_write():\n\u001B[1;32m    428\u001B[0m     copy \u001B[38;5;241m=\u001B[39m \u001B[38;5;28;01mFalse\u001B[39;00m\n\u001B[0;32m--> 430\u001B[0m \u001B[38;5;28;01mreturn\u001B[39;00m \u001B[38;5;28;43mself\u001B[39;49m\u001B[38;5;241;43m.\u001B[39;49m\u001B[43mapply\u001B[49m\u001B[43m(\u001B[49m\n\u001B[1;32m    431\u001B[0m \u001B[43m    \u001B[49m\u001B[38;5;124;43m\"\u001B[39;49m\u001B[38;5;124;43mastype\u001B[39;49m\u001B[38;5;124;43m\"\u001B[39;49m\u001B[43m,\u001B[49m\n\u001B[1;32m    432\u001B[0m \u001B[43m    \u001B[49m\u001B[43mdtype\u001B[49m\u001B[38;5;241;43m=\u001B[39;49m\u001B[43mdtype\u001B[49m\u001B[43m,\u001B[49m\n\u001B[1;32m    433\u001B[0m \u001B[43m    \u001B[49m\u001B[43mcopy\u001B[49m\u001B[38;5;241;43m=\u001B[39;49m\u001B[43mcopy\u001B[49m\u001B[43m,\u001B[49m\n\u001B[1;32m    434\u001B[0m \u001B[43m    \u001B[49m\u001B[43merrors\u001B[49m\u001B[38;5;241;43m=\u001B[39;49m\u001B[43merrors\u001B[49m\u001B[43m,\u001B[49m\n\u001B[1;32m    435\u001B[0m \u001B[43m    \u001B[49m\u001B[43musing_cow\u001B[49m\u001B[38;5;241;43m=\u001B[39;49m\u001B[43musing_copy_on_write\u001B[49m\u001B[43m(\u001B[49m\u001B[43m)\u001B[49m\u001B[43m,\u001B[49m\n\u001B[1;32m    436\u001B[0m \u001B[43m\u001B[49m\u001B[43m)\u001B[49m\n",
      "File \u001B[0;32m~/Projects/rough-on-rats/env/lib/python3.12/site-packages/pandas/core/internals/managers.py:363\u001B[0m, in \u001B[0;36mBaseBlockManager.apply\u001B[0;34m(self, f, align_keys, **kwargs)\u001B[0m\n\u001B[1;32m    361\u001B[0m         applied \u001B[38;5;241m=\u001B[39m b\u001B[38;5;241m.\u001B[39mapply(f, \u001B[38;5;241m*\u001B[39m\u001B[38;5;241m*\u001B[39mkwargs)\n\u001B[1;32m    362\u001B[0m     \u001B[38;5;28;01melse\u001B[39;00m:\n\u001B[0;32m--> 363\u001B[0m         applied \u001B[38;5;241m=\u001B[39m \u001B[38;5;28;43mgetattr\u001B[39;49m\u001B[43m(\u001B[49m\u001B[43mb\u001B[49m\u001B[43m,\u001B[49m\u001B[43m \u001B[49m\u001B[43mf\u001B[49m\u001B[43m)\u001B[49m\u001B[43m(\u001B[49m\u001B[38;5;241;43m*\u001B[39;49m\u001B[38;5;241;43m*\u001B[39;49m\u001B[43mkwargs\u001B[49m\u001B[43m)\u001B[49m\n\u001B[1;32m    364\u001B[0m     result_blocks \u001B[38;5;241m=\u001B[39m extend_blocks(applied, result_blocks)\n\u001B[1;32m    366\u001B[0m out \u001B[38;5;241m=\u001B[39m \u001B[38;5;28mtype\u001B[39m(\u001B[38;5;28mself\u001B[39m)\u001B[38;5;241m.\u001B[39mfrom_blocks(result_blocks, \u001B[38;5;28mself\u001B[39m\u001B[38;5;241m.\u001B[39maxes)\n",
      "File \u001B[0;32m~/Projects/rough-on-rats/env/lib/python3.12/site-packages/pandas/core/internals/blocks.py:758\u001B[0m, in \u001B[0;36mBlock.astype\u001B[0;34m(self, dtype, copy, errors, using_cow, squeeze)\u001B[0m\n\u001B[1;32m    755\u001B[0m         \u001B[38;5;28;01mraise\u001B[39;00m \u001B[38;5;167;01mValueError\u001B[39;00m(\u001B[38;5;124m\"\u001B[39m\u001B[38;5;124mCan not squeeze with more than one column.\u001B[39m\u001B[38;5;124m\"\u001B[39m)\n\u001B[1;32m    756\u001B[0m     values \u001B[38;5;241m=\u001B[39m values[\u001B[38;5;241m0\u001B[39m, :]  \u001B[38;5;66;03m# type: ignore[call-overload]\u001B[39;00m\n\u001B[0;32m--> 758\u001B[0m new_values \u001B[38;5;241m=\u001B[39m \u001B[43mastype_array_safe\u001B[49m\u001B[43m(\u001B[49m\u001B[43mvalues\u001B[49m\u001B[43m,\u001B[49m\u001B[43m \u001B[49m\u001B[43mdtype\u001B[49m\u001B[43m,\u001B[49m\u001B[43m \u001B[49m\u001B[43mcopy\u001B[49m\u001B[38;5;241;43m=\u001B[39;49m\u001B[43mcopy\u001B[49m\u001B[43m,\u001B[49m\u001B[43m \u001B[49m\u001B[43merrors\u001B[49m\u001B[38;5;241;43m=\u001B[39;49m\u001B[43merrors\u001B[49m\u001B[43m)\u001B[49m\n\u001B[1;32m    760\u001B[0m new_values \u001B[38;5;241m=\u001B[39m maybe_coerce_values(new_values)\n\u001B[1;32m    762\u001B[0m refs \u001B[38;5;241m=\u001B[39m \u001B[38;5;28;01mNone\u001B[39;00m\n",
      "File \u001B[0;32m~/Projects/rough-on-rats/env/lib/python3.12/site-packages/pandas/core/dtypes/astype.py:237\u001B[0m, in \u001B[0;36mastype_array_safe\u001B[0;34m(values, dtype, copy, errors)\u001B[0m\n\u001B[1;32m    234\u001B[0m     dtype \u001B[38;5;241m=\u001B[39m dtype\u001B[38;5;241m.\u001B[39mnumpy_dtype\n\u001B[1;32m    236\u001B[0m \u001B[38;5;28;01mtry\u001B[39;00m:\n\u001B[0;32m--> 237\u001B[0m     new_values \u001B[38;5;241m=\u001B[39m \u001B[43mastype_array\u001B[49m\u001B[43m(\u001B[49m\u001B[43mvalues\u001B[49m\u001B[43m,\u001B[49m\u001B[43m \u001B[49m\u001B[43mdtype\u001B[49m\u001B[43m,\u001B[49m\u001B[43m \u001B[49m\u001B[43mcopy\u001B[49m\u001B[38;5;241;43m=\u001B[39;49m\u001B[43mcopy\u001B[49m\u001B[43m)\u001B[49m\n\u001B[1;32m    238\u001B[0m \u001B[38;5;28;01mexcept\u001B[39;00m (\u001B[38;5;167;01mValueError\u001B[39;00m, \u001B[38;5;167;01mTypeError\u001B[39;00m):\n\u001B[1;32m    239\u001B[0m     \u001B[38;5;66;03m# e.g. _astype_nansafe can fail on object-dtype of strings\u001B[39;00m\n\u001B[1;32m    240\u001B[0m     \u001B[38;5;66;03m#  trying to convert to float\u001B[39;00m\n\u001B[1;32m    241\u001B[0m     \u001B[38;5;28;01mif\u001B[39;00m errors \u001B[38;5;241m==\u001B[39m \u001B[38;5;124m\"\u001B[39m\u001B[38;5;124mignore\u001B[39m\u001B[38;5;124m\"\u001B[39m:\n",
      "File \u001B[0;32m~/Projects/rough-on-rats/env/lib/python3.12/site-packages/pandas/core/dtypes/astype.py:182\u001B[0m, in \u001B[0;36mastype_array\u001B[0;34m(values, dtype, copy)\u001B[0m\n\u001B[1;32m    179\u001B[0m     values \u001B[38;5;241m=\u001B[39m values\u001B[38;5;241m.\u001B[39mastype(dtype, copy\u001B[38;5;241m=\u001B[39mcopy)\n\u001B[1;32m    181\u001B[0m \u001B[38;5;28;01melse\u001B[39;00m:\n\u001B[0;32m--> 182\u001B[0m     values \u001B[38;5;241m=\u001B[39m \u001B[43m_astype_nansafe\u001B[49m\u001B[43m(\u001B[49m\u001B[43mvalues\u001B[49m\u001B[43m,\u001B[49m\u001B[43m \u001B[49m\u001B[43mdtype\u001B[49m\u001B[43m,\u001B[49m\u001B[43m \u001B[49m\u001B[43mcopy\u001B[49m\u001B[38;5;241;43m=\u001B[39;49m\u001B[43mcopy\u001B[49m\u001B[43m)\u001B[49m\n\u001B[1;32m    184\u001B[0m \u001B[38;5;66;03m# in pandas we don't store numpy str dtypes, so convert to object\u001B[39;00m\n\u001B[1;32m    185\u001B[0m \u001B[38;5;28;01mif\u001B[39;00m \u001B[38;5;28misinstance\u001B[39m(dtype, np\u001B[38;5;241m.\u001B[39mdtype) \u001B[38;5;129;01mand\u001B[39;00m \u001B[38;5;28missubclass\u001B[39m(values\u001B[38;5;241m.\u001B[39mdtype\u001B[38;5;241m.\u001B[39mtype, \u001B[38;5;28mstr\u001B[39m):\n",
      "File \u001B[0;32m~/Projects/rough-on-rats/env/lib/python3.12/site-packages/pandas/core/dtypes/astype.py:101\u001B[0m, in \u001B[0;36m_astype_nansafe\u001B[0;34m(arr, dtype, copy, skipna)\u001B[0m\n\u001B[1;32m     96\u001B[0m     \u001B[38;5;28;01mreturn\u001B[39;00m lib\u001B[38;5;241m.\u001B[39mensure_string_array(\n\u001B[1;32m     97\u001B[0m         arr, skipna\u001B[38;5;241m=\u001B[39mskipna, convert_na_value\u001B[38;5;241m=\u001B[39m\u001B[38;5;28;01mFalse\u001B[39;00m\n\u001B[1;32m     98\u001B[0m     )\u001B[38;5;241m.\u001B[39mreshape(shape)\n\u001B[1;32m    100\u001B[0m \u001B[38;5;28;01melif\u001B[39;00m np\u001B[38;5;241m.\u001B[39missubdtype(arr\u001B[38;5;241m.\u001B[39mdtype, np\u001B[38;5;241m.\u001B[39mfloating) \u001B[38;5;129;01mand\u001B[39;00m dtype\u001B[38;5;241m.\u001B[39mkind \u001B[38;5;129;01min\u001B[39;00m \u001B[38;5;124m\"\u001B[39m\u001B[38;5;124miu\u001B[39m\u001B[38;5;124m\"\u001B[39m:\n\u001B[0;32m--> 101\u001B[0m     \u001B[38;5;28;01mreturn\u001B[39;00m \u001B[43m_astype_float_to_int_nansafe\u001B[49m\u001B[43m(\u001B[49m\u001B[43marr\u001B[49m\u001B[43m,\u001B[49m\u001B[43m \u001B[49m\u001B[43mdtype\u001B[49m\u001B[43m,\u001B[49m\u001B[43m \u001B[49m\u001B[43mcopy\u001B[49m\u001B[43m)\u001B[49m\n\u001B[1;32m    103\u001B[0m \u001B[38;5;28;01melif\u001B[39;00m arr\u001B[38;5;241m.\u001B[39mdtype \u001B[38;5;241m==\u001B[39m \u001B[38;5;28mobject\u001B[39m:\n\u001B[1;32m    104\u001B[0m     \u001B[38;5;66;03m# if we have a datetime/timedelta array of objects\u001B[39;00m\n\u001B[1;32m    105\u001B[0m     \u001B[38;5;66;03m# then coerce to datetime64[ns] and use DatetimeArray.astype\u001B[39;00m\n\u001B[1;32m    107\u001B[0m     \u001B[38;5;28;01mif\u001B[39;00m lib\u001B[38;5;241m.\u001B[39mis_np_dtype(dtype, \u001B[38;5;124m\"\u001B[39m\u001B[38;5;124mM\u001B[39m\u001B[38;5;124m\"\u001B[39m):\n",
      "File \u001B[0;32m~/Projects/rough-on-rats/env/lib/python3.12/site-packages/pandas/core/dtypes/astype.py:145\u001B[0m, in \u001B[0;36m_astype_float_to_int_nansafe\u001B[0;34m(values, dtype, copy)\u001B[0m\n\u001B[1;32m    141\u001B[0m \u001B[38;5;250m\u001B[39m\u001B[38;5;124;03m\"\"\"\u001B[39;00m\n\u001B[1;32m    142\u001B[0m \u001B[38;5;124;03mastype with a check preventing converting NaN to an meaningless integer value.\u001B[39;00m\n\u001B[1;32m    143\u001B[0m \u001B[38;5;124;03m\"\"\"\u001B[39;00m\n\u001B[1;32m    144\u001B[0m \u001B[38;5;28;01mif\u001B[39;00m \u001B[38;5;129;01mnot\u001B[39;00m np\u001B[38;5;241m.\u001B[39misfinite(values)\u001B[38;5;241m.\u001B[39mall():\n\u001B[0;32m--> 145\u001B[0m     \u001B[38;5;28;01mraise\u001B[39;00m IntCastingNaNError(\n\u001B[1;32m    146\u001B[0m         \u001B[38;5;124m\"\u001B[39m\u001B[38;5;124mCannot convert non-finite values (NA or inf) to integer\u001B[39m\u001B[38;5;124m\"\u001B[39m\n\u001B[1;32m    147\u001B[0m     )\n\u001B[1;32m    148\u001B[0m \u001B[38;5;28;01mif\u001B[39;00m dtype\u001B[38;5;241m.\u001B[39mkind \u001B[38;5;241m==\u001B[39m \u001B[38;5;124m\"\u001B[39m\u001B[38;5;124mu\u001B[39m\u001B[38;5;124m\"\u001B[39m:\n\u001B[1;32m    149\u001B[0m     \u001B[38;5;66;03m# GH#45151\u001B[39;00m\n\u001B[1;32m    150\u001B[0m     \u001B[38;5;28;01mif\u001B[39;00m \u001B[38;5;129;01mnot\u001B[39;00m (values \u001B[38;5;241m>\u001B[39m\u001B[38;5;241m=\u001B[39m \u001B[38;5;241m0\u001B[39m)\u001B[38;5;241m.\u001B[39mall():\n",
      "\u001B[0;31mIntCastingNaNError\u001B[0m: Cannot convert non-finite values (NA or inf) to integer"
     ]
    }
   ],
   "execution_count": 14
  },
  {
   "metadata": {
    "ExecuteTime": {
     "end_time": "2024-09-26T02:34:13.135723Z",
     "start_time": "2024-09-26T02:34:13.131157Z"
    }
   },
   "cell_type": "code",
   "source": "df_teste.isna().sum(axis=0).sort_values(ascending=False)",
   "id": "bd45828059df8936",
   "outputs": [
    {
     "data": {
      "text/plain": [
       "Cabin           327\n",
       "Aval_Pronome      1\n",
       "Fare              1\n",
       "FixedFare         1\n",
       "PassengerId       0\n",
       "Age               0\n",
       "Pclass            0\n",
       "Sex               0\n",
       "Name              0\n",
       "Ticket            0\n",
       "Parch             0\n",
       "SibSp             0\n",
       "Embarked          0\n",
       "Pronome           0\n",
       "cod_embarque      0\n",
       "classe_idade      0\n",
       "Sozinho           0\n",
       "dtype: int64"
      ]
     },
     "execution_count": 17,
     "metadata": {},
     "output_type": "execute_result"
    }
   ],
   "execution_count": 17
  },
  {
   "metadata": {},
   "cell_type": "code",
   "outputs": [],
   "execution_count": null,
   "source": "",
   "id": "5ac5de5e7de41b5e"
  }
 ],
 "metadata": {
  "kernelspec": {
   "display_name": "Python 3",
   "language": "python",
   "name": "python3"
  },
  "language_info": {
   "codemirror_mode": {
    "name": "ipython",
    "version": 2
   },
   "file_extension": ".py",
   "mimetype": "text/x-python",
   "name": "python",
   "nbconvert_exporter": "python",
   "pygments_lexer": "ipython2",
   "version": "2.7.6"
  }
 },
 "nbformat": 4,
 "nbformat_minor": 5
}
