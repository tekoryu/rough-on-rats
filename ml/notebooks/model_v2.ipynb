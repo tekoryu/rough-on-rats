{
 "cells": [
  {
   "metadata": {},
   "cell_type": "markdown",
   "source": "# Engenharia de Softwares Inteligentes - MVP - Titanic Challenge",
   "id": "5096018c1538fead"
  },
  {
   "metadata": {},
   "cell_type": "markdown",
   "source": [
    "Desafio, dados originais e detalhes da base disponiveis em:\n",
    "\n",
    "https://www.kaggle.com/competitions/titanic"
   ],
   "id": "bbb1328e10f52cbf"
  },
  {
   "metadata": {},
   "cell_type": "markdown",
   "source": [
    "## Descrição\n",
    "A base de dados utilizada é parte do _Titanic Challenge_, famoso desafio permanente do Kaggle.com para Machine Learning. O objetivo é que, a partir dos dados pessoais e de viagem de cada um dos passageiros do RMS Titanic, seja possível determinar a sobrevivência de cada um deles. Pela natureza subjetiva da escolha dos que teriam ou não acesso aos botes, não é possível estabelecer uma correlação plena, e valores muito elevados normalmente são sinais de que o teste estaria sobreajustado (overfitting). Contudo, a ordem inicial de carregamento dos botes foi dada por poucas pessoas ou uma única, o que nos permite deduzir um padrao. Serão criadas classes para demonstrar o potencial da utilização de boas práticas em Engenharia de Software. As classes servirão também para tratar dados fornecidos pelo usuário, que serão testados contra o modelo.<br>\n",
    "Colunas:\n",
    "-  Survival: Se a pessoa sobreviveu. Será nosso target.\n",
    "-  Pclass: [1,2,3] Primeira, Segunda e Terceira Classe\n",
    "-  Sex: Sexo do Passageiro\n",
    "-  Age: Idade\n",
    "-  SibSP: Irmãos e Conjuges\n",
    "-  Parch: Filhos ou Pais\n",
    "-  Ticket: Contem codigos que nao consegui explicar a natureza\n",
    "-  Fare: Valor do ingresso\n",
    "-  Cabin: Número da Cabine\n",
    "-  Embarked: Inicial do porto de embarque. <br>"
   ],
   "id": "bb3e2980beff12b2"
  },
  {
   "metadata": {},
   "cell_type": "markdown",
   "source": "## Etapa I - Carga e Processamento dos Dados",
   "id": "2c211164cc1ee495"
  },
  {
   "metadata": {
    "ExecuteTime": {
     "end_time": "2024-09-25T17:34:27.582453Z",
     "start_time": "2024-09-25T17:34:27.579654Z"
    }
   },
   "cell_type": "code",
   "source": [
    "# Configurações do notebook dentre outros\n",
    "import warnings\n",
    "warnings.filterwarnings(\"ignore\")\n",
    "from IPython.display import display, Markdown\n",
    "\n",
    "# Imports gerais\n",
    "import re\n",
    "import pandas as pd\n",
    "import numpy as np\n",
    "import seaborn as sns\n",
    "import matplotlib.pyplot as plt\n",
    "import pickle\n",
    "\n",
    "# Imports específicos do Scikit-lean\n",
    "from sklearn.preprocessing import StandardScaler\n",
    "from sklearn.preprocessing import MinMaxScaler\n",
    "from sklearn.model_selection import train_test_split\n",
    "from sklearn.model_selection import StratifiedKFold\n",
    "from sklearn.preprocessing import LabelEncoder\n",
    "from sklearn.model_selection import GridSearchCV\n",
    "from sklearn.metrics import accuracy_score\n",
    "from sklearn.pipeline import Pipeline\n",
    "from sklearn.linear_model import LogisticRegression\n",
    "from sklearn.tree import DecisionTreeClassifier\n",
    "from sklearn.neighbors import KNeighborsClassifier\n",
    "from sklearn.naive_bayes import GaussianNB\n",
    "from sklearn.svm import SVC\n",
    "from sklearn.ensemble import BaggingClassifier\n",
    "from sklearn.ensemble import RandomForestClassifier\n",
    "from sklearn.ensemble import ExtraTreesClassifier\n",
    "from sklearn.ensemble import VotingClassifier\n",
    "from sklearn.ensemble import AdaBoostClassifier\n",
    "from sklearn.ensemble import GradientBoostingClassifier\n",
    "from sklearn.model_selection import cross_val_score"
   ],
   "id": "a9fde657b52c6598",
   "outputs": [],
   "execution_count": 5
  },
  {
   "metadata": {
    "ExecuteTime": {
     "end_time": "2024-09-25T17:34:28.288056Z",
     "start_time": "2024-09-25T17:34:27.610867Z"
    }
   },
   "cell_type": "code",
   "source": [
    "# Arquivos do Kaggle\n",
    "url = \"https://raw.githubusercontent.com/tekoryu/rough-on-rats/main/ml/data/titanic/train.csv\"\n",
    "\n",
    "# Carga no Pandas\n",
    "df_treino = pd.read_csv(url, delimiter=',')"
   ],
   "id": "f2b7326bf4fcf42c",
   "outputs": [
    {
     "ename": "HTTPError",
     "evalue": "HTTP Error 404: Not Found",
     "output_type": "error",
     "traceback": [
      "\u001B[0;31m---------------------------------------------------------------------------\u001B[0m",
      "\u001B[0;31mHTTPError\u001B[0m                                 Traceback (most recent call last)",
      "Cell \u001B[0;32mIn[6], line 5\u001B[0m\n\u001B[1;32m      2\u001B[0m url \u001B[38;5;241m=\u001B[39m \u001B[38;5;124m\"\u001B[39m\u001B[38;5;124mhttps://raw.githubusercontent.com/tekoryu/rough-on-rats/main/ml/data/titanic/train.csv\u001B[39m\u001B[38;5;124m\"\u001B[39m\n\u001B[1;32m      4\u001B[0m \u001B[38;5;66;03m# Carga no Pandas\u001B[39;00m\n\u001B[0;32m----> 5\u001B[0m df_treino \u001B[38;5;241m=\u001B[39m \u001B[43mpd\u001B[49m\u001B[38;5;241;43m.\u001B[39;49m\u001B[43mread_csv\u001B[49m\u001B[43m(\u001B[49m\u001B[43murl\u001B[49m\u001B[43m,\u001B[49m\u001B[43m \u001B[49m\u001B[43mdelimiter\u001B[49m\u001B[38;5;241;43m=\u001B[39;49m\u001B[38;5;124;43m'\u001B[39;49m\u001B[38;5;124;43m,\u001B[39;49m\u001B[38;5;124;43m'\u001B[39;49m\u001B[43m)\u001B[49m\n",
      "File \u001B[0;32m~/Projects/rough-on-rats/env/lib/python3.12/site-packages/pandas/io/parsers/readers.py:1026\u001B[0m, in \u001B[0;36mread_csv\u001B[0;34m(filepath_or_buffer, sep, delimiter, header, names, index_col, usecols, dtype, engine, converters, true_values, false_values, skipinitialspace, skiprows, skipfooter, nrows, na_values, keep_default_na, na_filter, verbose, skip_blank_lines, parse_dates, infer_datetime_format, keep_date_col, date_parser, date_format, dayfirst, cache_dates, iterator, chunksize, compression, thousands, decimal, lineterminator, quotechar, quoting, doublequote, escapechar, comment, encoding, encoding_errors, dialect, on_bad_lines, delim_whitespace, low_memory, memory_map, float_precision, storage_options, dtype_backend)\u001B[0m\n\u001B[1;32m   1013\u001B[0m kwds_defaults \u001B[38;5;241m=\u001B[39m _refine_defaults_read(\n\u001B[1;32m   1014\u001B[0m     dialect,\n\u001B[1;32m   1015\u001B[0m     delimiter,\n\u001B[0;32m   (...)\u001B[0m\n\u001B[1;32m   1022\u001B[0m     dtype_backend\u001B[38;5;241m=\u001B[39mdtype_backend,\n\u001B[1;32m   1023\u001B[0m )\n\u001B[1;32m   1024\u001B[0m kwds\u001B[38;5;241m.\u001B[39mupdate(kwds_defaults)\n\u001B[0;32m-> 1026\u001B[0m \u001B[38;5;28;01mreturn\u001B[39;00m \u001B[43m_read\u001B[49m\u001B[43m(\u001B[49m\u001B[43mfilepath_or_buffer\u001B[49m\u001B[43m,\u001B[49m\u001B[43m \u001B[49m\u001B[43mkwds\u001B[49m\u001B[43m)\u001B[49m\n",
      "File \u001B[0;32m~/Projects/rough-on-rats/env/lib/python3.12/site-packages/pandas/io/parsers/readers.py:620\u001B[0m, in \u001B[0;36m_read\u001B[0;34m(filepath_or_buffer, kwds)\u001B[0m\n\u001B[1;32m    617\u001B[0m _validate_names(kwds\u001B[38;5;241m.\u001B[39mget(\u001B[38;5;124m\"\u001B[39m\u001B[38;5;124mnames\u001B[39m\u001B[38;5;124m\"\u001B[39m, \u001B[38;5;28;01mNone\u001B[39;00m))\n\u001B[1;32m    619\u001B[0m \u001B[38;5;66;03m# Create the parser.\u001B[39;00m\n\u001B[0;32m--> 620\u001B[0m parser \u001B[38;5;241m=\u001B[39m \u001B[43mTextFileReader\u001B[49m\u001B[43m(\u001B[49m\u001B[43mfilepath_or_buffer\u001B[49m\u001B[43m,\u001B[49m\u001B[43m \u001B[49m\u001B[38;5;241;43m*\u001B[39;49m\u001B[38;5;241;43m*\u001B[39;49m\u001B[43mkwds\u001B[49m\u001B[43m)\u001B[49m\n\u001B[1;32m    622\u001B[0m \u001B[38;5;28;01mif\u001B[39;00m chunksize \u001B[38;5;129;01mor\u001B[39;00m iterator:\n\u001B[1;32m    623\u001B[0m     \u001B[38;5;28;01mreturn\u001B[39;00m parser\n",
      "File \u001B[0;32m~/Projects/rough-on-rats/env/lib/python3.12/site-packages/pandas/io/parsers/readers.py:1620\u001B[0m, in \u001B[0;36mTextFileReader.__init__\u001B[0;34m(self, f, engine, **kwds)\u001B[0m\n\u001B[1;32m   1617\u001B[0m     \u001B[38;5;28mself\u001B[39m\u001B[38;5;241m.\u001B[39moptions[\u001B[38;5;124m\"\u001B[39m\u001B[38;5;124mhas_index_names\u001B[39m\u001B[38;5;124m\"\u001B[39m] \u001B[38;5;241m=\u001B[39m kwds[\u001B[38;5;124m\"\u001B[39m\u001B[38;5;124mhas_index_names\u001B[39m\u001B[38;5;124m\"\u001B[39m]\n\u001B[1;32m   1619\u001B[0m \u001B[38;5;28mself\u001B[39m\u001B[38;5;241m.\u001B[39mhandles: IOHandles \u001B[38;5;241m|\u001B[39m \u001B[38;5;28;01mNone\u001B[39;00m \u001B[38;5;241m=\u001B[39m \u001B[38;5;28;01mNone\u001B[39;00m\n\u001B[0;32m-> 1620\u001B[0m \u001B[38;5;28mself\u001B[39m\u001B[38;5;241m.\u001B[39m_engine \u001B[38;5;241m=\u001B[39m \u001B[38;5;28;43mself\u001B[39;49m\u001B[38;5;241;43m.\u001B[39;49m\u001B[43m_make_engine\u001B[49m\u001B[43m(\u001B[49m\u001B[43mf\u001B[49m\u001B[43m,\u001B[49m\u001B[43m \u001B[49m\u001B[38;5;28;43mself\u001B[39;49m\u001B[38;5;241;43m.\u001B[39;49m\u001B[43mengine\u001B[49m\u001B[43m)\u001B[49m\n",
      "File \u001B[0;32m~/Projects/rough-on-rats/env/lib/python3.12/site-packages/pandas/io/parsers/readers.py:1880\u001B[0m, in \u001B[0;36mTextFileReader._make_engine\u001B[0;34m(self, f, engine)\u001B[0m\n\u001B[1;32m   1878\u001B[0m     \u001B[38;5;28;01mif\u001B[39;00m \u001B[38;5;124m\"\u001B[39m\u001B[38;5;124mb\u001B[39m\u001B[38;5;124m\"\u001B[39m \u001B[38;5;129;01mnot\u001B[39;00m \u001B[38;5;129;01min\u001B[39;00m mode:\n\u001B[1;32m   1879\u001B[0m         mode \u001B[38;5;241m+\u001B[39m\u001B[38;5;241m=\u001B[39m \u001B[38;5;124m\"\u001B[39m\u001B[38;5;124mb\u001B[39m\u001B[38;5;124m\"\u001B[39m\n\u001B[0;32m-> 1880\u001B[0m \u001B[38;5;28mself\u001B[39m\u001B[38;5;241m.\u001B[39mhandles \u001B[38;5;241m=\u001B[39m \u001B[43mget_handle\u001B[49m\u001B[43m(\u001B[49m\n\u001B[1;32m   1881\u001B[0m \u001B[43m    \u001B[49m\u001B[43mf\u001B[49m\u001B[43m,\u001B[49m\n\u001B[1;32m   1882\u001B[0m \u001B[43m    \u001B[49m\u001B[43mmode\u001B[49m\u001B[43m,\u001B[49m\n\u001B[1;32m   1883\u001B[0m \u001B[43m    \u001B[49m\u001B[43mencoding\u001B[49m\u001B[38;5;241;43m=\u001B[39;49m\u001B[38;5;28;43mself\u001B[39;49m\u001B[38;5;241;43m.\u001B[39;49m\u001B[43moptions\u001B[49m\u001B[38;5;241;43m.\u001B[39;49m\u001B[43mget\u001B[49m\u001B[43m(\u001B[49m\u001B[38;5;124;43m\"\u001B[39;49m\u001B[38;5;124;43mencoding\u001B[39;49m\u001B[38;5;124;43m\"\u001B[39;49m\u001B[43m,\u001B[49m\u001B[43m \u001B[49m\u001B[38;5;28;43;01mNone\u001B[39;49;00m\u001B[43m)\u001B[49m\u001B[43m,\u001B[49m\n\u001B[1;32m   1884\u001B[0m \u001B[43m    \u001B[49m\u001B[43mcompression\u001B[49m\u001B[38;5;241;43m=\u001B[39;49m\u001B[38;5;28;43mself\u001B[39;49m\u001B[38;5;241;43m.\u001B[39;49m\u001B[43moptions\u001B[49m\u001B[38;5;241;43m.\u001B[39;49m\u001B[43mget\u001B[49m\u001B[43m(\u001B[49m\u001B[38;5;124;43m\"\u001B[39;49m\u001B[38;5;124;43mcompression\u001B[39;49m\u001B[38;5;124;43m\"\u001B[39;49m\u001B[43m,\u001B[49m\u001B[43m \u001B[49m\u001B[38;5;28;43;01mNone\u001B[39;49;00m\u001B[43m)\u001B[49m\u001B[43m,\u001B[49m\n\u001B[1;32m   1885\u001B[0m \u001B[43m    \u001B[49m\u001B[43mmemory_map\u001B[49m\u001B[38;5;241;43m=\u001B[39;49m\u001B[38;5;28;43mself\u001B[39;49m\u001B[38;5;241;43m.\u001B[39;49m\u001B[43moptions\u001B[49m\u001B[38;5;241;43m.\u001B[39;49m\u001B[43mget\u001B[49m\u001B[43m(\u001B[49m\u001B[38;5;124;43m\"\u001B[39;49m\u001B[38;5;124;43mmemory_map\u001B[39;49m\u001B[38;5;124;43m\"\u001B[39;49m\u001B[43m,\u001B[49m\u001B[43m \u001B[49m\u001B[38;5;28;43;01mFalse\u001B[39;49;00m\u001B[43m)\u001B[49m\u001B[43m,\u001B[49m\n\u001B[1;32m   1886\u001B[0m \u001B[43m    \u001B[49m\u001B[43mis_text\u001B[49m\u001B[38;5;241;43m=\u001B[39;49m\u001B[43mis_text\u001B[49m\u001B[43m,\u001B[49m\n\u001B[1;32m   1887\u001B[0m \u001B[43m    \u001B[49m\u001B[43merrors\u001B[49m\u001B[38;5;241;43m=\u001B[39;49m\u001B[38;5;28;43mself\u001B[39;49m\u001B[38;5;241;43m.\u001B[39;49m\u001B[43moptions\u001B[49m\u001B[38;5;241;43m.\u001B[39;49m\u001B[43mget\u001B[49m\u001B[43m(\u001B[49m\u001B[38;5;124;43m\"\u001B[39;49m\u001B[38;5;124;43mencoding_errors\u001B[39;49m\u001B[38;5;124;43m\"\u001B[39;49m\u001B[43m,\u001B[49m\u001B[43m \u001B[49m\u001B[38;5;124;43m\"\u001B[39;49m\u001B[38;5;124;43mstrict\u001B[39;49m\u001B[38;5;124;43m\"\u001B[39;49m\u001B[43m)\u001B[49m\u001B[43m,\u001B[49m\n\u001B[1;32m   1888\u001B[0m \u001B[43m    \u001B[49m\u001B[43mstorage_options\u001B[49m\u001B[38;5;241;43m=\u001B[39;49m\u001B[38;5;28;43mself\u001B[39;49m\u001B[38;5;241;43m.\u001B[39;49m\u001B[43moptions\u001B[49m\u001B[38;5;241;43m.\u001B[39;49m\u001B[43mget\u001B[49m\u001B[43m(\u001B[49m\u001B[38;5;124;43m\"\u001B[39;49m\u001B[38;5;124;43mstorage_options\u001B[39;49m\u001B[38;5;124;43m\"\u001B[39;49m\u001B[43m,\u001B[49m\u001B[43m \u001B[49m\u001B[38;5;28;43;01mNone\u001B[39;49;00m\u001B[43m)\u001B[49m\u001B[43m,\u001B[49m\n\u001B[1;32m   1889\u001B[0m \u001B[43m\u001B[49m\u001B[43m)\u001B[49m\n\u001B[1;32m   1890\u001B[0m \u001B[38;5;28;01massert\u001B[39;00m \u001B[38;5;28mself\u001B[39m\u001B[38;5;241m.\u001B[39mhandles \u001B[38;5;129;01mis\u001B[39;00m \u001B[38;5;129;01mnot\u001B[39;00m \u001B[38;5;28;01mNone\u001B[39;00m\n\u001B[1;32m   1891\u001B[0m f \u001B[38;5;241m=\u001B[39m \u001B[38;5;28mself\u001B[39m\u001B[38;5;241m.\u001B[39mhandles\u001B[38;5;241m.\u001B[39mhandle\n",
      "File \u001B[0;32m~/Projects/rough-on-rats/env/lib/python3.12/site-packages/pandas/io/common.py:728\u001B[0m, in \u001B[0;36mget_handle\u001B[0;34m(path_or_buf, mode, encoding, compression, memory_map, is_text, errors, storage_options)\u001B[0m\n\u001B[1;32m    725\u001B[0m     codecs\u001B[38;5;241m.\u001B[39mlookup_error(errors)\n\u001B[1;32m    727\u001B[0m \u001B[38;5;66;03m# open URLs\u001B[39;00m\n\u001B[0;32m--> 728\u001B[0m ioargs \u001B[38;5;241m=\u001B[39m \u001B[43m_get_filepath_or_buffer\u001B[49m\u001B[43m(\u001B[49m\n\u001B[1;32m    729\u001B[0m \u001B[43m    \u001B[49m\u001B[43mpath_or_buf\u001B[49m\u001B[43m,\u001B[49m\n\u001B[1;32m    730\u001B[0m \u001B[43m    \u001B[49m\u001B[43mencoding\u001B[49m\u001B[38;5;241;43m=\u001B[39;49m\u001B[43mencoding\u001B[49m\u001B[43m,\u001B[49m\n\u001B[1;32m    731\u001B[0m \u001B[43m    \u001B[49m\u001B[43mcompression\u001B[49m\u001B[38;5;241;43m=\u001B[39;49m\u001B[43mcompression\u001B[49m\u001B[43m,\u001B[49m\n\u001B[1;32m    732\u001B[0m \u001B[43m    \u001B[49m\u001B[43mmode\u001B[49m\u001B[38;5;241;43m=\u001B[39;49m\u001B[43mmode\u001B[49m\u001B[43m,\u001B[49m\n\u001B[1;32m    733\u001B[0m \u001B[43m    \u001B[49m\u001B[43mstorage_options\u001B[49m\u001B[38;5;241;43m=\u001B[39;49m\u001B[43mstorage_options\u001B[49m\u001B[43m,\u001B[49m\n\u001B[1;32m    734\u001B[0m \u001B[43m\u001B[49m\u001B[43m)\u001B[49m\n\u001B[1;32m    736\u001B[0m handle \u001B[38;5;241m=\u001B[39m ioargs\u001B[38;5;241m.\u001B[39mfilepath_or_buffer\n\u001B[1;32m    737\u001B[0m handles: \u001B[38;5;28mlist\u001B[39m[BaseBuffer]\n",
      "File \u001B[0;32m~/Projects/rough-on-rats/env/lib/python3.12/site-packages/pandas/io/common.py:384\u001B[0m, in \u001B[0;36m_get_filepath_or_buffer\u001B[0;34m(filepath_or_buffer, encoding, compression, mode, storage_options)\u001B[0m\n\u001B[1;32m    382\u001B[0m \u001B[38;5;66;03m# assuming storage_options is to be interpreted as headers\u001B[39;00m\n\u001B[1;32m    383\u001B[0m req_info \u001B[38;5;241m=\u001B[39m urllib\u001B[38;5;241m.\u001B[39mrequest\u001B[38;5;241m.\u001B[39mRequest(filepath_or_buffer, headers\u001B[38;5;241m=\u001B[39mstorage_options)\n\u001B[0;32m--> 384\u001B[0m \u001B[38;5;28;01mwith\u001B[39;00m \u001B[43murlopen\u001B[49m\u001B[43m(\u001B[49m\u001B[43mreq_info\u001B[49m\u001B[43m)\u001B[49m \u001B[38;5;28;01mas\u001B[39;00m req:\n\u001B[1;32m    385\u001B[0m     content_encoding \u001B[38;5;241m=\u001B[39m req\u001B[38;5;241m.\u001B[39mheaders\u001B[38;5;241m.\u001B[39mget(\u001B[38;5;124m\"\u001B[39m\u001B[38;5;124mContent-Encoding\u001B[39m\u001B[38;5;124m\"\u001B[39m, \u001B[38;5;28;01mNone\u001B[39;00m)\n\u001B[1;32m    386\u001B[0m     \u001B[38;5;28;01mif\u001B[39;00m content_encoding \u001B[38;5;241m==\u001B[39m \u001B[38;5;124m\"\u001B[39m\u001B[38;5;124mgzip\u001B[39m\u001B[38;5;124m\"\u001B[39m:\n\u001B[1;32m    387\u001B[0m         \u001B[38;5;66;03m# Override compression based on Content-Encoding header\u001B[39;00m\n",
      "File \u001B[0;32m~/Projects/rough-on-rats/env/lib/python3.12/site-packages/pandas/io/common.py:289\u001B[0m, in \u001B[0;36murlopen\u001B[0;34m(*args, **kwargs)\u001B[0m\n\u001B[1;32m    283\u001B[0m \u001B[38;5;250m\u001B[39m\u001B[38;5;124;03m\"\"\"\u001B[39;00m\n\u001B[1;32m    284\u001B[0m \u001B[38;5;124;03mLazy-import wrapper for stdlib urlopen, as that imports a big chunk of\u001B[39;00m\n\u001B[1;32m    285\u001B[0m \u001B[38;5;124;03mthe stdlib.\u001B[39;00m\n\u001B[1;32m    286\u001B[0m \u001B[38;5;124;03m\"\"\"\u001B[39;00m\n\u001B[1;32m    287\u001B[0m \u001B[38;5;28;01mimport\u001B[39;00m \u001B[38;5;21;01murllib\u001B[39;00m\u001B[38;5;21;01m.\u001B[39;00m\u001B[38;5;21;01mrequest\u001B[39;00m\n\u001B[0;32m--> 289\u001B[0m \u001B[38;5;28;01mreturn\u001B[39;00m \u001B[43murllib\u001B[49m\u001B[38;5;241;43m.\u001B[39;49m\u001B[43mrequest\u001B[49m\u001B[38;5;241;43m.\u001B[39;49m\u001B[43murlopen\u001B[49m\u001B[43m(\u001B[49m\u001B[38;5;241;43m*\u001B[39;49m\u001B[43margs\u001B[49m\u001B[43m,\u001B[49m\u001B[43m \u001B[49m\u001B[38;5;241;43m*\u001B[39;49m\u001B[38;5;241;43m*\u001B[39;49m\u001B[43mkwargs\u001B[49m\u001B[43m)\u001B[49m\n",
      "File \u001B[0;32m/usr/lib/python3.12/urllib/request.py:215\u001B[0m, in \u001B[0;36murlopen\u001B[0;34m(url, data, timeout, cafile, capath, cadefault, context)\u001B[0m\n\u001B[1;32m    213\u001B[0m \u001B[38;5;28;01melse\u001B[39;00m:\n\u001B[1;32m    214\u001B[0m     opener \u001B[38;5;241m=\u001B[39m _opener\n\u001B[0;32m--> 215\u001B[0m \u001B[38;5;28;01mreturn\u001B[39;00m \u001B[43mopener\u001B[49m\u001B[38;5;241;43m.\u001B[39;49m\u001B[43mopen\u001B[49m\u001B[43m(\u001B[49m\u001B[43murl\u001B[49m\u001B[43m,\u001B[49m\u001B[43m \u001B[49m\u001B[43mdata\u001B[49m\u001B[43m,\u001B[49m\u001B[43m \u001B[49m\u001B[43mtimeout\u001B[49m\u001B[43m)\u001B[49m\n",
      "File \u001B[0;32m/usr/lib/python3.12/urllib/request.py:521\u001B[0m, in \u001B[0;36mOpenerDirector.open\u001B[0;34m(self, fullurl, data, timeout)\u001B[0m\n\u001B[1;32m    519\u001B[0m \u001B[38;5;28;01mfor\u001B[39;00m processor \u001B[38;5;129;01min\u001B[39;00m \u001B[38;5;28mself\u001B[39m\u001B[38;5;241m.\u001B[39mprocess_response\u001B[38;5;241m.\u001B[39mget(protocol, []):\n\u001B[1;32m    520\u001B[0m     meth \u001B[38;5;241m=\u001B[39m \u001B[38;5;28mgetattr\u001B[39m(processor, meth_name)\n\u001B[0;32m--> 521\u001B[0m     response \u001B[38;5;241m=\u001B[39m \u001B[43mmeth\u001B[49m\u001B[43m(\u001B[49m\u001B[43mreq\u001B[49m\u001B[43m,\u001B[49m\u001B[43m \u001B[49m\u001B[43mresponse\u001B[49m\u001B[43m)\u001B[49m\n\u001B[1;32m    523\u001B[0m \u001B[38;5;28;01mreturn\u001B[39;00m response\n",
      "File \u001B[0;32m/usr/lib/python3.12/urllib/request.py:630\u001B[0m, in \u001B[0;36mHTTPErrorProcessor.http_response\u001B[0;34m(self, request, response)\u001B[0m\n\u001B[1;32m    627\u001B[0m \u001B[38;5;66;03m# According to RFC 2616, \"2xx\" code indicates that the client's\u001B[39;00m\n\u001B[1;32m    628\u001B[0m \u001B[38;5;66;03m# request was successfully received, understood, and accepted.\u001B[39;00m\n\u001B[1;32m    629\u001B[0m \u001B[38;5;28;01mif\u001B[39;00m \u001B[38;5;129;01mnot\u001B[39;00m (\u001B[38;5;241m200\u001B[39m \u001B[38;5;241m<\u001B[39m\u001B[38;5;241m=\u001B[39m code \u001B[38;5;241m<\u001B[39m \u001B[38;5;241m300\u001B[39m):\n\u001B[0;32m--> 630\u001B[0m     response \u001B[38;5;241m=\u001B[39m \u001B[38;5;28;43mself\u001B[39;49m\u001B[38;5;241;43m.\u001B[39;49m\u001B[43mparent\u001B[49m\u001B[38;5;241;43m.\u001B[39;49m\u001B[43merror\u001B[49m\u001B[43m(\u001B[49m\n\u001B[1;32m    631\u001B[0m \u001B[43m        \u001B[49m\u001B[38;5;124;43m'\u001B[39;49m\u001B[38;5;124;43mhttp\u001B[39;49m\u001B[38;5;124;43m'\u001B[39;49m\u001B[43m,\u001B[49m\u001B[43m \u001B[49m\u001B[43mrequest\u001B[49m\u001B[43m,\u001B[49m\u001B[43m \u001B[49m\u001B[43mresponse\u001B[49m\u001B[43m,\u001B[49m\u001B[43m \u001B[49m\u001B[43mcode\u001B[49m\u001B[43m,\u001B[49m\u001B[43m \u001B[49m\u001B[43mmsg\u001B[49m\u001B[43m,\u001B[49m\u001B[43m \u001B[49m\u001B[43mhdrs\u001B[49m\u001B[43m)\u001B[49m\n\u001B[1;32m    633\u001B[0m \u001B[38;5;28;01mreturn\u001B[39;00m response\n",
      "File \u001B[0;32m/usr/lib/python3.12/urllib/request.py:559\u001B[0m, in \u001B[0;36mOpenerDirector.error\u001B[0;34m(self, proto, *args)\u001B[0m\n\u001B[1;32m    557\u001B[0m \u001B[38;5;28;01mif\u001B[39;00m http_err:\n\u001B[1;32m    558\u001B[0m     args \u001B[38;5;241m=\u001B[39m (\u001B[38;5;28mdict\u001B[39m, \u001B[38;5;124m'\u001B[39m\u001B[38;5;124mdefault\u001B[39m\u001B[38;5;124m'\u001B[39m, \u001B[38;5;124m'\u001B[39m\u001B[38;5;124mhttp_error_default\u001B[39m\u001B[38;5;124m'\u001B[39m) \u001B[38;5;241m+\u001B[39m orig_args\n\u001B[0;32m--> 559\u001B[0m     \u001B[38;5;28;01mreturn\u001B[39;00m \u001B[38;5;28;43mself\u001B[39;49m\u001B[38;5;241;43m.\u001B[39;49m\u001B[43m_call_chain\u001B[49m\u001B[43m(\u001B[49m\u001B[38;5;241;43m*\u001B[39;49m\u001B[43margs\u001B[49m\u001B[43m)\u001B[49m\n",
      "File \u001B[0;32m/usr/lib/python3.12/urllib/request.py:492\u001B[0m, in \u001B[0;36mOpenerDirector._call_chain\u001B[0;34m(self, chain, kind, meth_name, *args)\u001B[0m\n\u001B[1;32m    490\u001B[0m \u001B[38;5;28;01mfor\u001B[39;00m handler \u001B[38;5;129;01min\u001B[39;00m handlers:\n\u001B[1;32m    491\u001B[0m     func \u001B[38;5;241m=\u001B[39m \u001B[38;5;28mgetattr\u001B[39m(handler, meth_name)\n\u001B[0;32m--> 492\u001B[0m     result \u001B[38;5;241m=\u001B[39m \u001B[43mfunc\u001B[49m\u001B[43m(\u001B[49m\u001B[38;5;241;43m*\u001B[39;49m\u001B[43margs\u001B[49m\u001B[43m)\u001B[49m\n\u001B[1;32m    493\u001B[0m     \u001B[38;5;28;01mif\u001B[39;00m result \u001B[38;5;129;01mis\u001B[39;00m \u001B[38;5;129;01mnot\u001B[39;00m \u001B[38;5;28;01mNone\u001B[39;00m:\n\u001B[1;32m    494\u001B[0m         \u001B[38;5;28;01mreturn\u001B[39;00m result\n",
      "File \u001B[0;32m/usr/lib/python3.12/urllib/request.py:639\u001B[0m, in \u001B[0;36mHTTPDefaultErrorHandler.http_error_default\u001B[0;34m(self, req, fp, code, msg, hdrs)\u001B[0m\n\u001B[1;32m    638\u001B[0m \u001B[38;5;28;01mdef\u001B[39;00m \u001B[38;5;21mhttp_error_default\u001B[39m(\u001B[38;5;28mself\u001B[39m, req, fp, code, msg, hdrs):\n\u001B[0;32m--> 639\u001B[0m     \u001B[38;5;28;01mraise\u001B[39;00m HTTPError(req\u001B[38;5;241m.\u001B[39mfull_url, code, msg, hdrs, fp)\n",
      "\u001B[0;31mHTTPError\u001B[0m: HTTP Error 404: Not Found"
     ]
    }
   ],
   "execution_count": 6
  },
  {
   "metadata": {
    "ExecuteTime": {
     "end_time": "2024-09-25T17:34:28.356531588Z",
     "start_time": "2024-09-06T18:03:21.655889Z"
    }
   },
   "cell_type": "code",
   "source": "df_treino.head()",
   "id": "3d801376b7da3932",
   "outputs": [
    {
     "data": {
      "text/plain": [
       "   PassengerId  Survived  Pclass  \\\n",
       "0            1         0       3   \n",
       "1            2         1       1   \n",
       "2            3         1       3   \n",
       "3            4         1       1   \n",
       "4            5         0       3   \n",
       "\n",
       "                                                Name     Sex   Age  SibSp  \\\n",
       "0                            Braund, Mr. Owen Harris    male  22.0      1   \n",
       "1  Cumings, Mrs. John Bradley (Florence Briggs Th...  female  38.0      1   \n",
       "2                             Heikkinen, Miss. Laina  female  26.0      0   \n",
       "3       Futrelle, Mrs. Jacques Heath (Lily May Peel)  female  35.0      1   \n",
       "4                           Allen, Mr. William Henry    male  35.0      0   \n",
       "\n",
       "   Parch            Ticket     Fare Cabin Embarked  \n",
       "0      0         A/5 21171   7.2500   NaN        S  \n",
       "1      0          PC 17599  71.2833   C85        C  \n",
       "2      0  STON/O2. 3101282   7.9250   NaN        S  \n",
       "3      0            113803  53.1000  C123        S  \n",
       "4      0            373450   8.0500   NaN        S  "
      ],
      "text/html": [
       "<div>\n",
       "<style scoped>\n",
       "    .dataframe tbody tr th:only-of-type {\n",
       "        vertical-align: middle;\n",
       "    }\n",
       "\n",
       "    .dataframe tbody tr th {\n",
       "        vertical-align: top;\n",
       "    }\n",
       "\n",
       "    .dataframe thead th {\n",
       "        text-align: right;\n",
       "    }\n",
       "</style>\n",
       "<table border=\"1\" class=\"dataframe\">\n",
       "  <thead>\n",
       "    <tr style=\"text-align: right;\">\n",
       "      <th></th>\n",
       "      <th>PassengerId</th>\n",
       "      <th>Survived</th>\n",
       "      <th>Pclass</th>\n",
       "      <th>Name</th>\n",
       "      <th>Sex</th>\n",
       "      <th>Age</th>\n",
       "      <th>SibSp</th>\n",
       "      <th>Parch</th>\n",
       "      <th>Ticket</th>\n",
       "      <th>Fare</th>\n",
       "      <th>Cabin</th>\n",
       "      <th>Embarked</th>\n",
       "    </tr>\n",
       "  </thead>\n",
       "  <tbody>\n",
       "    <tr>\n",
       "      <th>0</th>\n",
       "      <td>1</td>\n",
       "      <td>0</td>\n",
       "      <td>3</td>\n",
       "      <td>Braund, Mr. Owen Harris</td>\n",
       "      <td>male</td>\n",
       "      <td>22.0</td>\n",
       "      <td>1</td>\n",
       "      <td>0</td>\n",
       "      <td>A/5 21171</td>\n",
       "      <td>7.2500</td>\n",
       "      <td>NaN</td>\n",
       "      <td>S</td>\n",
       "    </tr>\n",
       "    <tr>\n",
       "      <th>1</th>\n",
       "      <td>2</td>\n",
       "      <td>1</td>\n",
       "      <td>1</td>\n",
       "      <td>Cumings, Mrs. John Bradley (Florence Briggs Th...</td>\n",
       "      <td>female</td>\n",
       "      <td>38.0</td>\n",
       "      <td>1</td>\n",
       "      <td>0</td>\n",
       "      <td>PC 17599</td>\n",
       "      <td>71.2833</td>\n",
       "      <td>C85</td>\n",
       "      <td>C</td>\n",
       "    </tr>\n",
       "    <tr>\n",
       "      <th>2</th>\n",
       "      <td>3</td>\n",
       "      <td>1</td>\n",
       "      <td>3</td>\n",
       "      <td>Heikkinen, Miss. Laina</td>\n",
       "      <td>female</td>\n",
       "      <td>26.0</td>\n",
       "      <td>0</td>\n",
       "      <td>0</td>\n",
       "      <td>STON/O2. 3101282</td>\n",
       "      <td>7.9250</td>\n",
       "      <td>NaN</td>\n",
       "      <td>S</td>\n",
       "    </tr>\n",
       "    <tr>\n",
       "      <th>3</th>\n",
       "      <td>4</td>\n",
       "      <td>1</td>\n",
       "      <td>1</td>\n",
       "      <td>Futrelle, Mrs. Jacques Heath (Lily May Peel)</td>\n",
       "      <td>female</td>\n",
       "      <td>35.0</td>\n",
       "      <td>1</td>\n",
       "      <td>0</td>\n",
       "      <td>113803</td>\n",
       "      <td>53.1000</td>\n",
       "      <td>C123</td>\n",
       "      <td>S</td>\n",
       "    </tr>\n",
       "    <tr>\n",
       "      <th>4</th>\n",
       "      <td>5</td>\n",
       "      <td>0</td>\n",
       "      <td>3</td>\n",
       "      <td>Allen, Mr. William Henry</td>\n",
       "      <td>male</td>\n",
       "      <td>35.0</td>\n",
       "      <td>0</td>\n",
       "      <td>0</td>\n",
       "      <td>373450</td>\n",
       "      <td>8.0500</td>\n",
       "      <td>NaN</td>\n",
       "      <td>S</td>\n",
       "    </tr>\n",
       "  </tbody>\n",
       "</table>\n",
       "</div>"
      ]
     },
     "execution_count": 4,
     "metadata": {},
     "output_type": "execute_result"
    }
   ],
   "execution_count": 4
  },
  {
   "metadata": {},
   "cell_type": "markdown",
   "source": "## Pronomes de Tratamento",
   "id": "b302d482b1cf8d79"
  },
  {
   "metadata": {},
   "cell_type": "markdown",
   "source": "A classe, título ou qualificação do passegeiro pode ter sido fator preponderante para determinar se uma pessoa foi ou não escolhida para ir aos botes.",
   "id": "7be73fb5bed96ccc"
  },
  {
   "metadata": {
    "ExecuteTime": {
     "end_time": "2024-09-25T17:34:28.357510129Z",
     "start_time": "2024-09-06T18:03:21.671506Z"
    }
   },
   "cell_type": "code",
   "source": [
    "def pega_pronome_tratamento(entrada):\n",
    "    # A entrada deve ser um dataframe. Pega o Mr. Mrs. e coloca em coluna própria\n",
    "    pronome_tratamento = re.search(r' ([A-Za-z]+)\\.',entrada)\n",
    "    if pronome_tratamento:\n",
    "        return pronome_tratamento.group(1)\n",
    "    return \"\"\n",
    "\n",
    "df_treino['Pronome'] = df_treino['Name'].apply(pega_pronome_tratamento)"
   ],
   "id": "e8b2910b4e99627d",
   "outputs": [],
   "execution_count": 5
  },
  {
   "metadata": {},
   "cell_type": "markdown",
   "source": "Vejamos qual a distribuição desses pronomes entre os sobreviventes.",
   "id": "3ec65a22a490b2b9"
  },
  {
   "metadata": {
    "ExecuteTime": {
     "end_time": "2024-09-25T17:34:28.357669779Z",
     "start_time": "2024-09-06T18:03:21.678756Z"
    }
   },
   "cell_type": "code",
   "source": [
    "grouped = df_treino.groupby(['Pronome', 'Survived']).size().unstack(fill_value=0)\n",
    "distribuicao = grouped.div(grouped.sum(axis=1), axis=0) * 100\n",
    "distribuicao.drop(0, axis=1, inplace=True)\n",
    "distribuicao\n",
    "# Valores serão apresentados como % do total"
   ],
   "id": "d64d3a06f1448d61",
   "outputs": [
    {
     "data": {
      "text/plain": [
       "Survived           1\n",
       "Pronome             \n",
       "Capt        0.000000\n",
       "Col        50.000000\n",
       "Countess  100.000000\n",
       "Don         0.000000\n",
       "Dr         42.857143\n",
       "Jonkheer    0.000000\n",
       "Lady      100.000000\n",
       "Major      50.000000\n",
       "Master     57.500000\n",
       "Miss       69.780220\n",
       "Mlle      100.000000\n",
       "Mme       100.000000\n",
       "Mr         15.667311\n",
       "Mrs        79.200000\n",
       "Ms        100.000000\n",
       "Rev         0.000000\n",
       "Sir       100.000000"
      ],
      "text/html": [
       "<div>\n",
       "<style scoped>\n",
       "    .dataframe tbody tr th:only-of-type {\n",
       "        vertical-align: middle;\n",
       "    }\n",
       "\n",
       "    .dataframe tbody tr th {\n",
       "        vertical-align: top;\n",
       "    }\n",
       "\n",
       "    .dataframe thead th {\n",
       "        text-align: right;\n",
       "    }\n",
       "</style>\n",
       "<table border=\"1\" class=\"dataframe\">\n",
       "  <thead>\n",
       "    <tr style=\"text-align: right;\">\n",
       "      <th>Survived</th>\n",
       "      <th>1</th>\n",
       "    </tr>\n",
       "    <tr>\n",
       "      <th>Pronome</th>\n",
       "      <th></th>\n",
       "    </tr>\n",
       "  </thead>\n",
       "  <tbody>\n",
       "    <tr>\n",
       "      <th>Capt</th>\n",
       "      <td>0.000000</td>\n",
       "    </tr>\n",
       "    <tr>\n",
       "      <th>Col</th>\n",
       "      <td>50.000000</td>\n",
       "    </tr>\n",
       "    <tr>\n",
       "      <th>Countess</th>\n",
       "      <td>100.000000</td>\n",
       "    </tr>\n",
       "    <tr>\n",
       "      <th>Don</th>\n",
       "      <td>0.000000</td>\n",
       "    </tr>\n",
       "    <tr>\n",
       "      <th>Dr</th>\n",
       "      <td>42.857143</td>\n",
       "    </tr>\n",
       "    <tr>\n",
       "      <th>Jonkheer</th>\n",
       "      <td>0.000000</td>\n",
       "    </tr>\n",
       "    <tr>\n",
       "      <th>Lady</th>\n",
       "      <td>100.000000</td>\n",
       "    </tr>\n",
       "    <tr>\n",
       "      <th>Major</th>\n",
       "      <td>50.000000</td>\n",
       "    </tr>\n",
       "    <tr>\n",
       "      <th>Master</th>\n",
       "      <td>57.500000</td>\n",
       "    </tr>\n",
       "    <tr>\n",
       "      <th>Miss</th>\n",
       "      <td>69.780220</td>\n",
       "    </tr>\n",
       "    <tr>\n",
       "      <th>Mlle</th>\n",
       "      <td>100.000000</td>\n",
       "    </tr>\n",
       "    <tr>\n",
       "      <th>Mme</th>\n",
       "      <td>100.000000</td>\n",
       "    </tr>\n",
       "    <tr>\n",
       "      <th>Mr</th>\n",
       "      <td>15.667311</td>\n",
       "    </tr>\n",
       "    <tr>\n",
       "      <th>Mrs</th>\n",
       "      <td>79.200000</td>\n",
       "    </tr>\n",
       "    <tr>\n",
       "      <th>Ms</th>\n",
       "      <td>100.000000</td>\n",
       "    </tr>\n",
       "    <tr>\n",
       "      <th>Rev</th>\n",
       "      <td>0.000000</td>\n",
       "    </tr>\n",
       "    <tr>\n",
       "      <th>Sir</th>\n",
       "      <td>100.000000</td>\n",
       "    </tr>\n",
       "  </tbody>\n",
       "</table>\n",
       "</div>"
      ]
     },
     "execution_count": 6,
     "metadata": {},
     "output_type": "execute_result"
    }
   ],
   "execution_count": 6
  },
  {
   "metadata": {},
   "cell_type": "markdown",
   "source": "Classificarei os passageiros, através do seu pronome pela probabilidade de ser poupado ou de se sacrificar, com base na lista acima. 5 para chances altas de se sacrificar até 1, para chances altas de ser poupado.",
   "id": "8eb9ccfac6e3f92"
  },
  {
   "metadata": {
    "ExecuteTime": {
     "end_time": "2024-09-25T17:34:28.358106177Z",
     "start_time": "2024-09-06T18:03:21.692806Z"
    }
   },
   "cell_type": "code",
   "source": [
    "estoicismo = {\n",
    "    'Capt': 5,\n",
    "    'Col': 3,\n",
    "    'Countess': 1,\n",
    "    'Don': 5,\n",
    "    'Dr': 3,\n",
    "    'Jonkheer': 5,\n",
    "    'Lady': 1,\n",
    "    'Major': 3,\n",
    "    'Master': 3,\n",
    "    'Miss': 4,\n",
    "    'Mlle': 1,\n",
    "    'Mme': 1,\n",
    "    'Mr': 2,\n",
    "    'Mrs': 2,\n",
    "    'Ms': 1,\n",
    "    'Rev': 5,\n",
    "    'Sir': 1\n",
    "}\n",
    "df_treino['Aval_Pronome'] = df_treino[\"Pronome\"].apply(lambda x: estoicismo.get(x))"
   ],
   "id": "941666ee59f6e383",
   "outputs": [],
   "execution_count": 7
  },
  {
   "metadata": {},
   "cell_type": "markdown",
   "source": [
    "## Porto de Embarque\n",
    "A  compreensão do porto de embarque pode ser relevante uma vez que praticamente toda a tripulação partiu de Southampton."
   ],
   "id": "b509d7ca59dca923"
  },
  {
   "metadata": {
    "ExecuteTime": {
     "end_time": "2024-09-25T17:34:28.358225866Z",
     "start_time": "2024-09-06T18:03:21.699018Z"
    }
   },
   "cell_type": "code",
   "source": [
    "# Transforma o código do porto de embarque em escalar.\n",
    "le = LabelEncoder()\n",
    "df_treino[\"Embarked\"] = df_treino[\"Embarked\"].apply(lambda x: 'A' if x == 28.0 else x ) # Tinha uma linha com float ao inves de string\n",
    "df_treino[\"cod_embarque\"] = le.fit_transform(df_treino['Embarked'])"
   ],
   "id": "99e432c02714bf05",
   "outputs": [],
   "execution_count": 8
  },
  {
   "metadata": {},
   "cell_type": "markdown",
   "source": [
    "## Valor do Ticket\n",
    "Os valores de ticket estao errados pois correspondem provavelmente ao valor de face (observe que quem viaja com família tem sempre tickets maiores). Vamos somar os integrantes da família e dividir por cabeça o valor do ticket."
   ],
   "id": "bd4cc845c491e302"
  },
  {
   "metadata": {
    "ExecuteTime": {
     "end_time": "2024-09-25T17:34:28.358324109Z",
     "start_time": "2024-09-06T18:03:21.706537Z"
    }
   },
   "cell_type": "code",
   "source": [
    "df_treino[\"FixedFare\"] = df_treino[\"Fare\"]/(df_treino[\"SibSp\"] + df_treino[\"Parch\"] + 1)\n",
    "df_treino[\"FixedFare\"] = df_treino[\"FixedFare\"].apply(np.round)"
   ],
   "id": "39710de7fdd42f76",
   "outputs": [],
   "execution_count": 9
  },
  {
   "metadata": {},
   "cell_type": "markdown",
   "source": [
    "## Categorias de Idade\n",
    "Vamos criar categorias de idade para agrupar os passageiros no que consideramos ser categorias de idade relevantes para o processo de escolha dos sobreviventes. Contudo há algumas idades que estão em branco. Vamos preencher a idade faltante com a mediana da idade das pessoas com aquele pronome de tratamento. "
   ],
   "id": "86d51fb93ac5add1"
  },
  {
   "metadata": {
    "ExecuteTime": {
     "end_time": "2024-09-25T17:34:28.358408059Z",
     "start_time": "2024-09-06T18:03:21.715797Z"
    }
   },
   "cell_type": "code",
   "source": [
    "# Pega a média das idades por pronome\n",
    "pronomes = df_treino[\"Pronome\"].unique()\n",
    "\n",
    "# Pega a mediana por pronome\n",
    "mediana = {}\n",
    "for pronome in pronomes:\n",
    "    mediana[pronome] = df_treino[\"Age\"][df_treino[\"Pronome\"] == pronome].median()\n",
    "\n",
    "# Preenche as idades em branco com a media das idades para aquele pronome\n",
    "df_treino['Age'] = df_treino.apply(lambda x: mediana[x['Pronome']] if pd.isna(x['Age']) else x['Age'], axis=1)\n",
    "\n",
    "# Converte para inteiro\n",
    "df_treino[\"Age\"] = df_treino[\"Age\"].astype(int)\n",
    "\n",
    "# Cria uma feature nova, categorizando os passageiros em idades relevantes para a decisão de acesso ao bote.\n",
    "df_treino[\"classe_idade\"] = pd.cut(df_treino[\"Age\"], bins=[-np.inf,5,10,13,60,np.inf], labels=[\"Colo\",\"Nova\",\"Jovem\",\"Adulto\", \"Idoso\"])"
   ],
   "id": "a7edc097a0164e60",
   "outputs": [],
   "execution_count": 10
  },
  {
   "metadata": {
    "ExecuteTime": {
     "end_time": "2024-09-25T17:34:28.358489053Z",
     "start_time": "2024-09-06T18:03:21.737177Z"
    }
   },
   "cell_type": "code",
   "source": [
    "# Sobreviventes por classe de idade\n",
    "grouped = df_treino.groupby(['classe_idade', 'Survived']).size().unstack(fill_value=0)\n",
    "distribuicao = grouped.div(grouped.sum(axis=1), axis=0) * 100\n",
    "distribuicao.drop(0, axis=1, inplace=True) # Não há necessidade da coluna de não-sobreviventes\n",
    "distribuicao"
   ],
   "id": "8191c620457dcb5d",
   "outputs": [
    {
     "data": {
      "text/plain": [
       "Survived              1\n",
       "classe_idade           \n",
       "Colo          68.750000\n",
       "Nova          35.000000\n",
       "Jovem         57.142857\n",
       "Adulto        36.901763\n",
       "Idoso         22.727273"
      ],
      "text/html": [
       "<div>\n",
       "<style scoped>\n",
       "    .dataframe tbody tr th:only-of-type {\n",
       "        vertical-align: middle;\n",
       "    }\n",
       "\n",
       "    .dataframe tbody tr th {\n",
       "        vertical-align: top;\n",
       "    }\n",
       "\n",
       "    .dataframe thead th {\n",
       "        text-align: right;\n",
       "    }\n",
       "</style>\n",
       "<table border=\"1\" class=\"dataframe\">\n",
       "  <thead>\n",
       "    <tr style=\"text-align: right;\">\n",
       "      <th>Survived</th>\n",
       "      <th>1</th>\n",
       "    </tr>\n",
       "    <tr>\n",
       "      <th>classe_idade</th>\n",
       "      <th></th>\n",
       "    </tr>\n",
       "  </thead>\n",
       "  <tbody>\n",
       "    <tr>\n",
       "      <th>Colo</th>\n",
       "      <td>68.750000</td>\n",
       "    </tr>\n",
       "    <tr>\n",
       "      <th>Nova</th>\n",
       "      <td>35.000000</td>\n",
       "    </tr>\n",
       "    <tr>\n",
       "      <th>Jovem</th>\n",
       "      <td>57.142857</td>\n",
       "    </tr>\n",
       "    <tr>\n",
       "      <th>Adulto</th>\n",
       "      <td>36.901763</td>\n",
       "    </tr>\n",
       "    <tr>\n",
       "      <th>Idoso</th>\n",
       "      <td>22.727273</td>\n",
       "    </tr>\n",
       "  </tbody>\n",
       "</table>\n",
       "</div>"
      ]
     },
     "execution_count": 11,
     "metadata": {},
     "output_type": "execute_result"
    }
   ],
   "execution_count": 11
  },
  {
   "metadata": {},
   "cell_type": "markdown",
   "source": "Agora é necessário transformar essas classes de idade em números. Uma abordagem bem conhecida é a utilização de `pd.get_dummies` ou `OneHotEncoder`. Contudo, testes anteriores demonstraram uma prevalência de algoritmos de Random Forest para esse desafio, que não é muito compatível com essas técnicas nesse contexto (perda de desempenho). Ainda, se não houverem tantas categorias no dataset de teste então os datasets terão tamanhos diferentes e poderão perder precisão. Por motivos de não-relação entre as categorias, não parece ser interessante o uso de escalares para a medição, pois levaria a uma falsa relação em algoritmos com o KNN.  Contudo, como acreditamos que o algoritmo RF terá o melhor desempenho, rotularemos com escalares mas não através do `LabelEncoder`, para garantir um mínimo de lógica em KNN.",
   "id": "4c6422416ff9db9d"
  },
  {
   "metadata": {
    "ExecuteTime": {
     "end_time": "2024-09-25T17:34:28.358921252Z",
     "start_time": "2024-09-06T18:03:21.748977Z"
    }
   },
   "cell_type": "code",
   "source": [
    "cat_idades  = {\n",
    "    'Colo': 1,\n",
    "    'Nova': 2,\n",
    "    'Jovem': 3,\n",
    "    'Adulto': 4,\n",
    "    'Idoso': 5,    \n",
    "}\n",
    "\n",
    "df_treino[\"classe_idade\"] = df_treino[\"classe_idade\"].map(cat_idades)"
   ],
   "id": "a50764398d7d8b66",
   "outputs": [],
   "execution_count": 12
  },
  {
   "metadata": {},
   "cell_type": "markdown",
   "source": [
    "## Sexo\n",
    "Em relação ao sexo dos passageiros, não haverá o problema de datasets em tamanhos diferentes, uma vez que não é provável que no dataset de testes tenha apenas um dos sexos. Nesse caso o uso de `get_dummies` não será um empecilho, contudo a binariedade de valores possíveis para sexo aqui permite criar uma única coluna com um e zero. Notar que não se fala aqui em gêneros, mas do sexo biológico."
   ],
   "id": "5b3d2820b0d3f978"
  },
  {
   "metadata": {
    "ExecuteTime": {
     "end_time": "2024-09-25T17:34:28.359169589Z",
     "start_time": "2024-09-06T18:03:21.754025Z"
    }
   },
   "cell_type": "code",
   "source": "df_treino[\"Sex\"] = df_treino[\"Sex\"].map({'male':1,'female':0})",
   "id": "1b6401a31df0cf6b",
   "outputs": [],
   "execution_count": 13
  },
  {
   "metadata": {},
   "cell_type": "markdown",
   "source": "## Outros fatores",
   "id": "c889d8b7adecfe47"
  },
  {
   "metadata": {},
   "cell_type": "markdown",
   "source": "É possível determinar se a pessoa viajou sozinha. É uma informação que pode melhorar o estudo já que pessoas viajando sozinhas poderiam ter dado vaga para um integrante de familia.",
   "id": "462d0119e4b9fdaa"
  },
  {
   "metadata": {
    "ExecuteTime": {
     "end_time": "2024-09-25T17:34:28.359265917Z",
     "start_time": "2024-09-06T18:03:21.760604Z"
    }
   },
   "cell_type": "code",
   "source": "df_treino[\"Sozinho\"] = np.where(df_treino[\"SibSp\"]+df_treino[\"Parch\"]==0,1,0)",
   "id": "62cfa51a4fbe92c",
   "outputs": [],
   "execution_count": 14
  },
  {
   "metadata": {},
   "cell_type": "markdown",
   "source": [
    "## Limpeza\n",
    "Vamos agora conseguir remover colunas desnecessárias para o treinamento."
   ],
   "id": "46efe47053284030"
  },
  {
   "metadata": {
    "ExecuteTime": {
     "end_time": "2024-09-25T17:34:28.359346589Z",
     "start_time": "2024-09-06T18:03:21.766719Z"
    }
   },
   "cell_type": "code",
   "source": [
    "df_treino.drop([\"PassengerId\",\"Name\",\"Ticket\",\"Cabin\",\"Embarked\", \"Pronome\"], axis=1, inplace=True)\n",
    "\n",
    "# Converter moeda para inteiro pra ajudar na eficiência do SVM\n",
    "df_treino[\"Fare\"] = df_treino[\"Fare\"].astype(int)\n",
    "#df_treino[\"FixedFare\"] = df_treino[\"FixedFare\"].astype(int)"
   ],
   "id": "c27c0e0403ac7903",
   "outputs": [],
   "execution_count": 15
  },
  {
   "metadata": {},
   "cell_type": "markdown",
   "source": [
    "## Tratamento de Null e em branco\n",
    "Nota-se abaixo que não há colunas no dataframe."
   ],
   "id": "91ae6bfcca45b737"
  },
  {
   "metadata": {
    "ExecuteTime": {
     "end_time": "2024-09-25T17:34:28.359423671Z",
     "start_time": "2024-09-06T18:03:21.773951Z"
    }
   },
   "cell_type": "code",
   "source": "df_treino.isna().sum(axis=0).sort_values(ascending=False)",
   "id": "d1cc6c790e0cc6a8",
   "outputs": [
    {
     "data": {
      "text/plain": [
       "Survived        0\n",
       "Pclass          0\n",
       "Sex             0\n",
       "Age             0\n",
       "SibSp           0\n",
       "Parch           0\n",
       "Fare            0\n",
       "Aval_Pronome    0\n",
       "cod_embarque    0\n",
       "FixedFare       0\n",
       "classe_idade    0\n",
       "Sozinho         0\n",
       "dtype: int64"
      ]
     },
     "execution_count": 16,
     "metadata": {},
     "output_type": "execute_result"
    }
   ],
   "execution_count": 16
  },
  {
   "metadata": {},
   "cell_type": "markdown",
   "source": [
    "## Análise dos dados\n",
    "Vamos verificar se algum tipo de correlação se anunciou após todo o processo de engenharia dos atributos. Cores claras indicam correlação, proporcional ou inversamente proporcional."
   ],
   "id": "bffe5f10162ae22"
  },
  {
   "metadata": {
    "ExecuteTime": {
     "end_time": "2024-09-25T17:34:28.359553086Z",
     "start_time": "2024-09-06T18:03:21.781757Z"
    }
   },
   "cell_type": "code",
   "source": "sns.heatmap(df_treino.corr(), linewidths=0.5, cmap='seismic')",
   "id": "69567860fcc34d34",
   "outputs": [
    {
     "data": {
      "text/plain": [
       "<Axes: >"
      ]
     },
     "execution_count": 17,
     "metadata": {},
     "output_type": "execute_result"
    },
    {
     "data": {
      "text/plain": [
       "<Figure size 640x480 with 2 Axes>"
      ],
      "image/png": "[encoded data removed]"
     },
     "metadata": {},
     "output_type": "display_data"
    }
   ],
   "execution_count": 17
  },
  {
   "metadata": {},
   "cell_type": "markdown",
   "source": "## Holdout com particionamento",
   "id": "8ddbeda41a40f747"
  },
  {
   "metadata": {
    "ExecuteTime": {
     "end_time": "2024-09-25T17:34:28.359804306Z",
     "start_time": "2024-09-06T18:03:22.172281Z"
    }
   },
   "cell_type": "code",
   "source": [
    "test_size = 0.2\n",
    "seed = 3\n",
    "\n",
    "# Separacao em conjunto de teste e treino\n",
    "array = df_treino.values\n",
    "X = array[:,1:12]\n",
    "y = array[:,0]\n",
    "X_train, X_test, y_train, y_test = train_test_split(\n",
    "    X,y,\n",
    "    test_size=test_size,\n",
    "    random_state=seed,\n",
    "    shuffle=True,\n",
    "    stratify=y\n",
    ")\n",
    "\n",
    "scoring= 'accuracy'\n",
    "num_particoes = 10\n",
    "kfold = StratifiedKFold(n_splits=10, random_state=seed, shuffle=True)"
   ],
   "id": "3b17c2b7dc631c08",
   "outputs": [],
   "execution_count": 18
  },
  {
   "metadata": {},
   "cell_type": "markdown",
   "source": "## Modelagem e Inferência",
   "id": "6c1d8d9edd70495a"
  },
  {
   "metadata": {},
   "cell_type": "markdown",
   "source": "### Modelagem",
   "id": "324ab46e671197af"
  },
  {
   "metadata": {
    "ExecuteTime": {
     "end_time": "2024-09-25T17:34:28.359907202Z",
     "start_time": "2024-09-06T18:03:22.178647Z"
    }
   },
   "cell_type": "code",
   "source": [
    "np.random.seed(seed)\n",
    "\n",
    "models = []\n",
    "\n",
    "models.append(('LR', LogisticRegression()))\n",
    "models.append(('KNN', KNeighborsClassifier()))\n",
    "models.append(('CART', DecisionTreeClassifier()))\n",
    "models.append(('NB', GaussianNB()))\n",
    "models.append(('SVM', SVC()))\n",
    "\n",
    "# Definindo os parâmetros do classificador base para o BaggingClassifier\n",
    "base = DecisionTreeClassifier()\n",
    "num_trees = 100\n",
    "max_features = 3\n",
    "\n",
    "# Criando os modelos para o VotingClassifier\n",
    "bases = []\n",
    "model1 = LogisticRegression(max_iter=200)\n",
    "bases.append(('logistic', model1))\n",
    "model2 = DecisionTreeClassifier()\n",
    "bases.append(('cart', model2))\n",
    "model3 = SVC()\n",
    "bases.append(('svm', model3))\n",
    "\n",
    "# Criando os ensembles e adicionando-os na lista de modelos\n",
    "models.append(('Bagging', BaggingClassifier(estimator=base, n_estimators=num_trees)))\n",
    "models.append(('RF', RandomForestClassifier(n_estimators=num_trees, max_features=max_features)))\n",
    "models.append(('ET', ExtraTreesClassifier(n_estimators=num_trees, max_features=max_features)))\n",
    "models.append(('Ada', AdaBoostClassifier(n_estimators=num_trees)))\n",
    "models.append(('GB', GradientBoostingClassifier(n_estimators=num_trees)))\n",
    "models.append(('Voting', VotingClassifier(bases)))"
   ],
   "id": "8c3d0c559ced628a",
   "outputs": [],
   "execution_count": 19
  },
  {
   "metadata": {},
   "cell_type": "markdown",
   "source": "### Inferência",
   "id": "b3a3cf913af56f9a"
  },
  {
   "metadata": {
    "ExecuteTime": {
     "end_time": "2024-09-25T17:34:28.360011135Z",
     "start_time": "2024-09-06T18:03:22.186221Z"
    }
   },
   "cell_type": "code",
   "source": [
    "results = []\n",
    "names = []\n",
    "\n",
    "for name, model in models:\n",
    "    cv_results = cross_val_score(model, X_train, y_train, cv=kfold, scoring=scoring)\n",
    "    results.append(cv_results)\n",
    "    names.append(name)\n",
    "    msg = \"%s: %f (%f)\" % (name, cv_results.mean(), cv_results.std())\n",
    "    print(msg)"
   ],
   "id": "9b0497de8c41005a",
   "outputs": [
    {
     "name": "stdout",
     "output_type": "stream",
     "text": [
      "LR: 0.793545 (0.038164)\n",
      "KNN: 0.698063 (0.027195)\n",
      "CART: 0.758529 (0.029749)\n",
      "NB: 0.761209 (0.061425)\n",
      "SVM: 0.667136 (0.040084)\n",
      "Bagging: 0.792254 (0.040401)\n",
      "RF: 0.789476 (0.042579)\n",
      "ET: 0.785231 (0.040553)\n",
      "Ada: 0.804773 (0.057871)\n",
      "GB: 0.816099 (0.050957)\n",
      "Voting: 0.794992 (0.029937)\n"
     ]
    }
   ],
   "execution_count": 20
  },
  {
   "metadata": {
    "ExecuteTime": {
     "end_time": "2024-09-25T17:34:28.360122053Z",
     "start_time": "2024-09-06T18:03:30.572127Z"
    }
   },
   "cell_type": "code",
   "source": [
    "# Boxplot de comparação dos modelos\n",
    "fig = plt.figure(figsize=(10,8))\n",
    "fig.suptitle('Comparação dos Modelos')\n",
    "ax = fig.add_subplot(111)\n",
    "plt.boxplot(results)\n",
    "ax.set_xticklabels(names)\n",
    "plt.show()"
   ],
   "id": "c2fae71dddaa6909",
   "outputs": [
    {
     "data": {
      "text/plain": [
       "<Figure size 1000x800 with 1 Axes>"
      ],
      "image/png": "[encoded data removed]"
     },
     "metadata": {},
     "output_type": "display_data"
    }
   ],
   "execution_count": 21
  },
  {
   "metadata": {},
   "cell_type": "markdown",
   "source": "## Pipelines de Normalização dos dados e Hiperparametrização",
   "id": "b406370235a696d1"
  },
  {
   "metadata": {},
   "cell_type": "markdown",
   "source": "Os algoritmos que mais se destacaram foram os de Gradient Booster, Ada e Logistic Regression. O resultado foi satisfatório, dentro dos parametros esperados.",
   "id": "aa4729604d788e12"
  },
  {
   "metadata": {},
   "cell_type": "markdown",
   "source": [
    "`GB: 0.825880 (0.041212)`\n",
    "`Ada: 0.800548 (0.055229)`\n",
    "`LR: 0.795012 (0.043198)`\n"
   ],
   "id": "62380ec01ec41d4b"
  },
  {
   "metadata": {},
   "cell_type": "markdown",
   "source": "## Modelagem com dados padronizados e normalizados",
   "id": "12588882e3f27c37"
  },
  {
   "metadata": {
    "ExecuteTime": {
     "end_time": "2024-09-25T17:34:28.360235433Z",
     "start_time": "2024-09-06T18:03:30.748005Z"
    }
   },
   "cell_type": "code",
   "source": [
    "np.random.seed(seed) # definindo uma semente global para este bloco\n",
    "\n",
    "# Listas para armazenar os armazenar os pipelines e os resultados para todas as visões do dataset\n",
    "pipelines = []\n",
    "results = []\n",
    "names = []\n",
    "\n",
    "\n",
    "# Criando os elementos do pipeline\n",
    "\n",
    "# Algoritmos que serão utilizados\n",
    "reg_log = ('LR', LogisticRegression(max_iter=200))\n",
    "knn = ('KNN', KNeighborsClassifier())\n",
    "cart = ('CART', DecisionTreeClassifier())\n",
    "naive_bayes = ('NB', GaussianNB())\n",
    "svm = ('SVM', SVC())\n",
    "bagging = ('Bag', BaggingClassifier(estimator=base, n_estimators=num_trees))\n",
    "random_forest = ('RF', RandomForestClassifier(n_estimators=num_trees, max_features=max_features))\n",
    "extra_trees = ('ET', ExtraTreesClassifier(n_estimators=num_trees, max_features=max_features))\n",
    "adaboost = ('Ada', AdaBoostClassifier(n_estimators=num_trees))\n",
    "gradient_boosting = ('GB', GradientBoostingClassifier(n_estimators=num_trees))\n",
    "voting = ('Voting', VotingClassifier(bases))\n",
    "\n",
    "# Transformações que serão utilizadas\n",
    "standard_scaler = ('StandardScaler', StandardScaler())\n",
    "min_max_scaler = ('MinMaxScaler', MinMaxScaler())\n",
    "\n",
    "\n",
    "# Montando os pipelines\n",
    "# A ordem de execução é da esquerda para a direita.\n",
    "\n",
    "# Dataset original\n",
    "pipelines.append(('LR-orig', Pipeline([reg_log]))) \n",
    "pipelines.append(('KNN-orig', Pipeline([knn])))\n",
    "pipelines.append(('CART-orig', Pipeline([cart])))\n",
    "pipelines.append(('NB-orig', Pipeline([naive_bayes])))\n",
    "pipelines.append(('SVM-orig', Pipeline([svm])))\n",
    "pipelines.append(('Bag-orig', Pipeline([bagging])))\n",
    "pipelines.append(('RF-orig', Pipeline([random_forest])))\n",
    "pipelines.append(('ET-orig', Pipeline([extra_trees])))\n",
    "pipelines.append(('Ada-orig', Pipeline([adaboost])))\n",
    "pipelines.append(('GB-orig', Pipeline([gradient_boosting])))\n",
    "pipelines.append(('Vot-orig', Pipeline([voting])))\n",
    "\n",
    "# Dataset Padronizado\n",
    "pipelines.append(('LR-padr', Pipeline([standard_scaler, reg_log]))) \n",
    "pipelines.append(('KNN-padr', Pipeline([standard_scaler, knn])))\n",
    "pipelines.append(('CART-padr', Pipeline([standard_scaler, cart])))\n",
    "pipelines.append(('NB-padr', Pipeline([standard_scaler, naive_bayes])))\n",
    "pipelines.append(('SVM-padr', Pipeline([standard_scaler, svm])))\n",
    "pipelines.append(('Bag-padr', Pipeline([standard_scaler, bagging]))) \n",
    "pipelines.append(('RF-padr', Pipeline([standard_scaler, random_forest])))\n",
    "pipelines.append(('ET-padr', Pipeline([standard_scaler, extra_trees])))\n",
    "pipelines.append(('Ada-padr', Pipeline([standard_scaler, adaboost])))\n",
    "pipelines.append(('GB-padr', Pipeline([standard_scaler, gradient_boosting])))\n",
    "pipelines.append(('Vot-padr', Pipeline([standard_scaler, voting])))\n",
    "\n",
    "# Dataset Normalizado\n",
    "pipelines.append(('LR-norm', Pipeline([min_max_scaler, reg_log]))) \n",
    "pipelines.append(('KNN-norm', Pipeline([min_max_scaler, knn])))\n",
    "pipelines.append(('CART-norm', Pipeline([min_max_scaler, cart])))\n",
    "pipelines.append(('NB-norm', Pipeline([min_max_scaler, naive_bayes])))\n",
    "pipelines.append(('SVM-norm', Pipeline([min_max_scaler, svm])))\n",
    "pipelines.append(('Bag-norm', Pipeline([min_max_scaler, bagging]))) \n",
    "pipelines.append(('RF-norm', Pipeline([min_max_scaler, random_forest])))\n",
    "pipelines.append(('ET-norm', Pipeline([min_max_scaler, extra_trees])))\n",
    "pipelines.append(('Ada-norm', Pipeline([min_max_scaler, adaboost])))\n",
    "pipelines.append(('GB-norm', Pipeline([min_max_scaler, gradient_boosting])))\n",
    "pipelines.append(('Vot-norm', Pipeline([min_max_scaler, voting])))\n",
    "\n",
    "# Executando os pipelines\n",
    "for name, model in pipelines:\n",
    "    cv_results = cross_val_score(model, X_train, y_train, cv=kfold, scoring=scoring)\n",
    "    results.append(cv_results)\n",
    "    names.append(name)\n",
    "    msg = \"%s: %f (%f)\" % (name, cv_results.mean(), cv_results.std())\n",
    "    print(msg)\n",
    "\n",
    "# Boxplot de comparação dos modelos\n",
    "fig = plt.figure(figsize=(25,6))\n",
    "fig.suptitle('Comparação dos Modelos - Dataset orginal, padronizado e normalizado') \n",
    "ax = fig.add_subplot(111) \n",
    "plt.boxplot(results) \n",
    "ax.set_xticklabels(names, rotation=90)\n",
    "plt.show()"
   ],
   "id": "500b5ddfa948dede",
   "outputs": [
    {
     "name": "stdout",
     "output_type": "stream",
     "text": [
      "LR-orig: 0.807551 (0.046806)\n",
      "KNN-orig: 0.698063 (0.027195)\n",
      "CART-orig: 0.758529 (0.029749)\n",
      "NB-orig: 0.761209 (0.061425)\n",
      "SVM-orig: 0.667136 (0.040084)\n",
      "Bag-orig: 0.792254 (0.040401)\n",
      "RF-orig: 0.789476 (0.042579)\n",
      "ET-orig: 0.785231 (0.040553)\n",
      "Ada-orig: 0.804773 (0.057871)\n",
      "GB-orig: 0.816099 (0.050957)\n",
      "Vot-orig: 0.794992 (0.029937)\n",
      "LR-padr: 0.811757 (0.050577)\n",
      "KNN-padr: 0.780947 (0.040113)\n",
      "CART-padr: 0.766999 (0.038819)\n",
      "NB-padr: 0.761209 (0.061425)\n",
      "SVM-padr: 0.818877 (0.034403)\n",
      "Bag-padr: 0.799218 (0.034115)\n",
      "RF-padr: 0.783764 (0.041419)\n",
      "ET-padr: 0.778267 (0.044989)\n",
      "Ada-padr: 0.804754 (0.057599)\n",
      "GB-padr: 0.816060 (0.047911)\n",
      "Vot-padr: 0.816002 (0.043404)\n",
      "LR-norm: 0.807512 (0.051376)\n",
      "KNN-norm: 0.783725 (0.044515)\n",
      "CART-norm: 0.771166 (0.027943)\n",
      "NB-norm: 0.761209 (0.061425)\n",
      "SVM-norm: 0.816041 (0.043686)\n",
      "Bag-norm: 0.782277 (0.031803)\n",
      "RF-norm: 0.787969 (0.035513)\n",
      "ET-norm: 0.781025 (0.045574)\n",
      "Ada-norm: 0.803365 (0.057730)\n",
      "GB-norm: 0.816099 (0.050957)\n",
      "Vot-norm: 0.820207 (0.044923)\n"
     ]
    },
    {
     "data": {
      "text/plain": [
       "<Figure size 2500x600 with 1 Axes>"
      ],
      "image/png": "[encoded data removed]"
     },
     "metadata": {},
     "output_type": "display_data"
    }
   ],
   "execution_count": 22
  },
  {
   "metadata": {},
   "cell_type": "markdown",
   "source": "Como podemos ver não houve qualquer variação nos dados ao normalizar e padronizar os dados, devido as características do dataset.",
   "id": "b5096173ddd6c71b"
  },
  {
   "metadata": {},
   "cell_type": "markdown",
   "source": "## Ajustamento de hiperparâmetros",
   "id": "6c4607bf9ff171de"
  },
  {
   "metadata": {
    "ExecuteTime": {
     "end_time": "2024-09-25T17:34:28.360421797Z",
     "start_time": "2024-09-06T18:03:56.233440Z"
    }
   },
   "cell_type": "code",
   "source": [
    "np.random.seed(seed)  # Definindo uma semente global para este bloco\n",
    "\n",
    "# Lista de modelos\n",
    "models = []\n",
    "\n",
    "# Criando os modelos e adicionando-os na lista de modelos\n",
    "models.append(('LR', LogisticRegression(max_iter=200))) \n",
    "models.append(('KNN', KNeighborsClassifier())) \n",
    "models.append(('CART', DecisionTreeClassifier())) \n",
    "models.append(('NB', GaussianNB()))\n",
    "models.append(('SVM', SVC()))\n",
    "\n",
    "# Definindo os parâmetros do classificador base para o BaggingClassifier\n",
    "base = DecisionTreeClassifier()\n",
    "num_trees = 100\n",
    "max_features = 3\n",
    "\n",
    "# Criando os modelos para o VotingClassifier\n",
    "bases = []\n",
    "model1 = LogisticRegression(max_iter=200)\n",
    "bases.append(('logistic', model1))\n",
    "model2 = DecisionTreeClassifier()\n",
    "bases.append(('cart', model2))\n",
    "model3 = SVC()\n",
    "bases.append(('svm', model3))\n",
    "\n",
    "# Criando os ensembles e adicionando-os na lista de modelos\n",
    "models.append(('Bagging', BaggingClassifier(estimator=base, n_estimators=num_trees)))\n",
    "models.append(('RF', RandomForestClassifier(n_estimators=num_trees, max_features=max_features)))\n",
    "models.append(('ET', ExtraTreesClassifier(n_estimators=num_trees, max_features=max_features)))\n",
    "models.append(('Ada', AdaBoostClassifier(n_estimators=num_trees)))\n",
    "models.append(('GB', GradientBoostingClassifier(n_estimators=num_trees)))\n",
    "models.append(('Voting', VotingClassifier(estimators=bases, voting='hard')))\n",
    "\n",
    "# Definindo os componentes do pipeline\n",
    "standard_scaler = ('StandardScaler', StandardScaler())\n",
    "min_max_scaler = ('MinMaxScaler', MinMaxScaler())\n",
    "\n",
    "# Lista de pipelines\n",
    "pipelines = []\n",
    "\n",
    "# Criando pipelines para cada modelo\n",
    "for name, model in models:\n",
    "    pipelines.append((name + '-orig', Pipeline(steps=[(name, model)])))\n",
    "    pipelines.append((name + '-padr', Pipeline(steps=[standard_scaler, (name, model)])))\n",
    "    pipelines.append((name + '-norm', Pipeline(steps=[min_max_scaler, (name, model)])))\n",
    "\n",
    "# Definindo os parâmetros para GridSearchCV\n",
    "param_grids = {\n",
    "    'LR': {\n",
    "        'LR__C': [0.01, 0.1, 1, 10, 100],\n",
    "        'LR__solver': ['liblinear', 'saga']\n",
    "    },\n",
    "    'KNN': {\n",
    "        'KNN__n_neighbors': [1, 3, 5, 7, 9, 11, 13, 15, 17, 19, 21],\n",
    "        'KNN__metric': [\"euclidean\", \"manhattan\", \"minkowski\"]\n",
    "    },\n",
    "    'CART': {\n",
    "        'CART__max_depth': [None, 10, 20, 30, 40, 50],\n",
    "        'CART__min_samples_split': [2, 5, 10],\n",
    "        'CART__min_samples_leaf': [1, 2, 4]\n",
    "    },\n",
    "    'NB': {\n",
    "        'NB__var_smoothing': [1e-9, 1e-8, 1e-7, 1e-6, 1e-5]\n",
    "    },\n",
    "    'SVM': {\n",
    "        'SVM__C': [0.001, 0.1, 1, 10], # Alterei os parâmetros do Prof. Lucas Romão to best fit my data\n",
    "        'SVM__gamma': [1, 0.1, 0.01, 0.001],\n",
    "        'SVM__kernel': ('rbf', 'linear') #\n",
    "    },\n",
    "    'RF': {\n",
    "        'RF__n_estimators': [10, 50, 100, 200],\n",
    "        'RF__max_features': ['auto', 'sqrt', 'log2'],\n",
    "        'RF__max_depth': [None, 10, 20, 30],\n",
    "        'RF__min_samples_split': [2, 5, 10],\n",
    "        'RF__min_samples_leaf': [1, 2, 4]\n",
    "    },\n",
    "    'ET': {\n",
    "        'ET__n_estimators': [10, 50, 100, 200],\n",
    "        'ET__max_features': ['auto', 'sqrt', 'log2'],\n",
    "        'ET__max_depth': [None, 10, 20, 30],\n",
    "        'ET__min_samples_split': [2, 5, 10],\n",
    "        'ET__min_samples_leaf': [1, 2, 4]\n",
    "    },\n",
    "    'Ada': {\n",
    "        'Ada__n_estimators': [10, 50, 100, 200],\n",
    "        'Ada__learning_rate': [0.01, 0.1, 1, 10]\n",
    "    },\n",
    "    'GB': {\n",
    "        'GB__n_estimators': [10, 50, 100, 200],\n",
    "        'GB__learning_rate': [0.01, 0.1, 0.2, 0.3],\n",
    "        'GB__max_depth': [3, 5, 7, 9]\n",
    "    },\n",
    "    'Voting': {\n",
    "        # Para VotingClassifier, geralmente não há hiperparâmetros para ajustar diretamente\n",
    "        # Ajustar os hiperparâmetros dos estimadores base individualmente se necessário\n",
    "    }\n",
    "}\n",
    "\n",
    "# Parâmetros de cross-validation e scoring\n",
    "scoring = 'accuracy'\n",
    "kfold = 5"
   ],
   "id": "102861f6c81fb546",
   "outputs": [],
   "execution_count": 23
  },
  {
   "metadata": {},
   "cell_type": "markdown",
   "source": [
    "### Execução das Pipelines de Normalização, Padronização e Hiperparametrizacao\n",
    "Devido ao tamanho do arquivo se tornou melhor usar multiprocessing. Para desabilitar basta alterar o parametro njob para a quantidade de núcleos que preferir."
   ],
   "id": "af55a705f393b0ce"
  },
  {
   "metadata": {
    "ExecuteTime": {
     "end_time": "2024-09-25T17:34:28.360528188Z",
     "start_time": "2024-09-06T18:56:14.408689Z"
    }
   },
   "cell_type": "code",
   "source": [
    "# Executando o GridSearchCV para cada pipeline\n",
    "for name, pipeline in pipelines:\n",
    "    model_type = name.split('-')[0]\n",
    "    if model_type in param_grids:\n",
    "        param_grid = param_grids[model_type]\n",
    "    else:\n",
    "        param_grid = {}  # Para modelos que não têm parâmetros definidos\n",
    "\n",
    "    grid = GridSearchCV(estimator=pipeline, param_grid=param_grid, scoring=scoring, cv=kfold, verbose=0, n_jobs=-1 )\n",
    "    grid.fit(X_train, y_train)\n",
    "    # Imprimindo a melhor configuração\n",
    "    print(\"Modelo: %s - Melhor: %f usando %s\" % (name, grid.best_score_, grid.best_params_))"
   ],
   "id": "c8dbd88939143e8d",
   "outputs": [
    {
     "name": "stdout",
     "output_type": "stream",
     "text": [
      "Modelo: LR-orig - Melhor: 0.807545 usando {'LR__C': 100, 'LR__solver': 'liblinear'}\n",
      "Modelo: LR-padr - Melhor: 0.807545 usando {'LR__C': 10, 'LR__solver': 'liblinear'}\n",
      "Modelo: LR-norm - Melhor: 0.807535 usando {'LR__C': 100, 'LR__solver': 'liblinear'}\n",
      "Modelo: KNN-orig - Melhor: 0.740106 usando {'KNN__metric': 'manhattan', 'KNN__n_neighbors': 17}\n",
      "Modelo: KNN-padr - Melhor: 0.804728 usando {'KNN__metric': 'manhattan', 'KNN__n_neighbors': 17}\n",
      "Modelo: KNN-norm - Melhor: 0.810361 usando {'KNN__metric': 'euclidean', 'KNN__n_neighbors': 19}\n",
      "Modelo: CART-orig - Melhor: 0.796316 usando {'CART__max_depth': 10, 'CART__min_samples_leaf': 4, 'CART__min_samples_split': 2}\n",
      "Modelo: CART-padr - Melhor: 0.794918 usando {'CART__max_depth': 30, 'CART__min_samples_leaf': 4, 'CART__min_samples_split': 5}\n",
      "Modelo: CART-norm - Melhor: 0.793509 usando {'CART__max_depth': 10, 'CART__min_samples_leaf': 4, 'CART__min_samples_split': 10}\n",
      "Modelo: NB-orig - Melhor: 0.749956 usando {'NB__var_smoothing': 1e-05}\n",
      "Modelo: NB-padr - Melhor: 0.748557 usando {'NB__var_smoothing': 1e-09}\n",
      "Modelo: NB-norm - Melhor: 0.748557 usando {'NB__var_smoothing': 1e-09}\n",
      "Modelo: SVM-orig - Melhor: 0.814557 usando {'SVM__C': 1, 'SVM__gamma': 1, 'SVM__kernel': 'linear'}\n",
      "Modelo: SVM-padr - Melhor: 0.821570 usando {'SVM__C': 10, 'SVM__gamma': 0.01, 'SVM__kernel': 'rbf'}\n",
      "Modelo: SVM-norm - Melhor: 0.818763 usando {'SVM__C': 10, 'SVM__gamma': 0.1, 'SVM__kernel': 'rbf'}\n",
      "Modelo: Bagging-orig - Melhor: 0.789274 usando {}\n",
      "Modelo: Bagging-padr - Melhor: 0.772422 usando {}\n",
      "Modelo: Bagging-norm - Melhor: 0.786457 usando {}\n",
      "Modelo: RF-orig - Melhor: 0.821560 usando {'RF__max_depth': 10, 'RF__max_features': 'sqrt', 'RF__min_samples_leaf': 2, 'RF__min_samples_split': 10, 'RF__n_estimators': 10}\n",
      "Modelo: RF-padr - Melhor: 0.822919 usando {'RF__max_depth': 10, 'RF__max_features': 'sqrt', 'RF__min_samples_leaf': 2, 'RF__min_samples_split': 10, 'RF__n_estimators': 10}\n",
      "Modelo: RF-norm - Melhor: 0.824357 usando {'RF__max_depth': None, 'RF__max_features': 'log2', 'RF__min_samples_leaf': 4, 'RF__min_samples_split': 5, 'RF__n_estimators': 50}\n",
      "Modelo: ET-orig - Melhor: 0.825815 usando {'ET__max_depth': 20, 'ET__max_features': 'sqrt', 'ET__min_samples_leaf': 4, 'ET__min_samples_split': 2, 'ET__n_estimators': 10}\n",
      "Modelo: ET-padr - Melhor: 0.821609 usando {'ET__max_depth': 10, 'ET__max_features': 'sqrt', 'ET__min_samples_leaf': 4, 'ET__min_samples_split': 10, 'ET__n_estimators': 10}\n",
      "Modelo: ET-norm - Melhor: 0.824397 usando {'ET__max_depth': None, 'ET__max_features': 'sqrt', 'ET__min_samples_leaf': 4, 'ET__min_samples_split': 2, 'ET__n_estimators': 50}\n",
      "Modelo: Ada-orig - Melhor: 0.799104 usando {'Ada__learning_rate': 0.1, 'Ada__n_estimators': 50}\n",
      "Modelo: Ada-padr - Melhor: 0.799104 usando {'Ada__learning_rate': 0.1, 'Ada__n_estimators': 50}\n",
      "Modelo: Ada-norm - Melhor: 0.799104 usando {'Ada__learning_rate': 0.1, 'Ada__n_estimators': 50}\n",
      "Modelo: GB-orig - Melhor: 0.822949 usando {'GB__learning_rate': 0.01, 'GB__max_depth': 3, 'GB__n_estimators': 200}\n",
      "Modelo: GB-padr - Melhor: 0.825766 usando {'GB__learning_rate': 0.2, 'GB__max_depth': 3, 'GB__n_estimators': 10}\n",
      "Modelo: GB-norm - Melhor: 0.824377 usando {'GB__learning_rate': 0.1, 'GB__max_depth': 3, 'GB__n_estimators': 50}\n",
      "Modelo: Voting-orig - Melhor: 0.790722 usando {}\n",
      "Modelo: Voting-padr - Melhor: 0.818783 usando {}\n",
      "Modelo: Voting-norm - Melhor: 0.818783 usando {}\n"
     ]
    }
   ],
   "execution_count": 26
  },
  {
   "metadata": {},
   "cell_type": "markdown",
   "source": "## Finalização do Modelo",
   "id": "db1c6a1171a2469c"
  },
  {
   "metadata": {},
   "cell_type": "markdown",
   "source": [
    "Conforme resultados da busca por parâmetros, o ensemble Gradient Boost apresentou o melhor resultado, na ordem de 82,5% no conjunto de dados de treino.<br>\n",
    "`Modelo: GB-padr - Melhor: 0.825766 usando {'GB__learning_rate': 0.2, 'GB__max_depth': 3, 'GB__n_estimators': 10}`"
   ],
   "id": "6ed5ff9730c2fa55"
  },
  {
   "metadata": {
    "ExecuteTime": {
     "end_time": "2024-09-25T17:34:28.360630218Z",
     "start_time": "2024-09-06T20:27:39.785314Z"
    }
   },
   "cell_type": "code",
   "source": [
    "np.random.seed(seed)\n",
    "\n",
    "# Preparação do modelo\n",
    "scaler = StandardScaler().fit(X_train)\n",
    "rescaledX = scaler.transform(X_train)\n",
    "model = GradientBoostingClassifier(learning_rate=0.2,\n",
    "                                   max_depth=3,\n",
    "                                   n_estimators=10,\n",
    "                               )\n",
    "model.fit(rescaledX, y_train)\n",
    "\n",
    "rescaledTestX = scaler.transform(X_test)\n",
    "predictions = model.predict(rescaledTestX)\n",
    "display(Markdown(f\"O desempenho do modelo contra o conjunto de dados de teste foi de **{accuracy_score(y_test, predictions)*100:.2f}%**\"))"
   ],
   "id": "861a67ef133badf9",
   "outputs": [
    {
     "data": {
      "text/plain": [
       "<IPython.core.display.Markdown object>"
      ],
      "text/markdown": "O desempenho do modelo contra o conjunto de dados de teste foi de **83.24%**"
     },
     "metadata": {},
     "output_type": "display_data"
    }
   ],
   "execution_count": 36
  },
  {
   "metadata": {},
   "cell_type": "markdown",
   "source": "## Salvando os arquivos",
   "id": "db426a597c297aa0"
  },
  {
   "metadata": {
    "ExecuteTime": {
     "end_time": "2024-09-25T17:34:28.360759629Z",
     "start_time": "2024-09-06T20:37:58.551083Z"
    }
   },
   "cell_type": "code",
   "source": [
    "# Salvando o modelo\n",
    "model_filename = 'rf_titanic_challenge.pkl'\n",
    "with open(\"../models/\"+model_filename, 'wb') as file:\n",
    "    pickle.dump(model, file)\n",
    "\n",
    "# Salvando o scaler\n",
    "scaler_filename = 'std_scaler_titanic.pkl'\n",
    "with open(\"../scalers/\"+scaler_filename, 'wb') as file:\n",
    "    pickle.dump(scaler, file)\n",
    "    \n",
    "# Salvando o pipeline\n",
    "pipeline_filename = 'rf_titanic_pipeline.pkl'\n",
    "with open(\"../pipelines/\"+pipeline_filename, 'wb') as file:\n",
    "    pickle.dump(pipeline, file)\n",
    "    \n",
    "# Salvando X_test e y_test\n",
    "X_test_df = pd.DataFrame(X_test, columns=df_treino.columns[1:12])\n",
    "y_test_df = pd.DataFrame(y_test, columns=[df_treino.columns[0]])\n",
    "X_test_df.to_csv(\"../data/X_test_dataset_titanic.csv\", index=False)\n",
    "y_test_df.to_csv(\"../data/y_test_dataset_titanic.csv\", index=False)"
   ],
   "id": "dd9b9f82212b9531",
   "outputs": [],
   "execution_count": 38
  },
  {
   "metadata": {},
   "cell_type": "code",
   "outputs": [],
   "execution_count": null,
   "source": "",
   "id": "ca690eb33ce38729"
  }
 ],
 "metadata": {
  "kernelspec": {
   "display_name": "Python 3",
   "language": "python",
   "name": "python3"
  },
  "language_info": {
   "codemirror_mode": {
    "name": "ipython",
    "version": 2
   },
   "file_extension": ".py",
   "mimetype": "text/x-python",
   "name": "python",
   "nbconvert_exporter": "python",
   "pygments_lexer": "ipython2",
   "version": "2.7.6"
  }
 },
 "nbformat": 4,
 "nbformat_minor": 5
}
