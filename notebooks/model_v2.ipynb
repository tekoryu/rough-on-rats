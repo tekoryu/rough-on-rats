{
 "cells": [
  {
   "metadata": {},
   "cell_type": "markdown",
   "source": "# Engenharia de Softwares Inteligentes - MVP - Titanic Challenge",
   "id": "5096018c1538fead"
  },
  {
   "metadata": {},
   "cell_type": "markdown",
   "source": [
    "Desafio, dados originais e detalhes da base disponiveis em:\n",
    "\n",
    "https://www.kaggle.com/competitions/titanic"
   ],
   "id": "bbb1328e10f52cbf"
  },
  {
   "metadata": {},
   "cell_type": "markdown",
   "source": [
    "## Descrição\n",
    "A base de dados utilizada é parte do _Titanic Challenge_, famoso desafio permanente do Kaggle.com para Machine Learning. O objetivo é que, a partir dos dados pessoais e de viagem de cada um dos passageiros do RMS Titanic, seja possível determinar a sobrevivência de cada um deles. Pela natureza subjetiva da escolha dos que teriam ou não acesso aos botes, não é possível estabelecer uma correlação plena, e valores muito elevados normalmente são sinais de que o teste estaria sobreajustado (overfitting). Contudo, a ordem inicial de carregamento dos botes foi dada por poucas pessoas ou uma única, o que nos permite deduzir um padrao. Serão criadas classes para demonstrar o potencial da utilização de boas práticas em Engenharia de Software. As classes servirão também para tratar dados fornecidos pelo usuário, que serão testados contra o modelo.<br>\n",
    "Colunas:\n",
    "-  Survival: Se a pessoa sobreviveu. Será nosso target.\n",
    "-  Pclass: [1,2,3] Primeira, Segunda e Terceira Classe\n",
    "-  Sex: Sexo do Passageiro\n",
    "-  Age: Idade\n",
    "-  SibSP: Irmãos e Conjuges\n",
    "-  Parch: Filhos ou Pais\n",
    "-  Ticket: Contem codigos que nao consegui explicar a natureza\n",
    "-  Fare: Valor do ingresso\n",
    "-  Cabin: Número da Cabine\n",
    "-  Embarked: Inicial do porto de embarque. <br>"
   ],
   "id": "bb3e2980beff12b2"
  },
  {
   "metadata": {},
   "cell_type": "markdown",
   "source": "## Etapa I - Carga e Processamento dos Dados",
   "id": "2c211164cc1ee495"
  },
  {
   "metadata": {
    "ExecuteTime": {
     "end_time": "2024-09-05T20:53:22.390217Z",
     "start_time": "2024-09-05T20:53:22.162968Z"
    }
   },
   "cell_type": "code",
   "source": [
    "# Configurações do notebook dentre outros\n",
    "import warnings\n",
    "warnings.filterwarnings(\"ignore\")\n",
    "\n",
    "# Imports gerais\n",
    "import re\n",
    "import pandas as pd\n",
    "import numpy as np\n",
    "import seaborn as sns\n",
    "import matplotlib.pyplot as plt\n",
    "import pickle\n",
    "\n",
    "# Imports específicos do Scikit-lean\n",
    "from sklearn.preprocessing import StandardScaler\n",
    "from sklearn.preprocessing import MinMaxScaler\n",
    "from sklearn.model_selection import train_test_split\n",
    "from sklearn.model_selection import StratifiedKFold\n",
    "from sklearn.preprocessing import LabelEncoder\n",
    "from sklearn.model_selection import GridSearchCV\n",
    "from sklearn.metrics import accuracy_score\n",
    "from sklearn.pipeline import Pipeline\n",
    "from sklearn.linear_model import LogisticRegression\n",
    "from sklearn.tree import DecisionTreeClassifier\n",
    "from sklearn.neighbors import KNeighborsClassifier\n",
    "from sklearn.naive_bayes import GaussianNB\n",
    "from sklearn.svm import SVC\n",
    "from sklearn.ensemble import BaggingClassifier\n",
    "from sklearn.ensemble import RandomForestClassifier\n",
    "from sklearn.ensemble import ExtraTreesClassifier\n",
    "from sklearn.ensemble import VotingClassifier\n",
    "from sklearn.ensemble import AdaBoostClassifier\n",
    "from sklearn.ensemble import GradientBoostingClassifier\n",
    "from sklearn.model_selection import cross_val_score"
   ],
   "id": "a9fde657b52c6598",
   "outputs": [],
   "execution_count": 2
  },
  {
   "metadata": {
    "ExecuteTime": {
     "end_time": "2024-09-05T20:53:23.257106Z",
     "start_time": "2024-09-05T20:53:22.391225Z"
    }
   },
   "cell_type": "code",
   "source": [
    "# Arquivos do Kaggle\n",
    "url = \"https://raw.githubusercontent.com/tekoryu/rough-on-rats/main/data/titanic/train.csv\"\n",
    "\n",
    "# Carga no Pandas\n",
    "df_treino = pd.read_csv(url, delimiter=',')"
   ],
   "id": "f2b7326bf4fcf42c",
   "outputs": [],
   "execution_count": 3
  },
  {
   "metadata": {
    "ExecuteTime": {
     "end_time": "2024-09-05T20:53:23.271608Z",
     "start_time": "2024-09-05T20:53:23.258118Z"
    }
   },
   "cell_type": "code",
   "source": "df_treino.head()",
   "id": "3d801376b7da3932",
   "outputs": [
    {
     "data": {
      "text/plain": [
       "   PassengerId  Survived  Pclass  \\\n",
       "0            1         0       3   \n",
       "1            2         1       1   \n",
       "2            3         1       3   \n",
       "3            4         1       1   \n",
       "4            5         0       3   \n",
       "\n",
       "                                                Name     Sex   Age  SibSp  \\\n",
       "0                            Braund, Mr. Owen Harris    male  22.0      1   \n",
       "1  Cumings, Mrs. John Bradley (Florence Briggs Th...  female  38.0      1   \n",
       "2                             Heikkinen, Miss. Laina  female  26.0      0   \n",
       "3       Futrelle, Mrs. Jacques Heath (Lily May Peel)  female  35.0      1   \n",
       "4                           Allen, Mr. William Henry    male  35.0      0   \n",
       "\n",
       "   Parch            Ticket     Fare Cabin Embarked  \n",
       "0      0         A/5 21171   7.2500   NaN        S  \n",
       "1      0          PC 17599  71.2833   C85        C  \n",
       "2      0  STON/O2. 3101282   7.9250   NaN        S  \n",
       "3      0            113803  53.1000  C123        S  \n",
       "4      0            373450   8.0500   NaN        S  "
      ],
      "text/html": [
       "<div>\n",
       "<style scoped>\n",
       "    .dataframe tbody tr th:only-of-type {\n",
       "        vertical-align: middle;\n",
       "    }\n",
       "\n",
       "    .dataframe tbody tr th {\n",
       "        vertical-align: top;\n",
       "    }\n",
       "\n",
       "    .dataframe thead th {\n",
       "        text-align: right;\n",
       "    }\n",
       "</style>\n",
       "<table border=\"1\" class=\"dataframe\">\n",
       "  <thead>\n",
       "    <tr style=\"text-align: right;\">\n",
       "      <th></th>\n",
       "      <th>PassengerId</th>\n",
       "      <th>Survived</th>\n",
       "      <th>Pclass</th>\n",
       "      <th>Name</th>\n",
       "      <th>Sex</th>\n",
       "      <th>Age</th>\n",
       "      <th>SibSp</th>\n",
       "      <th>Parch</th>\n",
       "      <th>Ticket</th>\n",
       "      <th>Fare</th>\n",
       "      <th>Cabin</th>\n",
       "      <th>Embarked</th>\n",
       "    </tr>\n",
       "  </thead>\n",
       "  <tbody>\n",
       "    <tr>\n",
       "      <th>0</th>\n",
       "      <td>1</td>\n",
       "      <td>0</td>\n",
       "      <td>3</td>\n",
       "      <td>Braund, Mr. Owen Harris</td>\n",
       "      <td>male</td>\n",
       "      <td>22.0</td>\n",
       "      <td>1</td>\n",
       "      <td>0</td>\n",
       "      <td>A/5 21171</td>\n",
       "      <td>7.2500</td>\n",
       "      <td>NaN</td>\n",
       "      <td>S</td>\n",
       "    </tr>\n",
       "    <tr>\n",
       "      <th>1</th>\n",
       "      <td>2</td>\n",
       "      <td>1</td>\n",
       "      <td>1</td>\n",
       "      <td>Cumings, Mrs. John Bradley (Florence Briggs Th...</td>\n",
       "      <td>female</td>\n",
       "      <td>38.0</td>\n",
       "      <td>1</td>\n",
       "      <td>0</td>\n",
       "      <td>PC 17599</td>\n",
       "      <td>71.2833</td>\n",
       "      <td>C85</td>\n",
       "      <td>C</td>\n",
       "    </tr>\n",
       "    <tr>\n",
       "      <th>2</th>\n",
       "      <td>3</td>\n",
       "      <td>1</td>\n",
       "      <td>3</td>\n",
       "      <td>Heikkinen, Miss. Laina</td>\n",
       "      <td>female</td>\n",
       "      <td>26.0</td>\n",
       "      <td>0</td>\n",
       "      <td>0</td>\n",
       "      <td>STON/O2. 3101282</td>\n",
       "      <td>7.9250</td>\n",
       "      <td>NaN</td>\n",
       "      <td>S</td>\n",
       "    </tr>\n",
       "    <tr>\n",
       "      <th>3</th>\n",
       "      <td>4</td>\n",
       "      <td>1</td>\n",
       "      <td>1</td>\n",
       "      <td>Futrelle, Mrs. Jacques Heath (Lily May Peel)</td>\n",
       "      <td>female</td>\n",
       "      <td>35.0</td>\n",
       "      <td>1</td>\n",
       "      <td>0</td>\n",
       "      <td>113803</td>\n",
       "      <td>53.1000</td>\n",
       "      <td>C123</td>\n",
       "      <td>S</td>\n",
       "    </tr>\n",
       "    <tr>\n",
       "      <th>4</th>\n",
       "      <td>5</td>\n",
       "      <td>0</td>\n",
       "      <td>3</td>\n",
       "      <td>Allen, Mr. William Henry</td>\n",
       "      <td>male</td>\n",
       "      <td>35.0</td>\n",
       "      <td>0</td>\n",
       "      <td>0</td>\n",
       "      <td>373450</td>\n",
       "      <td>8.0500</td>\n",
       "      <td>NaN</td>\n",
       "      <td>S</td>\n",
       "    </tr>\n",
       "  </tbody>\n",
       "</table>\n",
       "</div>"
      ]
     },
     "execution_count": 4,
     "metadata": {},
     "output_type": "execute_result"
    }
   ],
   "execution_count": 4
  },
  {
   "metadata": {},
   "cell_type": "markdown",
   "source": "## Pronomes de Tratamento",
   "id": "b302d482b1cf8d79"
  },
  {
   "metadata": {},
   "cell_type": "markdown",
   "source": "A classe, título ou qualificação do passegeiro pode ter sido fator preponderante para determinar se uma pessoa foi ou não escolhida para ir aos botes.",
   "id": "7be73fb5bed96ccc"
  },
  {
   "metadata": {
    "ExecuteTime": {
     "end_time": "2024-09-05T20:53:23.279179Z",
     "start_time": "2024-09-05T20:53:23.272612Z"
    }
   },
   "cell_type": "code",
   "source": [
    "def pega_pronome_tratamento(entrada):\n",
    "    # A entrada deve ser um dataframe. Pega o Mr. Mrs. e coloca em coluna própria\n",
    "    pronome_tratamento = re.search(r' ([A-Za-z]+)\\.',entrada)\n",
    "    if pronome_tratamento:\n",
    "        return pronome_tratamento.group(1)\n",
    "    return \"\"\n",
    "\n",
    "df_treino['Pronome'] = df_treino['Name'].apply(pega_pronome_tratamento)"
   ],
   "id": "e8b2910b4e99627d",
   "outputs": [],
   "execution_count": 5
  },
  {
   "metadata": {},
   "cell_type": "markdown",
   "source": "Vejamos qual a distribuição desses pronomes entre os sobreviventes.",
   "id": "3ec65a22a490b2b9"
  },
  {
   "metadata": {
    "ExecuteTime": {
     "end_time": "2024-09-05T20:53:23.294047Z",
     "start_time": "2024-09-05T20:53:23.280184Z"
    }
   },
   "cell_type": "code",
   "source": [
    "grouped = df_treino.groupby(['Pronome', 'Survived']).size().unstack(fill_value=0)\n",
    "distribuicao = grouped.div(grouped.sum(axis=1), axis=0) * 100\n",
    "distribuicao.drop(0, axis=1, inplace=True)\n",
    "distribuicao\n",
    "# Valores serão apresentados como % do total"
   ],
   "id": "d64d3a06f1448d61",
   "outputs": [
    {
     "data": {
      "text/plain": [
       "Survived           1\n",
       "Pronome             \n",
       "Capt        0.000000\n",
       "Col        50.000000\n",
       "Countess  100.000000\n",
       "Don         0.000000\n",
       "Dr         42.857143\n",
       "Jonkheer    0.000000\n",
       "Lady      100.000000\n",
       "Major      50.000000\n",
       "Master     57.500000\n",
       "Miss       69.780220\n",
       "Mlle      100.000000\n",
       "Mme       100.000000\n",
       "Mr         15.667311\n",
       "Mrs        79.200000\n",
       "Ms        100.000000\n",
       "Rev         0.000000\n",
       "Sir       100.000000"
      ],
      "text/html": [
       "<div>\n",
       "<style scoped>\n",
       "    .dataframe tbody tr th:only-of-type {\n",
       "        vertical-align: middle;\n",
       "    }\n",
       "\n",
       "    .dataframe tbody tr th {\n",
       "        vertical-align: top;\n",
       "    }\n",
       "\n",
       "    .dataframe thead th {\n",
       "        text-align: right;\n",
       "    }\n",
       "</style>\n",
       "<table border=\"1\" class=\"dataframe\">\n",
       "  <thead>\n",
       "    <tr style=\"text-align: right;\">\n",
       "      <th>Survived</th>\n",
       "      <th>1</th>\n",
       "    </tr>\n",
       "    <tr>\n",
       "      <th>Pronome</th>\n",
       "      <th></th>\n",
       "    </tr>\n",
       "  </thead>\n",
       "  <tbody>\n",
       "    <tr>\n",
       "      <th>Capt</th>\n",
       "      <td>0.000000</td>\n",
       "    </tr>\n",
       "    <tr>\n",
       "      <th>Col</th>\n",
       "      <td>50.000000</td>\n",
       "    </tr>\n",
       "    <tr>\n",
       "      <th>Countess</th>\n",
       "      <td>100.000000</td>\n",
       "    </tr>\n",
       "    <tr>\n",
       "      <th>Don</th>\n",
       "      <td>0.000000</td>\n",
       "    </tr>\n",
       "    <tr>\n",
       "      <th>Dr</th>\n",
       "      <td>42.857143</td>\n",
       "    </tr>\n",
       "    <tr>\n",
       "      <th>Jonkheer</th>\n",
       "      <td>0.000000</td>\n",
       "    </tr>\n",
       "    <tr>\n",
       "      <th>Lady</th>\n",
       "      <td>100.000000</td>\n",
       "    </tr>\n",
       "    <tr>\n",
       "      <th>Major</th>\n",
       "      <td>50.000000</td>\n",
       "    </tr>\n",
       "    <tr>\n",
       "      <th>Master</th>\n",
       "      <td>57.500000</td>\n",
       "    </tr>\n",
       "    <tr>\n",
       "      <th>Miss</th>\n",
       "      <td>69.780220</td>\n",
       "    </tr>\n",
       "    <tr>\n",
       "      <th>Mlle</th>\n",
       "      <td>100.000000</td>\n",
       "    </tr>\n",
       "    <tr>\n",
       "      <th>Mme</th>\n",
       "      <td>100.000000</td>\n",
       "    </tr>\n",
       "    <tr>\n",
       "      <th>Mr</th>\n",
       "      <td>15.667311</td>\n",
       "    </tr>\n",
       "    <tr>\n",
       "      <th>Mrs</th>\n",
       "      <td>79.200000</td>\n",
       "    </tr>\n",
       "    <tr>\n",
       "      <th>Ms</th>\n",
       "      <td>100.000000</td>\n",
       "    </tr>\n",
       "    <tr>\n",
       "      <th>Rev</th>\n",
       "      <td>0.000000</td>\n",
       "    </tr>\n",
       "    <tr>\n",
       "      <th>Sir</th>\n",
       "      <td>100.000000</td>\n",
       "    </tr>\n",
       "  </tbody>\n",
       "</table>\n",
       "</div>"
      ]
     },
     "execution_count": 6,
     "metadata": {},
     "output_type": "execute_result"
    }
   ],
   "execution_count": 6
  },
  {
   "metadata": {},
   "cell_type": "markdown",
   "source": "Classificarei os passageiros, através do seu pronome pela probabilidade de ser poupado ou de se sacrificar, com base na lista acima. 5 para chances altas de se sacrificar até 1, para chances altas de ser poupado.",
   "id": "8eb9ccfac6e3f92"
  },
  {
   "metadata": {
    "ExecuteTime": {
     "end_time": "2024-09-05T20:53:23.300578Z",
     "start_time": "2024-09-05T20:53:23.295053Z"
    }
   },
   "cell_type": "code",
   "source": [
    "estoicismo = {\n",
    "    'Capt': 5,\n",
    "    'Col': 3,\n",
    "    'Countess': 1,\n",
    "    'Don': 5,\n",
    "    'Dr': 3,\n",
    "    'Jonkheer': 5,\n",
    "    'Lady': 1,\n",
    "    'Major': 3,\n",
    "    'Master': 3,\n",
    "    'Miss': 4,\n",
    "    'Mlle': 1,\n",
    "    'Mme': 1,\n",
    "    'Mr': 2,\n",
    "    'Mrs': 2,\n",
    "    'Ms': 1,\n",
    "    'Rev': 5,\n",
    "    'Sir': 1\n",
    "}\n",
    "df_treino['Aval_Pronome'] = df_treino[\"Pronome\"].apply(lambda x: estoicismo.get(x))"
   ],
   "id": "941666ee59f6e383",
   "outputs": [],
   "execution_count": 7
  },
  {
   "metadata": {},
   "cell_type": "markdown",
   "source": [
    "## Porto de Embarque\n",
    "A  compreensão do porto de embarque pode ser relevante uma vez que praticamente toda a tripulação partiu de Southampton."
   ],
   "id": "b509d7ca59dca923"
  },
  {
   "metadata": {
    "ExecuteTime": {
     "end_time": "2024-09-05T20:53:23.306783Z",
     "start_time": "2024-09-05T20:53:23.301585Z"
    }
   },
   "cell_type": "code",
   "source": [
    "# Transforma o código do porto de embarque em escalar.\n",
    "le = LabelEncoder()\n",
    "df_treino[\"Embarked\"] = df_treino[\"Embarked\"].apply(lambda x: 'A' if x == 28.0 else x ) # Tinha uma linha com float ao inves de string\n",
    "df_treino[\"cod_embarque\"] = le.fit_transform(df_treino['Embarked'])"
   ],
   "id": "99e432c02714bf05",
   "outputs": [],
   "execution_count": 8
  },
  {
   "metadata": {},
   "cell_type": "markdown",
   "source": [
    "## Valor do Ticket\n",
    "Os valores de ticket estao errados pois correspondem provavelmente ao valor de face (observe que quem viaja com família tem sempre tickets maiores). Vamos somar os integrantes da família e dividir por cabeça o valor do ticket."
   ],
   "id": "bd4cc845c491e302"
  },
  {
   "metadata": {
    "ExecuteTime": {
     "end_time": "2024-09-05T20:53:23.314647Z",
     "start_time": "2024-09-05T20:53:23.307792Z"
    }
   },
   "cell_type": "code",
   "source": [
    "df_treino[\"FixedFare\"] = df_treino[\"Fare\"]/(df_treino[\"SibSp\"] + df_treino[\"Parch\"] + 1)\n",
    "df_treino[\"FixedFare\"] = df_treino[\"FixedFare\"].apply(np.round)"
   ],
   "id": "39710de7fdd42f76",
   "outputs": [],
   "execution_count": 9
  },
  {
   "metadata": {},
   "cell_type": "markdown",
   "source": [
    "## Categorias de Idade\n",
    "Vamos criar categorias de idade para agrupar os passageiros no que consideramos ser categorias de idade relevantes para o processo de escolha dos sobreviventes. Contudo há algumas idades que estão em branco. Vamos preencher a idade faltante com a mediana da idade das pessoas com aquele pronome de tratamento. "
   ],
   "id": "86d51fb93ac5add1"
  },
  {
   "metadata": {
    "ExecuteTime": {
     "end_time": "2024-09-05T20:53:23.335029Z",
     "start_time": "2024-09-05T20:53:23.315654Z"
    }
   },
   "cell_type": "code",
   "source": [
    "# Pega a média das idades por pronome\n",
    "pronomes = df_treino[\"Pronome\"].unique()\n",
    "\n",
    "# Pega a mediana por pronome\n",
    "mediana = {}\n",
    "for pronome in pronomes:\n",
    "    mediana[pronome] = df_treino[\"Age\"][df_treino[\"Pronome\"] == pronome].median()\n",
    "\n",
    "# Preenche as idades em branco com a media das idades para aquele pronome\n",
    "df_treino['Age'] = df_treino.apply(lambda x: mediana[x['Pronome']] if pd.isna(x['Age']) else x['Age'], axis=1)\n",
    "\n",
    "# Converte para inteiro\n",
    "df_treino[\"Age\"] = df_treino[\"Age\"].astype(int)\n",
    "\n",
    "# Cria uma feature nova, categorizando os passageiros em idades relevantes para a decisão de acesso ao bote.\n",
    "df_treino[\"classe_idade\"] = pd.cut(df_treino[\"Age\"], bins=[-np.inf,5,10,13,60,np.inf], labels=[\"Colo\",\"Nova\",\"Jovem\",\"Adulto\", \"Idoso\"])"
   ],
   "id": "a7edc097a0164e60",
   "outputs": [],
   "execution_count": 10
  },
  {
   "metadata": {
    "ExecuteTime": {
     "end_time": "2024-09-05T20:53:23.346969Z",
     "start_time": "2024-09-05T20:53:23.337039Z"
    }
   },
   "cell_type": "code",
   "source": [
    "# Sobreviventes por classe de idade\n",
    "grouped = df_treino.groupby(['classe_idade', 'Survived']).size().unstack(fill_value=0)\n",
    "distribuicao = grouped.div(grouped.sum(axis=1), axis=0) * 100\n",
    "distribuicao.drop(0, axis=1, inplace=True) # Não há necessidade da coluna de não-sobreviventes\n",
    "distribuicao"
   ],
   "id": "8191c620457dcb5d",
   "outputs": [
    {
     "data": {
      "text/plain": [
       "Survived              1\n",
       "classe_idade           \n",
       "Colo          68.750000\n",
       "Nova          35.000000\n",
       "Jovem         57.142857\n",
       "Adulto        36.901763\n",
       "Idoso         22.727273"
      ],
      "text/html": [
       "<div>\n",
       "<style scoped>\n",
       "    .dataframe tbody tr th:only-of-type {\n",
       "        vertical-align: middle;\n",
       "    }\n",
       "\n",
       "    .dataframe tbody tr th {\n",
       "        vertical-align: top;\n",
       "    }\n",
       "\n",
       "    .dataframe thead th {\n",
       "        text-align: right;\n",
       "    }\n",
       "</style>\n",
       "<table border=\"1\" class=\"dataframe\">\n",
       "  <thead>\n",
       "    <tr style=\"text-align: right;\">\n",
       "      <th>Survived</th>\n",
       "      <th>1</th>\n",
       "    </tr>\n",
       "    <tr>\n",
       "      <th>classe_idade</th>\n",
       "      <th></th>\n",
       "    </tr>\n",
       "  </thead>\n",
       "  <tbody>\n",
       "    <tr>\n",
       "      <th>Colo</th>\n",
       "      <td>68.750000</td>\n",
       "    </tr>\n",
       "    <tr>\n",
       "      <th>Nova</th>\n",
       "      <td>35.000000</td>\n",
       "    </tr>\n",
       "    <tr>\n",
       "      <th>Jovem</th>\n",
       "      <td>57.142857</td>\n",
       "    </tr>\n",
       "    <tr>\n",
       "      <th>Adulto</th>\n",
       "      <td>36.901763</td>\n",
       "    </tr>\n",
       "    <tr>\n",
       "      <th>Idoso</th>\n",
       "      <td>22.727273</td>\n",
       "    </tr>\n",
       "  </tbody>\n",
       "</table>\n",
       "</div>"
      ]
     },
     "execution_count": 11,
     "metadata": {},
     "output_type": "execute_result"
    }
   ],
   "execution_count": 11
  },
  {
   "metadata": {},
   "cell_type": "markdown",
   "source": "Agora é necessário transformar essas classes de idade em números. Uma abordagem bem conhecida é a utilização de `pd.get_dummies` ou `OneHotEncoder`. Contudo, testes anteriores demonstraram uma prevalência de algoritmos de Random Forest para esse desafio, que não é muito compatível com essas técnicas nesse contexto (perda de desempenho). Ainda, se não houverem tantas categorias no dataset de teste então os datasets terão tamanhos diferentes e poderão perder precisão. Por motivos de não-relação entre as categorias, não parece ser interessante o uso de escalares para a medição, pois levaria a uma falsa relação em algoritmos com o KNN.  Contudo, como acreditamos que o algoritmo RF terá o melhor desempenho, rotularemos com escalares mas não através do `LabelEncoder`, para garantir um mínimo de lógica em KNN.",
   "id": "4c6422416ff9db9d"
  },
  {
   "metadata": {
    "ExecuteTime": {
     "end_time": "2024-09-05T20:53:23.351826Z",
     "start_time": "2024-09-05T20:53:23.347979Z"
    }
   },
   "cell_type": "code",
   "source": [
    "cat_idades  = {\n",
    "    'Colo': 1,\n",
    "    'Nova': 2,\n",
    "    'Jovem': 3,\n",
    "    'Adulto': 4,\n",
    "    'Idoso': 5,    \n",
    "}\n",
    "\n",
    "df_treino[\"classe_idade\"] = df_treino[\"classe_idade\"].map(cat_idades)"
   ],
   "id": "a50764398d7d8b66",
   "outputs": [],
   "execution_count": 12
  },
  {
   "metadata": {},
   "cell_type": "markdown",
   "source": [
    "## Sexo\n",
    "Em relação ao sexo dos passageiros, não haverá o problema de datasets em tamanhos diferentes, uma vez que não é provável que no dataset de testes tenha apenas um dos sexos. Nesse caso o uso de `get_dummies` não será um empecilho, contudo a binariedade de valores possíveis para sexo aqui permite criar uma única coluna com um e zero. Notar que não se fala aqui em gêneros, mas do sexo biológico."
   ],
   "id": "5b3d2820b0d3f978"
  },
  {
   "metadata": {
    "ExecuteTime": {
     "end_time": "2024-09-05T20:53:23.358174Z",
     "start_time": "2024-09-05T20:53:23.352838Z"
    }
   },
   "cell_type": "code",
   "source": "df_treino[\"Sex\"] = df_treino[\"Sex\"].map({'male':1,'female':0})",
   "id": "1b6401a31df0cf6b",
   "outputs": [],
   "execution_count": 13
  },
  {
   "metadata": {},
   "cell_type": "markdown",
   "source": "## Outros fatores",
   "id": "c889d8b7adecfe47"
  },
  {
   "metadata": {},
   "cell_type": "markdown",
   "source": "É possível determinar se a pessoa viajou sozinha. É uma informação que pode melhorar o estudo já que pessoas viajando sozinhas poderiam ter dado vaga para um integrante de familia.",
   "id": "462d0119e4b9fdaa"
  },
  {
   "metadata": {
    "ExecuteTime": {
     "end_time": "2024-09-05T20:53:23.364245Z",
     "start_time": "2024-09-05T20:53:23.359184Z"
    }
   },
   "cell_type": "code",
   "source": "df_treino[\"Sozinho\"] = np.where(df_treino[\"SibSp\"]+df_treino[\"Parch\"]==0,1,0)",
   "id": "62cfa51a4fbe92c",
   "outputs": [],
   "execution_count": 14
  },
  {
   "metadata": {},
   "cell_type": "markdown",
   "source": [
    "## Limpeza\n",
    "Vamos agora conseguir remover colunas desnecessárias para o treinamento."
   ],
   "id": "46efe47053284030"
  },
  {
   "metadata": {
    "ExecuteTime": {
     "end_time": "2024-09-05T20:53:23.370153Z",
     "start_time": "2024-09-05T20:53:23.365254Z"
    }
   },
   "cell_type": "code",
   "source": "df_treino.drop([\"PassengerId\",\"Name\",\"Ticket\",\"Cabin\",\"Embarked\", \"Pronome\"], axis=1, inplace=True)",
   "id": "c27c0e0403ac7903",
   "outputs": [],
   "execution_count": 15
  },
  {
   "metadata": {},
   "cell_type": "markdown",
   "source": [
    "## Tratamento de Null e em branco\n",
    "Nota-se abaixo que não há colunas no dataframe."
   ],
   "id": "91ae6bfcca45b737"
  },
  {
   "metadata": {
    "ExecuteTime": {
     "end_time": "2024-09-05T20:53:23.377042Z",
     "start_time": "2024-09-05T20:53:23.371164Z"
    }
   },
   "cell_type": "code",
   "source": "df_treino.isna().sum(axis=0).sort_values(ascending=False)",
   "id": "d1cc6c790e0cc6a8",
   "outputs": [
    {
     "data": {
      "text/plain": [
       "Survived        0\n",
       "Pclass          0\n",
       "Sex             0\n",
       "Age             0\n",
       "SibSp           0\n",
       "Parch           0\n",
       "Fare            0\n",
       "Aval_Pronome    0\n",
       "cod_embarque    0\n",
       "FixedFare       0\n",
       "classe_idade    0\n",
       "Sozinho         0\n",
       "dtype: int64"
      ]
     },
     "execution_count": 16,
     "metadata": {},
     "output_type": "execute_result"
    }
   ],
   "execution_count": 16
  },
  {
   "metadata": {},
   "cell_type": "markdown",
   "source": [
    "## Análise dos dados\n",
    "Vamos verificar se algum tipo de correlação se anunciou após todo o processo de engenharia dos atributos. Cores claras indicam correlação, proporcional ou inversamente proporcional."
   ],
   "id": "bffe5f10162ae22"
  },
  {
   "metadata": {
    "ExecuteTime": {
     "end_time": "2024-09-05T20:53:23.757475Z",
     "start_time": "2024-09-05T20:53:23.378048Z"
    }
   },
   "cell_type": "code",
   "source": "sns.heatmap(df_treino.corr(), linewidths=0.5, cmap='seismic')",
   "id": "69567860fcc34d34",
   "outputs": [
    {
     "data": {
      "text/plain": [
       "<Axes: >"
      ]
     },
     "execution_count": 17,
     "metadata": {},
     "output_type": "execute_result"
    },
    {
     "data": {
      "text/plain": [
       "<Figure size 640x480 with 2 Axes>"
      ],
      "image/png": "[encoded data removed]"
     },
     "metadata": {},
     "output_type": "display_data"
    }
   ],
   "execution_count": 17
  },
  {
   "metadata": {},
   "cell_type": "markdown",
   "source": "***",
   "id": "ba544502e0d3a5d4"
  },
  {
   "metadata": {},
   "cell_type": "markdown",
   "source": "## Holdout com particionamento",
   "id": "8ddbeda41a40f747"
  },
  {
   "metadata": {
    "ExecuteTime": {
     "end_time": "2024-09-05T20:53:23.765448Z",
     "start_time": "2024-09-05T20:53:23.758482Z"
    }
   },
   "cell_type": "code",
   "source": [
    "test_size = 0.2\n",
    "seed = 3\n",
    "\n",
    "# Separacao em conjunto de teste e treino\n",
    "array = df_treino.values\n",
    "X = array[:,1:12]\n",
    "y = array[:,0]\n",
    "X_train, X_test, y_train, y_test = train_test_split(\n",
    "    X,y,\n",
    "    test_size=test_size,\n",
    "    random_state=seed,\n",
    "    shuffle=True,\n",
    "    stratify=y\n",
    ")\n",
    "\n",
    "scoring= 'accuracy'\n",
    "num_particoes = 10\n",
    "kfold = StratifiedKFold(n_splits=10, random_state=seed, shuffle=True)"
   ],
   "id": "3b17c2b7dc631c08",
   "outputs": [],
   "execution_count": 18
  },
  {
   "metadata": {},
   "cell_type": "markdown",
   "source": "## Modelagem e Inferência",
   "id": "6c1d8d9edd70495a"
  },
  {
   "metadata": {},
   "cell_type": "markdown",
   "source": "### Modelagem",
   "id": "324ab46e671197af"
  },
  {
   "metadata": {
    "ExecuteTime": {
     "end_time": "2024-09-05T20:53:23.776077Z",
     "start_time": "2024-09-05T20:53:23.767458Z"
    }
   },
   "cell_type": "code",
   "source": [
    "np.random.seed(seed)\n",
    "\n",
    "models = []\n",
    "\n",
    "models.append(('LR', LogisticRegression()))\n",
    "models.append(('KNN', KNeighborsClassifier()))\n",
    "models.append(('CART', DecisionTreeClassifier()))\n",
    "models.append(('NB', GaussianNB()))\n",
    "models.append(('SVM', SVC()))\n",
    "\n",
    "# Definindo os parâmetros do classificador base para o BaggingClassifier\n",
    "base = DecisionTreeClassifier()\n",
    "num_trees = 100\n",
    "max_features = 3\n",
    "\n",
    "# Criando os modelos para o VotingClassifier\n",
    "bases = []\n",
    "model1 = LogisticRegression(max_iter=200)\n",
    "bases.append(('logistic', model1))\n",
    "model2 = DecisionTreeClassifier()\n",
    "bases.append(('cart', model2))\n",
    "model3 = SVC()\n",
    "bases.append(('svm', model3))\n",
    "\n",
    "# Criando os ensembles e adicionando-os na lista de modelos\n",
    "models.append(('Bagging', BaggingClassifier(estimator=base, n_estimators=num_trees)))\n",
    "models.append(('RF', RandomForestClassifier(n_estimators=num_trees, max_features=max_features)))\n",
    "models.append(('ET', ExtraTreesClassifier(n_estimators=num_trees, max_features=max_features)))\n",
    "models.append(('Ada', AdaBoostClassifier(n_estimators=num_trees)))\n",
    "models.append(('GB', GradientBoostingClassifier(n_estimators=num_trees)))\n",
    "models.append(('Voting', VotingClassifier(bases)))"
   ],
   "id": "8c3d0c559ced628a",
   "outputs": [],
   "execution_count": 19
  },
  {
   "metadata": {},
   "cell_type": "markdown",
   "source": "### Inferência",
   "id": "b3a3cf913af56f9a"
  },
  {
   "metadata": {
    "ExecuteTime": {
     "end_time": "2024-09-05T20:53:32.348199Z",
     "start_time": "2024-09-05T20:53:23.777086Z"
    }
   },
   "cell_type": "code",
   "source": [
    "results = []\n",
    "names = []\n",
    "\n",
    "for name, model in models:\n",
    "    cv_results = cross_val_score(model, X_train, y_train, cv=kfold, scoring=scoring)\n",
    "    results.append(cv_results)\n",
    "    names.append(name)\n",
    "    msg = \"%s: %f (%f)\" % (name, cv_results.mean(), cv_results.std())\n",
    "    print(msg)"
   ],
   "id": "9b0497de8c41005a",
   "outputs": [
    {
     "name": "stdout",
     "output_type": "stream",
     "text": [
      "LR: 0.795012 (0.043198)\n",
      "KNN: 0.696674 (0.029111)\n",
      "CART: 0.748768 (0.039129)\n",
      "NB: 0.761209 (0.061425)\n",
      "SVM: 0.667136 (0.040084)\n",
      "Bagging: 0.793662 (0.036970)\n",
      "RF: 0.789495 (0.037561)\n",
      "ET: 0.779636 (0.038822)\n",
      "Ada: 0.800548 (0.055229)\n",
      "GB: 0.825880 (0.041212)\n",
      "Voting: 0.789397 (0.038823)\n"
     ]
    }
   ],
   "execution_count": 20
  },
  {
   "metadata": {
    "ExecuteTime": {
     "end_time": "2024-09-05T20:53:32.529118Z",
     "start_time": "2024-09-05T20:53:32.349204Z"
    }
   },
   "cell_type": "code",
   "source": [
    "# Boxplot de comparação dos modelos\n",
    "fig = plt.figure(figsize=(10,8))\n",
    "fig.suptitle('Comparação dos Modelos')\n",
    "ax = fig.add_subplot(111)\n",
    "plt.boxplot(results)\n",
    "ax.set_xticklabels(names)\n",
    "plt.show()"
   ],
   "id": "c2fae71dddaa6909",
   "outputs": [
    {
     "data": {
      "text/plain": [
       "<Figure size 1000x800 with 1 Axes>"
      ],
      "image/png": "[encoded data removed]"
     },
     "metadata": {},
     "output_type": "display_data"
    }
   ],
   "execution_count": 21
  },
  {
   "metadata": {},
   "cell_type": "markdown",
   "source": "## Pipelines de Normalização dos dados e Hiperparametrização",
   "id": "b406370235a696d1"
  },
  {
   "metadata": {},
   "cell_type": "markdown",
   "source": "Os algoritmos que mais se destacaram foram os de Gradient Booster, Ada e Logistic Regression. O resultado foi satisfatório, dentro dos parametros esperados.",
   "id": "aa4729604d788e12"
  },
  {
   "metadata": {},
   "cell_type": "markdown",
   "source": [
    "`GB: 0.825880 (0.041212)`\n",
    "`Ada: 0.800548 (0.055229)`\n",
    "`LR: 0.795012 (0.043198)`\n"
   ],
   "id": "62380ec01ec41d4b"
  },
  {
   "metadata": {
    "ExecuteTime": {
     "end_time": "2024-09-05T20:53:32.540026Z",
     "start_time": "2024-09-05T20:53:32.530127Z"
    }
   },
   "cell_type": "code",
   "source": [
    "np.random.seed(seed)  # Definindo uma semente global para este bloco\n",
    "\n",
    "# Lista de modelos\n",
    "models = []\n",
    "\n",
    "# Criando os modelos e adicionando-os na lista de modelos\n",
    "models.append(('LR', LogisticRegression(max_iter=200))) \n",
    "models.append(('KNN', KNeighborsClassifier())) \n",
    "models.append(('CART', DecisionTreeClassifier())) \n",
    "models.append(('NB', GaussianNB()))\n",
    "models.append(('SVM', SVC()))\n",
    "\n",
    "# Definindo os parâmetros do classificador base para o BaggingClassifier\n",
    "base = DecisionTreeClassifier()\n",
    "num_trees = 100\n",
    "max_features = 3\n",
    "\n",
    "# Criando os modelos para o VotingClassifier\n",
    "bases = []\n",
    "model1 = LogisticRegression(max_iter=200)\n",
    "bases.append(('logistic', model1))\n",
    "model2 = DecisionTreeClassifier()\n",
    "bases.append(('cart', model2))\n",
    "model3 = SVC()\n",
    "bases.append(('svm', model3))\n",
    "\n",
    "# Criando os ensembles e adicionando-os na lista de modelos\n",
    "models.append(('Bagging', BaggingClassifier(estimator=base, n_estimators=num_trees)))\n",
    "models.append(('RF', RandomForestClassifier(n_estimators=num_trees, max_features=max_features)))\n",
    "models.append(('ET', ExtraTreesClassifier(n_estimators=num_trees, max_features=max_features)))\n",
    "models.append(('Ada', AdaBoostClassifier(n_estimators=num_trees)))\n",
    "models.append(('GB', GradientBoostingClassifier(n_estimators=num_trees)))\n",
    "models.append(('Voting', VotingClassifier(estimators=bases, voting='hard')))\n",
    "\n",
    "# Definindo os componentes do pipeline\n",
    "standard_scaler = ('StandardScaler', StandardScaler())\n",
    "min_max_scaler = ('MinMaxScaler', MinMaxScaler())\n",
    "\n",
    "# Lista de pipelines\n",
    "pipelines = []\n",
    "\n",
    "# Criando pipelines para cada modelo\n",
    "for name, model in models:\n",
    "    pipelines.append((name + '-orig', Pipeline(steps=[(name, model)])))\n",
    "    pipelines.append((name + '-padr', Pipeline(steps=[standard_scaler, (name, model)])))\n",
    "    pipelines.append((name + '-norm', Pipeline(steps=[min_max_scaler, (name, model)])))\n",
    "\n",
    "# Definindo os parâmetros para GridSearchCV\n",
    "param_grids = {\n",
    "    'LR': {\n",
    "        'LR__C': [0.01, 0.1, 1, 10, 100],\n",
    "        'LR__solver': ['liblinear', 'saga']\n",
    "    },\n",
    "    'KNN': {\n",
    "        'KNN__n_neighbors': [1, 3, 5, 7, 9, 11, 13, 15, 17, 19, 21],\n",
    "        'KNN__metric': [\"euclidean\", \"manhattan\", \"minkowski\"]\n",
    "    },\n",
    "    'CART': {\n",
    "        'CART__max_depth': [None, 10, 20, 30, 40, 50],\n",
    "        'CART__min_samples_split': [2, 5, 10],\n",
    "        'CART__min_samples_leaf': [1, 2, 4]\n",
    "    },\n",
    "    'NB': {\n",
    "        'NB__var_smoothing': [1e-9, 1e-8, 1e-7, 1e-6, 1e-5]\n",
    "    },\n",
    "    'SVM': {\n",
    "        'SVM__C': [0.1, 1, 10, 100],\n",
    "        'SVM__gamma': [1, 0.1, 0.01, 0.001],\n",
    "        'SVM__kernel': ['rbf', 'linear']\n",
    "    },\n",
    "    'RF': {\n",
    "        'RF__n_estimators': [10, 50, 100, 200],\n",
    "        'RF__max_features': ['auto', 'sqrt', 'log2'],\n",
    "        'RF__max_depth': [None, 10, 20, 30],\n",
    "        'RF__min_samples_split': [2, 5, 10],\n",
    "        'RF__min_samples_leaf': [1, 2, 4]\n",
    "    },\n",
    "    'ET': {\n",
    "        'ET__n_estimators': [10, 50, 100, 200],\n",
    "        'ET__max_features': ['auto', 'sqrt', 'log2'],\n",
    "        'ET__max_depth': [None, 10, 20, 30],\n",
    "        'ET__min_samples_split': [2, 5, 10],\n",
    "        'ET__min_samples_leaf': [1, 2, 4]\n",
    "    },\n",
    "    'Ada': {\n",
    "        'Ada__n_estimators': [10, 50, 100, 200],\n",
    "        'Ada__learning_rate': [0.01, 0.1, 1, 10]\n",
    "    },\n",
    "    'GB': {\n",
    "        'GB__n_estimators': [10, 50, 100, 200],\n",
    "        'GB__learning_rate': [0.01, 0.1, 0.2, 0.3],\n",
    "        'GB__max_depth': [3, 5, 7, 9]\n",
    "    },\n",
    "    'Voting': {\n",
    "        # Para VotingClassifier, geralmente não há hiperparâmetros para ajustar diretamente\n",
    "        # Ajustar os hiperparâmetros dos estimadores base individualmente se necessário\n",
    "    }\n",
    "}\n",
    "\n",
    "# Parâmetros de cross-validation e scoring\n",
    "scoring = 'accuracy'\n",
    "kfold = 5"
   ],
   "id": "102861f6c81fb546",
   "outputs": [],
   "execution_count": 22
  },
  {
   "metadata": {},
   "cell_type": "markdown",
   "source": [
    "### Execução das Pipelines de Normalização, Padronização e Hiperparametrizacao\n",
    "Devido ao tamanho do arquivo se tornou melhor usar multiprocessing. Para desabilitar basta alterar o parametro njob para a quantidade de núcleos que preferir."
   ],
   "id": "af55a705f393b0ce"
  },
  {
   "metadata": {
    "ExecuteTime": {
     "end_time": "2024-09-05T20:53:55.232205Z",
     "start_time": "2024-09-05T20:53:32.541035Z"
    }
   },
   "cell_type": "code",
   "source": [
    "# Executando o GridSearchCV para cada pipeline\n",
    "for name, pipeline in pipelines:\n",
    "    model_type = name.split('-')[0]\n",
    "    if model_type in param_grids:\n",
    "        param_grid = param_grids[model_type]\n",
    "    else:\n",
    "        param_grid = {}  # Para modelos que não têm parâmetros definidos\n",
    "\n",
    "    grid = GridSearchCV(estimator=pipeline, param_grid=param_grid, scoring=scoring, cv=kfold, n_jobs=-1,verbose=1 )\n",
    "    grid.fit(X_train, y_train)\n",
    "    # Imprimindo a melhor configuração\n",
    "    print(\"Modelo: %s - Melhor: %f usando %s\" % (name, grid.best_score_, grid.best_params_))"
   ],
   "id": "c8dbd88939143e8d",
   "outputs": [
    {
     "name": "stdout",
     "output_type": "stream",
     "text": [
      "Fitting 5 folds for each of 10 candidates, totalling 50 fits\n",
      "Modelo: LR-orig - Melhor: 0.807545 usando {'LR__C': 100, 'LR__solver': 'liblinear'}\n",
      "Fitting 5 folds for each of 10 candidates, totalling 50 fits\n",
      "Modelo: LR-padr - Melhor: 0.807545 usando {'LR__C': 10, 'LR__solver': 'liblinear'}\n",
      "Fitting 5 folds for each of 10 candidates, totalling 50 fits\n",
      "Modelo: LR-norm - Melhor: 0.807535 usando {'LR__C': 100, 'LR__solver': 'liblinear'}\n",
      "Fitting 5 folds for each of 33 candidates, totalling 165 fits\n",
      "Modelo: KNN-orig - Melhor: 0.740087 usando {'KNN__metric': 'manhattan', 'KNN__n_neighbors': 17}\n",
      "Fitting 5 folds for each of 33 candidates, totalling 165 fits\n",
      "Modelo: KNN-padr - Melhor: 0.804728 usando {'KNN__metric': 'manhattan', 'KNN__n_neighbors': 17}\n",
      "Fitting 5 folds for each of 33 candidates, totalling 165 fits\n",
      "Modelo: KNN-norm - Melhor: 0.810361 usando {'KNN__metric': 'euclidean', 'KNN__n_neighbors': 19}\n",
      "Fitting 5 folds for each of 54 candidates, totalling 270 fits\n",
      "Modelo: CART-orig - Melhor: 0.785078 usando {'CART__max_depth': 10, 'CART__min_samples_leaf': 4, 'CART__min_samples_split': 2}\n",
      "Fitting 5 folds for each of 54 candidates, totalling 270 fits\n",
      "Modelo: CART-padr - Melhor: 0.786457 usando {'CART__max_depth': 10, 'CART__min_samples_leaf': 4, 'CART__min_samples_split': 10}\n",
      "Fitting 5 folds for each of 54 candidates, totalling 270 fits\n",
      "Modelo: CART-norm - Melhor: 0.783660 usando {'CART__max_depth': 10, 'CART__min_samples_leaf': 4, 'CART__min_samples_split': 2}\n",
      "Fitting 5 folds for each of 5 candidates, totalling 25 fits\n",
      "Modelo: NB-orig - Melhor: 0.749956 usando {'NB__var_smoothing': 1e-05}\n",
      "Fitting 5 folds for each of 5 candidates, totalling 25 fits\n",
      "Modelo: NB-padr - Melhor: 0.748557 usando {'NB__var_smoothing': 1e-09}\n",
      "Fitting 5 folds for each of 5 candidates, totalling 25 fits\n",
      "Modelo: NB-norm - Melhor: 0.748557 usando {'NB__var_smoothing': 1e-09}\n",
      "Fitting 5 folds for each of 32 candidates, totalling 160 fits\n"
     ]
    },
    {
     "ename": "KeyboardInterrupt",
     "evalue": "",
     "output_type": "error",
     "traceback": [
      "\u001B[1;31m---------------------------------------------------------------------------\u001B[0m",
      "\u001B[1;31mKeyboardInterrupt\u001B[0m                         Traceback (most recent call last)",
      "Cell \u001B[1;32mIn[23], line 10\u001B[0m\n\u001B[0;32m      7\u001B[0m     param_grid \u001B[38;5;241m=\u001B[39m {}  \u001B[38;5;66;03m# Para modelos que não têm parâmetros definidos\u001B[39;00m\n\u001B[0;32m      9\u001B[0m grid \u001B[38;5;241m=\u001B[39m GridSearchCV(estimator\u001B[38;5;241m=\u001B[39mpipeline, param_grid\u001B[38;5;241m=\u001B[39mparam_grid, scoring\u001B[38;5;241m=\u001B[39mscoring, cv\u001B[38;5;241m=\u001B[39mkfold, n_jobs\u001B[38;5;241m=\u001B[39m\u001B[38;5;241m-\u001B[39m\u001B[38;5;241m1\u001B[39m,verbose\u001B[38;5;241m=\u001B[39m\u001B[38;5;241m1\u001B[39m )\n\u001B[1;32m---> 10\u001B[0m \u001B[43mgrid\u001B[49m\u001B[38;5;241;43m.\u001B[39;49m\u001B[43mfit\u001B[49m\u001B[43m(\u001B[49m\u001B[43mX_train\u001B[49m\u001B[43m,\u001B[49m\u001B[43m \u001B[49m\u001B[43my_train\u001B[49m\u001B[43m)\u001B[49m\n\u001B[0;32m     11\u001B[0m \u001B[38;5;66;03m# Imprimindo a melhor configuração\u001B[39;00m\n\u001B[0;32m     12\u001B[0m \u001B[38;5;28mprint\u001B[39m(\u001B[38;5;124m\"\u001B[39m\u001B[38;5;124mModelo: \u001B[39m\u001B[38;5;132;01m%s\u001B[39;00m\u001B[38;5;124m - Melhor: \u001B[39m\u001B[38;5;132;01m%f\u001B[39;00m\u001B[38;5;124m usando \u001B[39m\u001B[38;5;132;01m%s\u001B[39;00m\u001B[38;5;124m\"\u001B[39m \u001B[38;5;241m%\u001B[39m (name, grid\u001B[38;5;241m.\u001B[39mbest_score_, grid\u001B[38;5;241m.\u001B[39mbest_params_))\n",
      "File \u001B[1;32mD:\\PROJECTS\\rough-on-rats\\env\\Lib\\site-packages\\sklearn\\base.py:1473\u001B[0m, in \u001B[0;36m_fit_context.<locals>.decorator.<locals>.wrapper\u001B[1;34m(estimator, *args, **kwargs)\u001B[0m\n\u001B[0;32m   1466\u001B[0m     estimator\u001B[38;5;241m.\u001B[39m_validate_params()\n\u001B[0;32m   1468\u001B[0m \u001B[38;5;28;01mwith\u001B[39;00m config_context(\n\u001B[0;32m   1469\u001B[0m     skip_parameter_validation\u001B[38;5;241m=\u001B[39m(\n\u001B[0;32m   1470\u001B[0m         prefer_skip_nested_validation \u001B[38;5;129;01mor\u001B[39;00m global_skip_validation\n\u001B[0;32m   1471\u001B[0m     )\n\u001B[0;32m   1472\u001B[0m ):\n\u001B[1;32m-> 1473\u001B[0m     \u001B[38;5;28;01mreturn\u001B[39;00m \u001B[43mfit_method\u001B[49m\u001B[43m(\u001B[49m\u001B[43mestimator\u001B[49m\u001B[43m,\u001B[49m\u001B[43m \u001B[49m\u001B[38;5;241;43m*\u001B[39;49m\u001B[43margs\u001B[49m\u001B[43m,\u001B[49m\u001B[43m \u001B[49m\u001B[38;5;241;43m*\u001B[39;49m\u001B[38;5;241;43m*\u001B[39;49m\u001B[43mkwargs\u001B[49m\u001B[43m)\u001B[49m\n",
      "File \u001B[1;32mD:\\PROJECTS\\rough-on-rats\\env\\Lib\\site-packages\\sklearn\\model_selection\\_search.py:1018\u001B[0m, in \u001B[0;36mBaseSearchCV.fit\u001B[1;34m(self, X, y, **params)\u001B[0m\n\u001B[0;32m   1012\u001B[0m     results \u001B[38;5;241m=\u001B[39m \u001B[38;5;28mself\u001B[39m\u001B[38;5;241m.\u001B[39m_format_results(\n\u001B[0;32m   1013\u001B[0m         all_candidate_params, n_splits, all_out, all_more_results\n\u001B[0;32m   1014\u001B[0m     )\n\u001B[0;32m   1016\u001B[0m     \u001B[38;5;28;01mreturn\u001B[39;00m results\n\u001B[1;32m-> 1018\u001B[0m \u001B[38;5;28;43mself\u001B[39;49m\u001B[38;5;241;43m.\u001B[39;49m\u001B[43m_run_search\u001B[49m\u001B[43m(\u001B[49m\u001B[43mevaluate_candidates\u001B[49m\u001B[43m)\u001B[49m\n\u001B[0;32m   1020\u001B[0m \u001B[38;5;66;03m# multimetric is determined here because in the case of a callable\u001B[39;00m\n\u001B[0;32m   1021\u001B[0m \u001B[38;5;66;03m# self.scoring the return type is only known after calling\u001B[39;00m\n\u001B[0;32m   1022\u001B[0m first_test_score \u001B[38;5;241m=\u001B[39m all_out[\u001B[38;5;241m0\u001B[39m][\u001B[38;5;124m\"\u001B[39m\u001B[38;5;124mtest_scores\u001B[39m\u001B[38;5;124m\"\u001B[39m]\n",
      "File \u001B[1;32mD:\\PROJECTS\\rough-on-rats\\env\\Lib\\site-packages\\sklearn\\model_selection\\_search.py:1572\u001B[0m, in \u001B[0;36mGridSearchCV._run_search\u001B[1;34m(self, evaluate_candidates)\u001B[0m\n\u001B[0;32m   1570\u001B[0m \u001B[38;5;28;01mdef\u001B[39;00m \u001B[38;5;21m_run_search\u001B[39m(\u001B[38;5;28mself\u001B[39m, evaluate_candidates):\n\u001B[0;32m   1571\u001B[0m \u001B[38;5;250m    \u001B[39m\u001B[38;5;124;03m\"\"\"Search all candidates in param_grid\"\"\"\u001B[39;00m\n\u001B[1;32m-> 1572\u001B[0m     \u001B[43mevaluate_candidates\u001B[49m\u001B[43m(\u001B[49m\u001B[43mParameterGrid\u001B[49m\u001B[43m(\u001B[49m\u001B[38;5;28;43mself\u001B[39;49m\u001B[38;5;241;43m.\u001B[39;49m\u001B[43mparam_grid\u001B[49m\u001B[43m)\u001B[49m\u001B[43m)\u001B[49m\n",
      "File \u001B[1;32mD:\\PROJECTS\\rough-on-rats\\env\\Lib\\site-packages\\sklearn\\model_selection\\_search.py:964\u001B[0m, in \u001B[0;36mBaseSearchCV.fit.<locals>.evaluate_candidates\u001B[1;34m(candidate_params, cv, more_results)\u001B[0m\n\u001B[0;32m    956\u001B[0m \u001B[38;5;28;01mif\u001B[39;00m \u001B[38;5;28mself\u001B[39m\u001B[38;5;241m.\u001B[39mverbose \u001B[38;5;241m>\u001B[39m \u001B[38;5;241m0\u001B[39m:\n\u001B[0;32m    957\u001B[0m     \u001B[38;5;28mprint\u001B[39m(\n\u001B[0;32m    958\u001B[0m         \u001B[38;5;124m\"\u001B[39m\u001B[38;5;124mFitting \u001B[39m\u001B[38;5;132;01m{0}\u001B[39;00m\u001B[38;5;124m folds for each of \u001B[39m\u001B[38;5;132;01m{1}\u001B[39;00m\u001B[38;5;124m candidates,\u001B[39m\u001B[38;5;124m\"\u001B[39m\n\u001B[0;32m    959\u001B[0m         \u001B[38;5;124m\"\u001B[39m\u001B[38;5;124m totalling \u001B[39m\u001B[38;5;132;01m{2}\u001B[39;00m\u001B[38;5;124m fits\u001B[39m\u001B[38;5;124m\"\u001B[39m\u001B[38;5;241m.\u001B[39mformat(\n\u001B[0;32m    960\u001B[0m             n_splits, n_candidates, n_candidates \u001B[38;5;241m*\u001B[39m n_splits\n\u001B[0;32m    961\u001B[0m         )\n\u001B[0;32m    962\u001B[0m     )\n\u001B[1;32m--> 964\u001B[0m out \u001B[38;5;241m=\u001B[39m \u001B[43mparallel\u001B[49m\u001B[43m(\u001B[49m\n\u001B[0;32m    965\u001B[0m \u001B[43m    \u001B[49m\u001B[43mdelayed\u001B[49m\u001B[43m(\u001B[49m\u001B[43m_fit_and_score\u001B[49m\u001B[43m)\u001B[49m\u001B[43m(\u001B[49m\n\u001B[0;32m    966\u001B[0m \u001B[43m        \u001B[49m\u001B[43mclone\u001B[49m\u001B[43m(\u001B[49m\u001B[43mbase_estimator\u001B[49m\u001B[43m)\u001B[49m\u001B[43m,\u001B[49m\n\u001B[0;32m    967\u001B[0m \u001B[43m        \u001B[49m\u001B[43mX\u001B[49m\u001B[43m,\u001B[49m\n\u001B[0;32m    968\u001B[0m \u001B[43m        \u001B[49m\u001B[43my\u001B[49m\u001B[43m,\u001B[49m\n\u001B[0;32m    969\u001B[0m \u001B[43m        \u001B[49m\u001B[43mtrain\u001B[49m\u001B[38;5;241;43m=\u001B[39;49m\u001B[43mtrain\u001B[49m\u001B[43m,\u001B[49m\n\u001B[0;32m    970\u001B[0m \u001B[43m        \u001B[49m\u001B[43mtest\u001B[49m\u001B[38;5;241;43m=\u001B[39;49m\u001B[43mtest\u001B[49m\u001B[43m,\u001B[49m\n\u001B[0;32m    971\u001B[0m \u001B[43m        \u001B[49m\u001B[43mparameters\u001B[49m\u001B[38;5;241;43m=\u001B[39;49m\u001B[43mparameters\u001B[49m\u001B[43m,\u001B[49m\n\u001B[0;32m    972\u001B[0m \u001B[43m        \u001B[49m\u001B[43msplit_progress\u001B[49m\u001B[38;5;241;43m=\u001B[39;49m\u001B[43m(\u001B[49m\u001B[43msplit_idx\u001B[49m\u001B[43m,\u001B[49m\u001B[43m \u001B[49m\u001B[43mn_splits\u001B[49m\u001B[43m)\u001B[49m\u001B[43m,\u001B[49m\n\u001B[0;32m    973\u001B[0m \u001B[43m        \u001B[49m\u001B[43mcandidate_progress\u001B[49m\u001B[38;5;241;43m=\u001B[39;49m\u001B[43m(\u001B[49m\u001B[43mcand_idx\u001B[49m\u001B[43m,\u001B[49m\u001B[43m \u001B[49m\u001B[43mn_candidates\u001B[49m\u001B[43m)\u001B[49m\u001B[43m,\u001B[49m\n\u001B[0;32m    974\u001B[0m \u001B[43m        \u001B[49m\u001B[38;5;241;43m*\u001B[39;49m\u001B[38;5;241;43m*\u001B[39;49m\u001B[43mfit_and_score_kwargs\u001B[49m\u001B[43m,\u001B[49m\n\u001B[0;32m    975\u001B[0m \u001B[43m    \u001B[49m\u001B[43m)\u001B[49m\n\u001B[0;32m    976\u001B[0m \u001B[43m    \u001B[49m\u001B[38;5;28;43;01mfor\u001B[39;49;00m\u001B[43m \u001B[49m\u001B[43m(\u001B[49m\u001B[43mcand_idx\u001B[49m\u001B[43m,\u001B[49m\u001B[43m \u001B[49m\u001B[43mparameters\u001B[49m\u001B[43m)\u001B[49m\u001B[43m,\u001B[49m\u001B[43m \u001B[49m\u001B[43m(\u001B[49m\u001B[43msplit_idx\u001B[49m\u001B[43m,\u001B[49m\u001B[43m \u001B[49m\u001B[43m(\u001B[49m\u001B[43mtrain\u001B[49m\u001B[43m,\u001B[49m\u001B[43m \u001B[49m\u001B[43mtest\u001B[49m\u001B[43m)\u001B[49m\u001B[43m)\u001B[49m\u001B[43m \u001B[49m\u001B[38;5;129;43;01min\u001B[39;49;00m\u001B[43m \u001B[49m\u001B[43mproduct\u001B[49m\u001B[43m(\u001B[49m\n\u001B[0;32m    977\u001B[0m \u001B[43m        \u001B[49m\u001B[38;5;28;43menumerate\u001B[39;49m\u001B[43m(\u001B[49m\u001B[43mcandidate_params\u001B[49m\u001B[43m)\u001B[49m\u001B[43m,\u001B[49m\n\u001B[0;32m    978\u001B[0m \u001B[43m        \u001B[49m\u001B[38;5;28;43menumerate\u001B[39;49m\u001B[43m(\u001B[49m\u001B[43mcv\u001B[49m\u001B[38;5;241;43m.\u001B[39;49m\u001B[43msplit\u001B[49m\u001B[43m(\u001B[49m\u001B[43mX\u001B[49m\u001B[43m,\u001B[49m\u001B[43m \u001B[49m\u001B[43my\u001B[49m\u001B[43m,\u001B[49m\u001B[43m \u001B[49m\u001B[38;5;241;43m*\u001B[39;49m\u001B[38;5;241;43m*\u001B[39;49m\u001B[43mrouted_params\u001B[49m\u001B[38;5;241;43m.\u001B[39;49m\u001B[43msplitter\u001B[49m\u001B[38;5;241;43m.\u001B[39;49m\u001B[43msplit\u001B[49m\u001B[43m)\u001B[49m\u001B[43m)\u001B[49m\u001B[43m,\u001B[49m\n\u001B[0;32m    979\u001B[0m \u001B[43m    \u001B[49m\u001B[43m)\u001B[49m\n\u001B[0;32m    980\u001B[0m \u001B[43m\u001B[49m\u001B[43m)\u001B[49m\n\u001B[0;32m    982\u001B[0m \u001B[38;5;28;01mif\u001B[39;00m \u001B[38;5;28mlen\u001B[39m(out) \u001B[38;5;241m<\u001B[39m \u001B[38;5;241m1\u001B[39m:\n\u001B[0;32m    983\u001B[0m     \u001B[38;5;28;01mraise\u001B[39;00m \u001B[38;5;167;01mValueError\u001B[39;00m(\n\u001B[0;32m    984\u001B[0m         \u001B[38;5;124m\"\u001B[39m\u001B[38;5;124mNo fits were performed. \u001B[39m\u001B[38;5;124m\"\u001B[39m\n\u001B[0;32m    985\u001B[0m         \u001B[38;5;124m\"\u001B[39m\u001B[38;5;124mWas the CV iterator empty? \u001B[39m\u001B[38;5;124m\"\u001B[39m\n\u001B[0;32m    986\u001B[0m         \u001B[38;5;124m\"\u001B[39m\u001B[38;5;124mWere there no candidates?\u001B[39m\u001B[38;5;124m\"\u001B[39m\n\u001B[0;32m    987\u001B[0m     )\n",
      "File \u001B[1;32mD:\\PROJECTS\\rough-on-rats\\env\\Lib\\site-packages\\sklearn\\utils\\parallel.py:74\u001B[0m, in \u001B[0;36mParallel.__call__\u001B[1;34m(self, iterable)\u001B[0m\n\u001B[0;32m     69\u001B[0m config \u001B[38;5;241m=\u001B[39m get_config()\n\u001B[0;32m     70\u001B[0m iterable_with_config \u001B[38;5;241m=\u001B[39m (\n\u001B[0;32m     71\u001B[0m     (_with_config(delayed_func, config), args, kwargs)\n\u001B[0;32m     72\u001B[0m     \u001B[38;5;28;01mfor\u001B[39;00m delayed_func, args, kwargs \u001B[38;5;129;01min\u001B[39;00m iterable\n\u001B[0;32m     73\u001B[0m )\n\u001B[1;32m---> 74\u001B[0m \u001B[38;5;28;01mreturn\u001B[39;00m \u001B[38;5;28;43msuper\u001B[39;49m\u001B[43m(\u001B[49m\u001B[43m)\u001B[49m\u001B[38;5;241;43m.\u001B[39;49m\u001B[38;5;21;43m__call__\u001B[39;49m\u001B[43m(\u001B[49m\u001B[43miterable_with_config\u001B[49m\u001B[43m)\u001B[49m\n",
      "File \u001B[1;32mD:\\PROJECTS\\rough-on-rats\\env\\Lib\\site-packages\\joblib\\parallel.py:2007\u001B[0m, in \u001B[0;36mParallel.__call__\u001B[1;34m(self, iterable)\u001B[0m\n\u001B[0;32m   2001\u001B[0m \u001B[38;5;66;03m# The first item from the output is blank, but it makes the interpreter\u001B[39;00m\n\u001B[0;32m   2002\u001B[0m \u001B[38;5;66;03m# progress until it enters the Try/Except block of the generator and\u001B[39;00m\n\u001B[0;32m   2003\u001B[0m \u001B[38;5;66;03m# reaches the first `yield` statement. This starts the asynchronous\u001B[39;00m\n\u001B[0;32m   2004\u001B[0m \u001B[38;5;66;03m# dispatch of the tasks to the workers.\u001B[39;00m\n\u001B[0;32m   2005\u001B[0m \u001B[38;5;28mnext\u001B[39m(output)\n\u001B[1;32m-> 2007\u001B[0m \u001B[38;5;28;01mreturn\u001B[39;00m output \u001B[38;5;28;01mif\u001B[39;00m \u001B[38;5;28mself\u001B[39m\u001B[38;5;241m.\u001B[39mreturn_generator \u001B[38;5;28;01melse\u001B[39;00m \u001B[38;5;28;43mlist\u001B[39;49m\u001B[43m(\u001B[49m\u001B[43moutput\u001B[49m\u001B[43m)\u001B[49m\n",
      "File \u001B[1;32mD:\\PROJECTS\\rough-on-rats\\env\\Lib\\site-packages\\joblib\\parallel.py:1650\u001B[0m, in \u001B[0;36mParallel._get_outputs\u001B[1;34m(self, iterator, pre_dispatch)\u001B[0m\n\u001B[0;32m   1647\u001B[0m     \u001B[38;5;28;01myield\u001B[39;00m\n\u001B[0;32m   1649\u001B[0m     \u001B[38;5;28;01mwith\u001B[39;00m \u001B[38;5;28mself\u001B[39m\u001B[38;5;241m.\u001B[39m_backend\u001B[38;5;241m.\u001B[39mretrieval_context():\n\u001B[1;32m-> 1650\u001B[0m         \u001B[38;5;28;01myield from\u001B[39;00m \u001B[38;5;28mself\u001B[39m\u001B[38;5;241m.\u001B[39m_retrieve()\n\u001B[0;32m   1652\u001B[0m \u001B[38;5;28;01mexcept\u001B[39;00m \u001B[38;5;167;01mGeneratorExit\u001B[39;00m:\n\u001B[0;32m   1653\u001B[0m     \u001B[38;5;66;03m# The generator has been garbage collected before being fully\u001B[39;00m\n\u001B[0;32m   1654\u001B[0m     \u001B[38;5;66;03m# consumed. This aborts the remaining tasks if possible and warn\u001B[39;00m\n\u001B[0;32m   1655\u001B[0m     \u001B[38;5;66;03m# the user if necessary.\u001B[39;00m\n\u001B[0;32m   1656\u001B[0m     \u001B[38;5;28mself\u001B[39m\u001B[38;5;241m.\u001B[39m_exception \u001B[38;5;241m=\u001B[39m \u001B[38;5;28;01mTrue\u001B[39;00m\n",
      "File \u001B[1;32mD:\\PROJECTS\\rough-on-rats\\env\\Lib\\site-packages\\joblib\\parallel.py:1762\u001B[0m, in \u001B[0;36mParallel._retrieve\u001B[1;34m(self)\u001B[0m\n\u001B[0;32m   1757\u001B[0m \u001B[38;5;66;03m# If the next job is not ready for retrieval yet, we just wait for\u001B[39;00m\n\u001B[0;32m   1758\u001B[0m \u001B[38;5;66;03m# async callbacks to progress.\u001B[39;00m\n\u001B[0;32m   1759\u001B[0m \u001B[38;5;28;01mif\u001B[39;00m ((\u001B[38;5;28mlen\u001B[39m(\u001B[38;5;28mself\u001B[39m\u001B[38;5;241m.\u001B[39m_jobs) \u001B[38;5;241m==\u001B[39m \u001B[38;5;241m0\u001B[39m) \u001B[38;5;129;01mor\u001B[39;00m\n\u001B[0;32m   1760\u001B[0m     (\u001B[38;5;28mself\u001B[39m\u001B[38;5;241m.\u001B[39m_jobs[\u001B[38;5;241m0\u001B[39m]\u001B[38;5;241m.\u001B[39mget_status(\n\u001B[0;32m   1761\u001B[0m         timeout\u001B[38;5;241m=\u001B[39m\u001B[38;5;28mself\u001B[39m\u001B[38;5;241m.\u001B[39mtimeout) \u001B[38;5;241m==\u001B[39m TASK_PENDING)):\n\u001B[1;32m-> 1762\u001B[0m     \u001B[43mtime\u001B[49m\u001B[38;5;241;43m.\u001B[39;49m\u001B[43msleep\u001B[49m\u001B[43m(\u001B[49m\u001B[38;5;241;43m0.01\u001B[39;49m\u001B[43m)\u001B[49m\n\u001B[0;32m   1763\u001B[0m     \u001B[38;5;28;01mcontinue\u001B[39;00m\n\u001B[0;32m   1765\u001B[0m \u001B[38;5;66;03m# We need to be careful: the job list can be filling up as\u001B[39;00m\n\u001B[0;32m   1766\u001B[0m \u001B[38;5;66;03m# we empty it and Python list are not thread-safe by\u001B[39;00m\n\u001B[0;32m   1767\u001B[0m \u001B[38;5;66;03m# default hence the use of the lock\u001B[39;00m\n",
      "\u001B[1;31mKeyboardInterrupt\u001B[0m: "
     ]
    }
   ],
   "execution_count": 23
  }
 ],
 "metadata": {
  "kernelspec": {
   "display_name": "Python 3",
   "language": "python",
   "name": "python3"
  },
  "language_info": {
   "codemirror_mode": {
    "name": "ipython",
    "version": 2
   },
   "file_extension": ".py",
   "mimetype": "text/x-python",
   "name": "python",
   "nbconvert_exporter": "python",
   "pygments_lexer": "ipython2",
   "version": "2.7.6"
  }
 },
 "nbformat": 4,
 "nbformat_minor": 5
}
