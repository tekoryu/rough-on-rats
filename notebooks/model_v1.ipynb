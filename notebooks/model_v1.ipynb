{
 "cells": [
  {
   "cell_type": "markdown",
   "metadata": {
    "colab_type": "text",
    "id": "view-in-github"
   },
   "source": [
    "<a href=\"https://colab.research.google.com/github/tekoryu/rough-on-rats/blob/main/notebooks/model_v1.ipynb\" target=\"_parent\"><img src=\"https://colab.research.google.com/assets/colab-badge.svg\" alt=\"Open In Colab\"/></a>"
   ]
  },
  {
   "cell_type": "markdown",
   "metadata": {},
   "source": [
    "# Engenharia de Softwares Inteligentes\n"
   ]
  },
  {
   "cell_type": "markdown",
   "metadata": {},
   "source": [
    "## Titanic Challenge\n"
   ]
  },
  {
   "cell_type": "markdown",
   "metadata": {},
   "source": [
    "Desafio, dados originais e detalhes da base disponiveis em:\n",
    "\n",
    "https://www.kaggle.com/competitions/titanic"
   ]
  },
  {
   "cell_type": "markdown",
   "metadata": {},
   "source": [
    "## Descrição\n"
   ]
  },
  {
   "cell_type": "markdown",
   "metadata": {},
   "source": [
    "O conjunto de dados é do tipo categórico, onde precisaremos classificar cada um dos registros da lista como sobrevivente ou não ao famoso naufrágio. Com base em uma lista de treinamento contendo sobreviventes já classificados o objetivo é prever com relativa acurácia em relação aos demais. A estratégia que seguiremos é de _feature engineering_ para obter dados relativos a condição economica, social e de gênero dos passageiros, agrupando ao máximo os casos diversos para depois jogar essas informações como colunas com valores booleanos. A partir daí serão utilizadas as técnicas de particionamento, pipeline e hiperparametrização conforme visto no curso."
   ]
  },
  {
   "cell_type": "code",
   "metadata": {
    "ExecuteTime": {
     "end_time": "2024-09-03T19:30:39.608059Z",
     "start_time": "2024-09-03T19:30:39.601454Z"
    }
   },
   "source": [
    "import re\n",
    "import warnings\n",
    "warnings.filterwarnings(\"ignore\")\n",
    "\n",
    "import pandas as pd\n",
    "import numpy as np\n",
    "import seaborn as sns\n",
    "import matplotlib.pyplot as plt\n",
    "import pickle\n",
    "\n",
    "from sklearn.preprocessing import StandardScaler\n",
    "from sklearn.preprocessing import MinMaxScaler\n",
    "from sklearn.model_selection import train_test_split\n",
    "from sklearn.model_selection import KFold\n",
    "from sklearn.model_selection import StratifiedKFold\n",
    "from sklearn.model_selection import cross_val_score\n",
    "from sklearn.model_selection import GridSearchCV\n",
    "from sklearn.metrics import accuracy_score\n",
    "from sklearn.pipeline import Pipeline\n",
    "from sklearn.linear_model import LogisticRegression\n",
    "from sklearn.tree import DecisionTreeClassifier\n",
    "from sklearn.neighbors import KNeighborsClassifier\n",
    "from sklearn.naive_bayes import GaussianNB\n",
    "from sklearn.svm import SVC\n",
    "from sklearn.ensemble import BaggingClassifier\n",
    "from sklearn.ensemble import RandomForestClassifier\n",
    "from sklearn.ensemble import ExtraTreesClassifier\n",
    "from sklearn.ensemble import VotingClassifier\n",
    "from sklearn.ensemble import AdaBoostClassifier\n",
    "from sklearn.ensemble import GradientBoostingClassifier\n",
    "\n",
    "from sklearn.model_selection import cross_val_score\n"
   ],
   "outputs": [],
   "execution_count": 326
  },
  {
   "cell_type": "markdown",
   "metadata": {},
   "source": [
    "## Carga do Dataset"
   ]
  },
  {
   "cell_type": "markdown",
   "metadata": {},
   "source": [
    "Os arquivos do dataset possuem um arquivo de teste, que será ignorado e testado apenas ao final."
   ]
  },
  {
   "cell_type": "code",
   "metadata": {
    "ExecuteTime": {
     "end_time": "2024-09-03T16:51:06.168776Z",
     "start_time": "2024-09-03T16:51:05.045419Z"
    }
   },
   "source": [
    "# Arquivos do Kaggle\n",
    "url = \"https://raw.githubusercontent.com/tekoryu/rough-on-rats/main/data/titanic/train.csv\"\n",
    "url2 = \"https://raw.githubusercontent.com/tekoryu/rough-on-rats/main/data/titanic/test.csv\"\n",
    "\n",
    "# Carga no Pandas\n",
    "df_treino = pd.read_csv(url, delimiter=',')\n",
    "df_teste = pd.read_csv(url2, delimiter=',')\n",
    "\n",
    "# Exibe a primeira linha do dataset\n",
    "df_treino.head()"
   ],
   "outputs": [
    {
     "data": {
      "text/plain": [
       "   PassengerId  Survived  Pclass  \\\n",
       "0            1         0       3   \n",
       "1            2         1       1   \n",
       "2            3         1       3   \n",
       "3            4         1       1   \n",
       "4            5         0       3   \n",
       "\n",
       "                                                  Name     Sex   Age  SibSp  \\\n",
       "0                              Braund, Mr. Owen Harris    male  22.0      1   \n",
       "1  Cumings, Mrs. John Bradley (Florence Briggs Thayer)  female  38.0      1   \n",
       "2                               Heikkinen, Miss. Laina  female  26.0      0   \n",
       "3         Futrelle, Mrs. Jacques Heath (Lily May Peel)  female  35.0      1   \n",
       "4                             Allen, Mr. William Henry    male  35.0      0   \n",
       "\n",
       "   Parch            Ticket     Fare Cabin Embarked  \n",
       "0      0         A/5 21171   7.2500   NaN        S  \n",
       "1      0          PC 17599  71.2833   C85        C  \n",
       "2      0  STON/O2. 3101282   7.9250   NaN        S  \n",
       "3      0            113803  53.1000  C123        S  \n",
       "4      0            373450   8.0500   NaN        S  "
      ],
      "text/html": [
       "<div>\n",
       "<style scoped>\n",
       "    .dataframe tbody tr th:only-of-type {\n",
       "        vertical-align: middle;\n",
       "    }\n",
       "\n",
       "    .dataframe tbody tr th {\n",
       "        vertical-align: top;\n",
       "    }\n",
       "\n",
       "    .dataframe thead th {\n",
       "        text-align: right;\n",
       "    }\n",
       "</style>\n",
       "<table border=\"1\" class=\"dataframe\">\n",
       "  <thead>\n",
       "    <tr style=\"text-align: right;\">\n",
       "      <th></th>\n",
       "      <th>PassengerId</th>\n",
       "      <th>Survived</th>\n",
       "      <th>Pclass</th>\n",
       "      <th>Name</th>\n",
       "      <th>Sex</th>\n",
       "      <th>Age</th>\n",
       "      <th>SibSp</th>\n",
       "      <th>Parch</th>\n",
       "      <th>Ticket</th>\n",
       "      <th>Fare</th>\n",
       "      <th>Cabin</th>\n",
       "      <th>Embarked</th>\n",
       "    </tr>\n",
       "  </thead>\n",
       "  <tbody>\n",
       "    <tr>\n",
       "      <th>0</th>\n",
       "      <td>1</td>\n",
       "      <td>0</td>\n",
       "      <td>3</td>\n",
       "      <td>Braund, Mr. Owen Harris</td>\n",
       "      <td>male</td>\n",
       "      <td>22.0</td>\n",
       "      <td>1</td>\n",
       "      <td>0</td>\n",
       "      <td>A/5 21171</td>\n",
       "      <td>7.2500</td>\n",
       "      <td>NaN</td>\n",
       "      <td>S</td>\n",
       "    </tr>\n",
       "    <tr>\n",
       "      <th>1</th>\n",
       "      <td>2</td>\n",
       "      <td>1</td>\n",
       "      <td>1</td>\n",
       "      <td>Cumings, Mrs. John Bradley (Florence Briggs Thayer)</td>\n",
       "      <td>female</td>\n",
       "      <td>38.0</td>\n",
       "      <td>1</td>\n",
       "      <td>0</td>\n",
       "      <td>PC 17599</td>\n",
       "      <td>71.2833</td>\n",
       "      <td>C85</td>\n",
       "      <td>C</td>\n",
       "    </tr>\n",
       "    <tr>\n",
       "      <th>2</th>\n",
       "      <td>3</td>\n",
       "      <td>1</td>\n",
       "      <td>3</td>\n",
       "      <td>Heikkinen, Miss. Laina</td>\n",
       "      <td>female</td>\n",
       "      <td>26.0</td>\n",
       "      <td>0</td>\n",
       "      <td>0</td>\n",
       "      <td>STON/O2. 3101282</td>\n",
       "      <td>7.9250</td>\n",
       "      <td>NaN</td>\n",
       "      <td>S</td>\n",
       "    </tr>\n",
       "    <tr>\n",
       "      <th>3</th>\n",
       "      <td>4</td>\n",
       "      <td>1</td>\n",
       "      <td>1</td>\n",
       "      <td>Futrelle, Mrs. Jacques Heath (Lily May Peel)</td>\n",
       "      <td>female</td>\n",
       "      <td>35.0</td>\n",
       "      <td>1</td>\n",
       "      <td>0</td>\n",
       "      <td>113803</td>\n",
       "      <td>53.1000</td>\n",
       "      <td>C123</td>\n",
       "      <td>S</td>\n",
       "    </tr>\n",
       "    <tr>\n",
       "      <th>4</th>\n",
       "      <td>5</td>\n",
       "      <td>0</td>\n",
       "      <td>3</td>\n",
       "      <td>Allen, Mr. William Henry</td>\n",
       "      <td>male</td>\n",
       "      <td>35.0</td>\n",
       "      <td>0</td>\n",
       "      <td>0</td>\n",
       "      <td>373450</td>\n",
       "      <td>8.0500</td>\n",
       "      <td>NaN</td>\n",
       "      <td>S</td>\n",
       "    </tr>\n",
       "  </tbody>\n",
       "</table>\n",
       "</div>"
      ]
     },
     "execution_count": 290,
     "metadata": {},
     "output_type": "execute_result"
    }
   ],
   "execution_count": 290
  },
  {
   "cell_type": "markdown",
   "metadata": {},
   "source": [
    "## Dicionário de Dados"
   ]
  },
  {
   "cell_type": "markdown",
   "metadata": {},
   "source": [
    "-  Survival = [0,1] Se a pessoa sobreviveu.\n",
    "-  Pclass = [1,2,3] Primeira, Segunda e Terceira Classe\n",
    "-  Sex = [\"Male\", \"Female\"] Sexo\n",
    "-  Age = Idade\n",
    "-  SibSP = Irmãos e Conjuges\n",
    "-  Parch = Filhos?\n",
    "-  Ticket = Contem codigos que nao consegui explicar a natureza\n",
    "-  Fare = Valor do ingresso\n",
    "-  Cabin = Número da Cabine\n",
    "-  Embarked = Inicial do porto de embarque"
   ]
  },
  {
   "cell_type": "markdown",
   "metadata": {},
   "source": [
    "## Etapa I - Tratamento Inicial dos Dados e Feature Engineering"
   ]
  },
  {
   "cell_type": "markdown",
   "metadata": {},
   "source": [
    "Da observação dos dados temos como premissa que a definição de quem foi salvo se deu por avaliação de atributos (classe econômica, gênero, idade etc).\n",
    "Vamos buscar reforçar esses atributos a partir dos dados disponíveis."
   ]
  },
  {
   "cell_type": "markdown",
   "metadata": {},
   "source": [
    "### Tratamento de Null e em branco"
   ]
  },
  {
   "cell_type": "code",
   "metadata": {
    "ExecuteTime": {
     "end_time": "2024-09-03T16:51:06.175409Z",
     "start_time": "2024-09-03T16:51:06.169782Z"
    }
   },
   "source": [
    "# Lista a quantidade de campos vazios no dataset\n",
    "df_treino.isna().sum(axis=0).sort_values(ascending=False)"
   ],
   "outputs": [
    {
     "data": {
      "text/plain": [
       "Cabin          687\n",
       "Age            177\n",
       "Embarked         2\n",
       "PassengerId      0\n",
       "Name             0\n",
       "Pclass           0\n",
       "Survived         0\n",
       "Sex              0\n",
       "Parch            0\n",
       "SibSp            0\n",
       "Fare             0\n",
       "Ticket           0\n",
       "dtype: int64"
      ]
     },
     "execution_count": 291,
     "metadata": {},
     "output_type": "execute_result"
    }
   ],
   "execution_count": 291
  },
  {
   "cell_type": "markdown",
   "metadata": {},
   "source": [
    "Como visto, tanto nos arquivos de treino quanto de teste há muitos vazios em Cabin e Age."
   ]
  },
  {
   "cell_type": "code",
   "metadata": {
    "ExecuteTime": {
     "end_time": "2024-09-03T16:51:06.182443Z",
     "start_time": "2024-09-03T16:51:06.176415Z"
    }
   },
   "source": [
    "# Decide por eliminar a feature 'Cabin' e preencher os 'em branco' da idade com a mediana. O código será reaproveitado para tratar o arquivo de teste.\n",
    "def preenche_branco(entrada):\n",
    "    # Deleta a cabine\n",
    "    entrada.drop('Cabin', axis=1, inplace=True)\n",
    "    # Preenche as idades ausentes com mediana\n",
    "    entrada = entrada.fillna(entrada['Age'].median())\n",
    "    return entrada\n",
    "    \n",
    "df_treino = preenche_branco(df_treino)"
   ],
   "outputs": [],
   "execution_count": 292
  },
  {
   "cell_type": "markdown",
   "metadata": {},
   "source": [
    "### Pronomes de Tratamento"
   ]
  },
  {
   "cell_type": "markdown",
   "metadata": {},
   "source": [
    "Agora é a hora de extrair os pronomes da feature Name e criar uma coluna própria. Depois vamos verificar a possibilidade de criar categorias para esses títulos."
   ]
  },
  {
   "cell_type": "code",
   "metadata": {
    "ExecuteTime": {
     "end_time": "2024-09-03T16:51:06.190381Z",
     "start_time": "2024-09-03T16:51:06.184449Z"
    }
   },
   "source": [
    "def pega_pronome_tratamento(entrada):\n",
    "    # A entrada deve ser um dataframe. Pega o Mr. Mrs. e coloca em coluna própria\n",
    "    pronome_tratamento = re.search(r' ([A-Za-z]+)\\.',entrada)\n",
    "    if pronome_tratamento:\n",
    "        return pronome_tratamento.group(1)\n",
    "    return \"\"\n",
    "\n",
    "df_treino['Pronome'] = df_treino['Name'].apply(pega_pronome_tratamento)\n",
    "df_treino.drop('Name', axis=1, inplace=True)"
   ],
   "outputs": [],
   "execution_count": 293
  },
  {
   "cell_type": "code",
   "metadata": {
    "ExecuteTime": {
     "end_time": "2024-09-03T16:51:06.201890Z",
     "start_time": "2024-09-03T16:51:06.191389Z"
    }
   },
   "source": [
    "grouped = df_treino.groupby(['Pronome', 'Survived']).size().unstack(fill_value=0)\n",
    "distribuicao = grouped.div(grouped.sum(axis=1), axis=0) * 100\n",
    "distribuicao.drop(0, axis=1, inplace=True)\n",
    "distribuicao"
   ],
   "outputs": [
    {
     "data": {
      "text/plain": [
       "Survived           1\n",
       "Pronome             \n",
       "Capt        0.000000\n",
       "Col        50.000000\n",
       "Countess  100.000000\n",
       "Don         0.000000\n",
       "Dr         42.857143\n",
       "Jonkheer    0.000000\n",
       "Lady      100.000000\n",
       "Major      50.000000\n",
       "Master     57.500000\n",
       "Miss       69.780220\n",
       "Mlle      100.000000\n",
       "Mme       100.000000\n",
       "Mr         15.667311\n",
       "Mrs        79.200000\n",
       "Ms        100.000000\n",
       "Rev         0.000000\n",
       "Sir       100.000000"
      ],
      "text/html": [
       "<div>\n",
       "<style scoped>\n",
       "    .dataframe tbody tr th:only-of-type {\n",
       "        vertical-align: middle;\n",
       "    }\n",
       "\n",
       "    .dataframe tbody tr th {\n",
       "        vertical-align: top;\n",
       "    }\n",
       "\n",
       "    .dataframe thead th {\n",
       "        text-align: right;\n",
       "    }\n",
       "</style>\n",
       "<table border=\"1\" class=\"dataframe\">\n",
       "  <thead>\n",
       "    <tr style=\"text-align: right;\">\n",
       "      <th>Survived</th>\n",
       "      <th>1</th>\n",
       "    </tr>\n",
       "    <tr>\n",
       "      <th>Pronome</th>\n",
       "      <th></th>\n",
       "    </tr>\n",
       "  </thead>\n",
       "  <tbody>\n",
       "    <tr>\n",
       "      <th>Capt</th>\n",
       "      <td>0.000000</td>\n",
       "    </tr>\n",
       "    <tr>\n",
       "      <th>Col</th>\n",
       "      <td>50.000000</td>\n",
       "    </tr>\n",
       "    <tr>\n",
       "      <th>Countess</th>\n",
       "      <td>100.000000</td>\n",
       "    </tr>\n",
       "    <tr>\n",
       "      <th>Don</th>\n",
       "      <td>0.000000</td>\n",
       "    </tr>\n",
       "    <tr>\n",
       "      <th>Dr</th>\n",
       "      <td>42.857143</td>\n",
       "    </tr>\n",
       "    <tr>\n",
       "      <th>Jonkheer</th>\n",
       "      <td>0.000000</td>\n",
       "    </tr>\n",
       "    <tr>\n",
       "      <th>Lady</th>\n",
       "      <td>100.000000</td>\n",
       "    </tr>\n",
       "    <tr>\n",
       "      <th>Major</th>\n",
       "      <td>50.000000</td>\n",
       "    </tr>\n",
       "    <tr>\n",
       "      <th>Master</th>\n",
       "      <td>57.500000</td>\n",
       "    </tr>\n",
       "    <tr>\n",
       "      <th>Miss</th>\n",
       "      <td>69.780220</td>\n",
       "    </tr>\n",
       "    <tr>\n",
       "      <th>Mlle</th>\n",
       "      <td>100.000000</td>\n",
       "    </tr>\n",
       "    <tr>\n",
       "      <th>Mme</th>\n",
       "      <td>100.000000</td>\n",
       "    </tr>\n",
       "    <tr>\n",
       "      <th>Mr</th>\n",
       "      <td>15.667311</td>\n",
       "    </tr>\n",
       "    <tr>\n",
       "      <th>Mrs</th>\n",
       "      <td>79.200000</td>\n",
       "    </tr>\n",
       "    <tr>\n",
       "      <th>Ms</th>\n",
       "      <td>100.000000</td>\n",
       "    </tr>\n",
       "    <tr>\n",
       "      <th>Rev</th>\n",
       "      <td>0.000000</td>\n",
       "    </tr>\n",
       "    <tr>\n",
       "      <th>Sir</th>\n",
       "      <td>100.000000</td>\n",
       "    </tr>\n",
       "  </tbody>\n",
       "</table>\n",
       "</div>"
      ]
     },
     "execution_count": 294,
     "metadata": {},
     "output_type": "execute_result"
    }
   ],
   "execution_count": 294
  },
  {
   "cell_type": "markdown",
   "metadata": {},
   "source": [
    "Classificarei os passageiros, através do seu pronome pela probabilidade de ser poupado ou de se sacrificar, com base na lista acima. 5 para chances altas de se sacrificar até 1, para chances altas de ser poupado."
   ]
  },
  {
   "cell_type": "code",
   "metadata": {
    "ExecuteTime": {
     "end_time": "2024-09-03T16:51:06.207834Z",
     "start_time": "2024-09-03T16:51:06.202899Z"
    }
   },
   "source": [
    "estoicismo = {\n",
    "    'Capt': 5,\n",
    "    'Col': 3,\n",
    "    'Countess': 1,\n",
    "    'Don': 5,\n",
    "    'Dr': 3,\n",
    "    'Jonkheer': 5,\n",
    "    'Lady': 1,\n",
    "    'Major': 3,\n",
    "    'Master': 3,\n",
    "    'Miss': 4,\n",
    "    'Mlle': 1,\n",
    "    'Mme': 1,\n",
    "    'Mr': 2,\n",
    "    'Mrs': 2,\n",
    "    'Ms': 1,\n",
    "    'Rev': 5,\n",
    "    'Sir': 1\n",
    "}\n",
    "df_treino['Pronome'] = df_treino[\"Pronome\"].apply(lambda x: estoicismo.get(x))"
   ],
   "outputs": [],
   "execution_count": 295
  },
  {
   "metadata": {},
   "cell_type": "markdown",
   "source": "### Local de Embarque e limpeza"
  },
  {
   "cell_type": "markdown",
   "metadata": {},
   "source": [
    "Em relação ao 'Embarked' iremos substituir os valores de texto por números com auxilio do LabelEncoder. Os dados precisarão ser limpos."
   ]
  },
  {
   "cell_type": "code",
   "metadata": {
    "ExecuteTime": {
     "end_time": "2024-09-03T16:51:06.215434Z",
     "start_time": "2024-09-03T16:51:06.208840Z"
    }
   },
   "source": [
    "le = LabelEncoder()\n",
    "df_treino[\"Embarked\"] = df_treino[\"Embarked\"].apply(lambda x: 'A' if x == 28.0 else x ) # Tinha uma linha com float ao inves de string\n",
    "df_treino[\"cod_embarque\"] = le.fit_transform(df_treino['Embarked'])\n",
    "df_treino.drop('Embarked', axis=1, inplace=True)\n"
   ],
   "outputs": [],
   "execution_count": 296
  },
  {
   "cell_type": "markdown",
   "metadata": {},
   "source": "Vamos repetir o processo para eliminar outros campos de texto e classificar outras colunas da mesma forma, com o _fit_transform_."
  },
  {
   "cell_type": "code",
   "metadata": {
    "ExecuteTime": {
     "end_time": "2024-09-03T16:51:06.223690Z",
     "start_time": "2024-09-03T16:51:06.217441Z"
    }
   },
   "source": [
    "df_treino[\"Sex\"] = le.fit_transform(df_treino['Sex'])\n",
    "df_treino.drop([\"PassengerId\"], axis=1, inplace=True)"
   ],
   "outputs": [],
   "execution_count": 297
  },
  {
   "cell_type": "markdown",
   "metadata": {},
   "source": [
    "Os valores de ticket estao errados pois correspondem a todos os integrantes de uma familia. Vamos somar os integrantes da familia e dividir por cabeca."
   ]
  },
  {
   "cell_type": "code",
   "metadata": {
    "ExecuteTime": {
     "end_time": "2024-09-03T16:51:06.233510Z",
     "start_time": "2024-09-03T16:51:06.224700Z"
    }
   },
   "source": [
    "df_treino[\"FixedFare\"] = df_treino[\"Fare\"]/(df_treino[\"SibSp\"] + df_treino[\"Parch\"] + 1)\n",
    "df_treino[\"FixedFare\"] = df_treino[\"FixedFare\"].apply(np.round)"
   ],
   "outputs": [],
   "execution_count": 298
  },
  {
   "metadata": {},
   "cell_type": "markdown",
   "source": "Vamos eliminar e converter mais alguns datasets"
  },
  {
   "cell_type": "code",
   "metadata": {
    "ExecuteTime": {
     "end_time": "2024-09-03T16:51:06.242769Z",
     "start_time": "2024-09-03T16:51:06.236519Z"
    }
   },
   "source": [
    "df_treino.drop([\"Ticket\"], axis=1, inplace=True)\n",
    "df_treino.drop([\"Fare\"], axis=1, inplace=True)"
   ],
   "outputs": [],
   "execution_count": 299
  },
  {
   "metadata": {
    "ExecuteTime": {
     "end_time": "2024-09-03T16:51:06.248854Z",
     "start_time": "2024-09-03T16:51:06.243776Z"
    }
   },
   "cell_type": "code",
   "source": "df_treino[\"Age\"] = df_treino[\"Age\"].astype(int)",
   "outputs": [],
   "execution_count": 300
  },
  {
   "cell_type": "markdown",
   "metadata": {},
   "source": "Vamos criar categorias de idades para garantir uma classificacao que se considera correta. Criancas de colo podem nao conseguir sobreviver ou podem ter sobrevivido mais. Classifiquei a idade com o que acredito ser a classificacao da época, tendo em vista que a expectativa de vida era terrivelmente menor."
  },
  {
   "cell_type": "code",
   "metadata": {
    "ExecuteTime": {
     "end_time": "2024-09-03T16:51:06.257500Z",
     "start_time": "2024-09-03T16:51:06.249861Z"
    }
   },
   "source": "df_treino[\"classe_idade\"] = pd.cut(df_treino[\"Age\"], bins=[-np.inf,5,10,13,60,np.inf], labels=[\"Colo\",\"Nova\",\"Jovem\",\"Adulto\", \"Idoso\"])",
   "outputs": [],
   "execution_count": 301
  },
  {
   "cell_type": "code",
   "metadata": {
    "ExecuteTime": {
     "end_time": "2024-09-03T16:51:06.278935Z",
     "start_time": "2024-09-03T16:51:06.258506Z"
    }
   },
   "source": "df_treino.groupby(\"classe_idade\").head()",
   "outputs": [
    {
     "data": {
      "text/plain": [
       "     Survived  Pclass  Sex  Age  SibSp  Parch  Pronome  cod_embarque  \\\n",
       "0           0       3    1   22      1      0        2             3   \n",
       "1           1       1    0   38      1      0        2             1   \n",
       "2           1       3    0   26      0      0        4             3   \n",
       "3           1       1    0   35      1      0        2             3   \n",
       "4           0       3    1   35      0      0        2             3   \n",
       "7           0       3    1    2      3      1        3             3   \n",
       "10          1       3    0    4      1      1        4             3   \n",
       "16          0       3    1    2      4      1        3             2   \n",
       "24          0       3    0    8      3      1        4             3   \n",
       "33          0       2    1   66      0      0        2             3   \n",
       "43          1       2    0    3      1      2        4             1   \n",
       "50          0       3    1    7      4      1        3             3   \n",
       "54          0       1    1   65      0      1        2             1   \n",
       "58          1       2    0    5      1      2        4             3   \n",
       "59          0       3    1   11      5      2        3             3   \n",
       "96          0       1    1   71      0      0        2             1   \n",
       "116         0       3    1   70      0      0        2             2   \n",
       "125         1       3    1   12      1      0        3             1   \n",
       "147         0       3    0    9      2      2        4             3   \n",
       "165         1       3    1    9      0      2        3             3   \n",
       "170         0       1    1   61      0      0        2             3   \n",
       "182         0       3    1    9      4      2        3             3   \n",
       "446         1       2    0   13      0      1        4             3   \n",
       "542         0       3    0   11      4      2        4             3   \n",
       "731         0       3    1   11      0      0        2             1   \n",
       "\n",
       "     FixedFare classe_idade  \n",
       "0          4.0       Adulto  \n",
       "1         36.0       Adulto  \n",
       "2          8.0       Adulto  \n",
       "3         27.0       Adulto  \n",
       "4          8.0       Adulto  \n",
       "7          4.0         Colo  \n",
       "10         6.0         Colo  \n",
       "16         5.0         Colo  \n",
       "24         4.0         Nova  \n",
       "33        10.0        Idoso  \n",
       "43        10.0         Colo  \n",
       "50         7.0         Nova  \n",
       "54        31.0        Idoso  \n",
       "58         7.0         Colo  \n",
       "59         6.0        Jovem  \n",
       "96        35.0        Idoso  \n",
       "116        8.0        Idoso  \n",
       "125        6.0        Jovem  \n",
       "147        7.0         Nova  \n",
       "165        7.0         Nova  \n",
       "170       34.0        Idoso  \n",
       "182        4.0         Nova  \n",
       "446       10.0        Jovem  \n",
       "542        4.0        Jovem  \n",
       "731       19.0        Jovem  "
      ],
      "text/html": [
       "<div>\n",
       "<style scoped>\n",
       "    .dataframe tbody tr th:only-of-type {\n",
       "        vertical-align: middle;\n",
       "    }\n",
       "\n",
       "    .dataframe tbody tr th {\n",
       "        vertical-align: top;\n",
       "    }\n",
       "\n",
       "    .dataframe thead th {\n",
       "        text-align: right;\n",
       "    }\n",
       "</style>\n",
       "<table border=\"1\" class=\"dataframe\">\n",
       "  <thead>\n",
       "    <tr style=\"text-align: right;\">\n",
       "      <th></th>\n",
       "      <th>Survived</th>\n",
       "      <th>Pclass</th>\n",
       "      <th>Sex</th>\n",
       "      <th>Age</th>\n",
       "      <th>SibSp</th>\n",
       "      <th>Parch</th>\n",
       "      <th>Pronome</th>\n",
       "      <th>cod_embarque</th>\n",
       "      <th>FixedFare</th>\n",
       "      <th>classe_idade</th>\n",
       "    </tr>\n",
       "  </thead>\n",
       "  <tbody>\n",
       "    <tr>\n",
       "      <th>0</th>\n",
       "      <td>0</td>\n",
       "      <td>3</td>\n",
       "      <td>1</td>\n",
       "      <td>22</td>\n",
       "      <td>1</td>\n",
       "      <td>0</td>\n",
       "      <td>2</td>\n",
       "      <td>3</td>\n",
       "      <td>4.0</td>\n",
       "      <td>Adulto</td>\n",
       "    </tr>\n",
       "    <tr>\n",
       "      <th>1</th>\n",
       "      <td>1</td>\n",
       "      <td>1</td>\n",
       "      <td>0</td>\n",
       "      <td>38</td>\n",
       "      <td>1</td>\n",
       "      <td>0</td>\n",
       "      <td>2</td>\n",
       "      <td>1</td>\n",
       "      <td>36.0</td>\n",
       "      <td>Adulto</td>\n",
       "    </tr>\n",
       "    <tr>\n",
       "      <th>2</th>\n",
       "      <td>1</td>\n",
       "      <td>3</td>\n",
       "      <td>0</td>\n",
       "      <td>26</td>\n",
       "      <td>0</td>\n",
       "      <td>0</td>\n",
       "      <td>4</td>\n",
       "      <td>3</td>\n",
       "      <td>8.0</td>\n",
       "      <td>Adulto</td>\n",
       "    </tr>\n",
       "    <tr>\n",
       "      <th>3</th>\n",
       "      <td>1</td>\n",
       "      <td>1</td>\n",
       "      <td>0</td>\n",
       "      <td>35</td>\n",
       "      <td>1</td>\n",
       "      <td>0</td>\n",
       "      <td>2</td>\n",
       "      <td>3</td>\n",
       "      <td>27.0</td>\n",
       "      <td>Adulto</td>\n",
       "    </tr>\n",
       "    <tr>\n",
       "      <th>4</th>\n",
       "      <td>0</td>\n",
       "      <td>3</td>\n",
       "      <td>1</td>\n",
       "      <td>35</td>\n",
       "      <td>0</td>\n",
       "      <td>0</td>\n",
       "      <td>2</td>\n",
       "      <td>3</td>\n",
       "      <td>8.0</td>\n",
       "      <td>Adulto</td>\n",
       "    </tr>\n",
       "    <tr>\n",
       "      <th>7</th>\n",
       "      <td>0</td>\n",
       "      <td>3</td>\n",
       "      <td>1</td>\n",
       "      <td>2</td>\n",
       "      <td>3</td>\n",
       "      <td>1</td>\n",
       "      <td>3</td>\n",
       "      <td>3</td>\n",
       "      <td>4.0</td>\n",
       "      <td>Colo</td>\n",
       "    </tr>\n",
       "    <tr>\n",
       "      <th>10</th>\n",
       "      <td>1</td>\n",
       "      <td>3</td>\n",
       "      <td>0</td>\n",
       "      <td>4</td>\n",
       "      <td>1</td>\n",
       "      <td>1</td>\n",
       "      <td>4</td>\n",
       "      <td>3</td>\n",
       "      <td>6.0</td>\n",
       "      <td>Colo</td>\n",
       "    </tr>\n",
       "    <tr>\n",
       "      <th>16</th>\n",
       "      <td>0</td>\n",
       "      <td>3</td>\n",
       "      <td>1</td>\n",
       "      <td>2</td>\n",
       "      <td>4</td>\n",
       "      <td>1</td>\n",
       "      <td>3</td>\n",
       "      <td>2</td>\n",
       "      <td>5.0</td>\n",
       "      <td>Colo</td>\n",
       "    </tr>\n",
       "    <tr>\n",
       "      <th>24</th>\n",
       "      <td>0</td>\n",
       "      <td>3</td>\n",
       "      <td>0</td>\n",
       "      <td>8</td>\n",
       "      <td>3</td>\n",
       "      <td>1</td>\n",
       "      <td>4</td>\n",
       "      <td>3</td>\n",
       "      <td>4.0</td>\n",
       "      <td>Nova</td>\n",
       "    </tr>\n",
       "    <tr>\n",
       "      <th>33</th>\n",
       "      <td>0</td>\n",
       "      <td>2</td>\n",
       "      <td>1</td>\n",
       "      <td>66</td>\n",
       "      <td>0</td>\n",
       "      <td>0</td>\n",
       "      <td>2</td>\n",
       "      <td>3</td>\n",
       "      <td>10.0</td>\n",
       "      <td>Idoso</td>\n",
       "    </tr>\n",
       "    <tr>\n",
       "      <th>43</th>\n",
       "      <td>1</td>\n",
       "      <td>2</td>\n",
       "      <td>0</td>\n",
       "      <td>3</td>\n",
       "      <td>1</td>\n",
       "      <td>2</td>\n",
       "      <td>4</td>\n",
       "      <td>1</td>\n",
       "      <td>10.0</td>\n",
       "      <td>Colo</td>\n",
       "    </tr>\n",
       "    <tr>\n",
       "      <th>50</th>\n",
       "      <td>0</td>\n",
       "      <td>3</td>\n",
       "      <td>1</td>\n",
       "      <td>7</td>\n",
       "      <td>4</td>\n",
       "      <td>1</td>\n",
       "      <td>3</td>\n",
       "      <td>3</td>\n",
       "      <td>7.0</td>\n",
       "      <td>Nova</td>\n",
       "    </tr>\n",
       "    <tr>\n",
       "      <th>54</th>\n",
       "      <td>0</td>\n",
       "      <td>1</td>\n",
       "      <td>1</td>\n",
       "      <td>65</td>\n",
       "      <td>0</td>\n",
       "      <td>1</td>\n",
       "      <td>2</td>\n",
       "      <td>1</td>\n",
       "      <td>31.0</td>\n",
       "      <td>Idoso</td>\n",
       "    </tr>\n",
       "    <tr>\n",
       "      <th>58</th>\n",
       "      <td>1</td>\n",
       "      <td>2</td>\n",
       "      <td>0</td>\n",
       "      <td>5</td>\n",
       "      <td>1</td>\n",
       "      <td>2</td>\n",
       "      <td>4</td>\n",
       "      <td>3</td>\n",
       "      <td>7.0</td>\n",
       "      <td>Colo</td>\n",
       "    </tr>\n",
       "    <tr>\n",
       "      <th>59</th>\n",
       "      <td>0</td>\n",
       "      <td>3</td>\n",
       "      <td>1</td>\n",
       "      <td>11</td>\n",
       "      <td>5</td>\n",
       "      <td>2</td>\n",
       "      <td>3</td>\n",
       "      <td>3</td>\n",
       "      <td>6.0</td>\n",
       "      <td>Jovem</td>\n",
       "    </tr>\n",
       "    <tr>\n",
       "      <th>96</th>\n",
       "      <td>0</td>\n",
       "      <td>1</td>\n",
       "      <td>1</td>\n",
       "      <td>71</td>\n",
       "      <td>0</td>\n",
       "      <td>0</td>\n",
       "      <td>2</td>\n",
       "      <td>1</td>\n",
       "      <td>35.0</td>\n",
       "      <td>Idoso</td>\n",
       "    </tr>\n",
       "    <tr>\n",
       "      <th>116</th>\n",
       "      <td>0</td>\n",
       "      <td>3</td>\n",
       "      <td>1</td>\n",
       "      <td>70</td>\n",
       "      <td>0</td>\n",
       "      <td>0</td>\n",
       "      <td>2</td>\n",
       "      <td>2</td>\n",
       "      <td>8.0</td>\n",
       "      <td>Idoso</td>\n",
       "    </tr>\n",
       "    <tr>\n",
       "      <th>125</th>\n",
       "      <td>1</td>\n",
       "      <td>3</td>\n",
       "      <td>1</td>\n",
       "      <td>12</td>\n",
       "      <td>1</td>\n",
       "      <td>0</td>\n",
       "      <td>3</td>\n",
       "      <td>1</td>\n",
       "      <td>6.0</td>\n",
       "      <td>Jovem</td>\n",
       "    </tr>\n",
       "    <tr>\n",
       "      <th>147</th>\n",
       "      <td>0</td>\n",
       "      <td>3</td>\n",
       "      <td>0</td>\n",
       "      <td>9</td>\n",
       "      <td>2</td>\n",
       "      <td>2</td>\n",
       "      <td>4</td>\n",
       "      <td>3</td>\n",
       "      <td>7.0</td>\n",
       "      <td>Nova</td>\n",
       "    </tr>\n",
       "    <tr>\n",
       "      <th>165</th>\n",
       "      <td>1</td>\n",
       "      <td>3</td>\n",
       "      <td>1</td>\n",
       "      <td>9</td>\n",
       "      <td>0</td>\n",
       "      <td>2</td>\n",
       "      <td>3</td>\n",
       "      <td>3</td>\n",
       "      <td>7.0</td>\n",
       "      <td>Nova</td>\n",
       "    </tr>\n",
       "    <tr>\n",
       "      <th>170</th>\n",
       "      <td>0</td>\n",
       "      <td>1</td>\n",
       "      <td>1</td>\n",
       "      <td>61</td>\n",
       "      <td>0</td>\n",
       "      <td>0</td>\n",
       "      <td>2</td>\n",
       "      <td>3</td>\n",
       "      <td>34.0</td>\n",
       "      <td>Idoso</td>\n",
       "    </tr>\n",
       "    <tr>\n",
       "      <th>182</th>\n",
       "      <td>0</td>\n",
       "      <td>3</td>\n",
       "      <td>1</td>\n",
       "      <td>9</td>\n",
       "      <td>4</td>\n",
       "      <td>2</td>\n",
       "      <td>3</td>\n",
       "      <td>3</td>\n",
       "      <td>4.0</td>\n",
       "      <td>Nova</td>\n",
       "    </tr>\n",
       "    <tr>\n",
       "      <th>446</th>\n",
       "      <td>1</td>\n",
       "      <td>2</td>\n",
       "      <td>0</td>\n",
       "      <td>13</td>\n",
       "      <td>0</td>\n",
       "      <td>1</td>\n",
       "      <td>4</td>\n",
       "      <td>3</td>\n",
       "      <td>10.0</td>\n",
       "      <td>Jovem</td>\n",
       "    </tr>\n",
       "    <tr>\n",
       "      <th>542</th>\n",
       "      <td>0</td>\n",
       "      <td>3</td>\n",
       "      <td>0</td>\n",
       "      <td>11</td>\n",
       "      <td>4</td>\n",
       "      <td>2</td>\n",
       "      <td>4</td>\n",
       "      <td>3</td>\n",
       "      <td>4.0</td>\n",
       "      <td>Jovem</td>\n",
       "    </tr>\n",
       "    <tr>\n",
       "      <th>731</th>\n",
       "      <td>0</td>\n",
       "      <td>3</td>\n",
       "      <td>1</td>\n",
       "      <td>11</td>\n",
       "      <td>0</td>\n",
       "      <td>0</td>\n",
       "      <td>2</td>\n",
       "      <td>1</td>\n",
       "      <td>19.0</td>\n",
       "      <td>Jovem</td>\n",
       "    </tr>\n",
       "  </tbody>\n",
       "</table>\n",
       "</div>"
      ]
     },
     "execution_count": 302,
     "metadata": {},
     "output_type": "execute_result"
    }
   ],
   "execution_count": 302
  },
  {
   "metadata": {},
   "cell_type": "markdown",
   "source": "Agora, vamos tentar categorizar essas idades como atributos."
  },
  {
   "metadata": {
    "ExecuteTime": {
     "end_time": "2024-09-03T16:51:06.288694Z",
     "start_time": "2024-09-03T16:51:06.279942Z"
    }
   },
   "cell_type": "code",
   "source": [
    "df_treino = pd.get_dummies(df_treino, columns=[\"classe_idade\"], prefix=\"idade\", dtype=int)\n",
    "df_treino.idade_Colo = df_treino.idade_Colo.astype(int)\n",
    "df_treino.idade_Nova = df_treino.idade_Colo.astype(int)"
   ],
   "outputs": [],
   "execution_count": 303
  },
  {
   "metadata": {
    "ExecuteTime": {
     "end_time": "2024-09-03T16:51:06.300693Z",
     "start_time": "2024-09-03T16:51:06.290702Z"
    }
   },
   "cell_type": "code",
   "source": "df_treino.head()",
   "outputs": [
    {
     "data": {
      "text/plain": [
       "   Survived  Pclass  Sex  Age  SibSp  Parch  Pronome  cod_embarque  FixedFare  \\\n",
       "0         0       3    1   22      1      0        2             3        4.0   \n",
       "1         1       1    0   38      1      0        2             1       36.0   \n",
       "2         1       3    0   26      0      0        4             3        8.0   \n",
       "3         1       1    0   35      1      0        2             3       27.0   \n",
       "4         0       3    1   35      0      0        2             3        8.0   \n",
       "\n",
       "   idade_Colo  idade_Nova  idade_Jovem  idade_Adulto  idade_Idoso  \n",
       "0           0           0            0             1            0  \n",
       "1           0           0            0             1            0  \n",
       "2           0           0            0             1            0  \n",
       "3           0           0            0             1            0  \n",
       "4           0           0            0             1            0  "
      ],
      "text/html": [
       "<div>\n",
       "<style scoped>\n",
       "    .dataframe tbody tr th:only-of-type {\n",
       "        vertical-align: middle;\n",
       "    }\n",
       "\n",
       "    .dataframe tbody tr th {\n",
       "        vertical-align: top;\n",
       "    }\n",
       "\n",
       "    .dataframe thead th {\n",
       "        text-align: right;\n",
       "    }\n",
       "</style>\n",
       "<table border=\"1\" class=\"dataframe\">\n",
       "  <thead>\n",
       "    <tr style=\"text-align: right;\">\n",
       "      <th></th>\n",
       "      <th>Survived</th>\n",
       "      <th>Pclass</th>\n",
       "      <th>Sex</th>\n",
       "      <th>Age</th>\n",
       "      <th>SibSp</th>\n",
       "      <th>Parch</th>\n",
       "      <th>Pronome</th>\n",
       "      <th>cod_embarque</th>\n",
       "      <th>FixedFare</th>\n",
       "      <th>idade_Colo</th>\n",
       "      <th>idade_Nova</th>\n",
       "      <th>idade_Jovem</th>\n",
       "      <th>idade_Adulto</th>\n",
       "      <th>idade_Idoso</th>\n",
       "    </tr>\n",
       "  </thead>\n",
       "  <tbody>\n",
       "    <tr>\n",
       "      <th>0</th>\n",
       "      <td>0</td>\n",
       "      <td>3</td>\n",
       "      <td>1</td>\n",
       "      <td>22</td>\n",
       "      <td>1</td>\n",
       "      <td>0</td>\n",
       "      <td>2</td>\n",
       "      <td>3</td>\n",
       "      <td>4.0</td>\n",
       "      <td>0</td>\n",
       "      <td>0</td>\n",
       "      <td>0</td>\n",
       "      <td>1</td>\n",
       "      <td>0</td>\n",
       "    </tr>\n",
       "    <tr>\n",
       "      <th>1</th>\n",
       "      <td>1</td>\n",
       "      <td>1</td>\n",
       "      <td>0</td>\n",
       "      <td>38</td>\n",
       "      <td>1</td>\n",
       "      <td>0</td>\n",
       "      <td>2</td>\n",
       "      <td>1</td>\n",
       "      <td>36.0</td>\n",
       "      <td>0</td>\n",
       "      <td>0</td>\n",
       "      <td>0</td>\n",
       "      <td>1</td>\n",
       "      <td>0</td>\n",
       "    </tr>\n",
       "    <tr>\n",
       "      <th>2</th>\n",
       "      <td>1</td>\n",
       "      <td>3</td>\n",
       "      <td>0</td>\n",
       "      <td>26</td>\n",
       "      <td>0</td>\n",
       "      <td>0</td>\n",
       "      <td>4</td>\n",
       "      <td>3</td>\n",
       "      <td>8.0</td>\n",
       "      <td>0</td>\n",
       "      <td>0</td>\n",
       "      <td>0</td>\n",
       "      <td>1</td>\n",
       "      <td>0</td>\n",
       "    </tr>\n",
       "    <tr>\n",
       "      <th>3</th>\n",
       "      <td>1</td>\n",
       "      <td>1</td>\n",
       "      <td>0</td>\n",
       "      <td>35</td>\n",
       "      <td>1</td>\n",
       "      <td>0</td>\n",
       "      <td>2</td>\n",
       "      <td>3</td>\n",
       "      <td>27.0</td>\n",
       "      <td>0</td>\n",
       "      <td>0</td>\n",
       "      <td>0</td>\n",
       "      <td>1</td>\n",
       "      <td>0</td>\n",
       "    </tr>\n",
       "    <tr>\n",
       "      <th>4</th>\n",
       "      <td>0</td>\n",
       "      <td>3</td>\n",
       "      <td>1</td>\n",
       "      <td>35</td>\n",
       "      <td>0</td>\n",
       "      <td>0</td>\n",
       "      <td>2</td>\n",
       "      <td>3</td>\n",
       "      <td>8.0</td>\n",
       "      <td>0</td>\n",
       "      <td>0</td>\n",
       "      <td>0</td>\n",
       "      <td>1</td>\n",
       "      <td>0</td>\n",
       "    </tr>\n",
       "  </tbody>\n",
       "</table>\n",
       "</div>"
      ]
     },
     "execution_count": 304,
     "metadata": {},
     "output_type": "execute_result"
    }
   ],
   "execution_count": 304
  },
  {
   "metadata": {},
   "cell_type": "markdown",
   "source": "## Etapa II - Análise dos Dados"
  },
  {
   "metadata": {},
   "cell_type": "markdown",
   "source": "Percebam que a correlacao entre alguns atributos criados e Survived é especialmente interessante."
  },
  {
   "metadata": {
    "ExecuteTime": {
     "end_time": "2024-09-03T16:51:06.674407Z",
     "start_time": "2024-09-03T16:51:06.301709Z"
    }
   },
   "cell_type": "code",
   "source": "sns.heatmap(df_treino.corr(), linewidths=0.5, cmap='seismic')",
   "outputs": [
    {
     "data": {
      "text/plain": [
       "<Axes: >"
      ]
     },
     "execution_count": 305,
     "metadata": {},
     "output_type": "execute_result"
    },
    {
     "data": {
      "text/plain": [
       "<Figure size 640x480 with 2 Axes>"
      ],
      "image/png": "[encoded data removed]"
     },
     "metadata": {},
     "output_type": "display_data"
    }
   ],
   "execution_count": 305
  },
  {
   "metadata": {},
   "cell_type": "markdown",
   "source": "## Etapa III - Modelagem"
  },
  {
   "metadata": {},
   "cell_type": "markdown",
   "source": "### Separacao e Holdout"
  },
  {
   "metadata": {
    "ExecuteTime": {
     "end_time": "2024-09-03T16:51:06.681205Z",
     "start_time": "2024-09-03T16:51:06.675415Z"
    }
   },
   "cell_type": "code",
   "source": [
    "test_size = 0.2\n",
    "seed = 1\n",
    "\n",
    "# Separacao em conjunto de teste e treino\n",
    "array = df_treino.values\n",
    "X = array[:,1:12]\n",
    "y = array[:,0]\n",
    "X_train, X_test, y_train, y_test = train_test_split(\n",
    "    X,y,\n",
    "    test_size=test_size,\n",
    "    random_state=seed,\n",
    "    shuffle=True,\n",
    "    stratify=y\n",
    ")\n",
    "\n",
    "scoring= 'accuracy'\n",
    "num_particoes = 10\n",
    "kfold = StratifiedKFold(n_splits=10, random_state=seed, shuffle=True)"
   ],
   "outputs": [],
   "execution_count": 306
  },
  {
   "metadata": {
    "ExecuteTime": {
     "end_time": "2024-09-03T16:51:14.458133Z",
     "start_time": "2024-09-03T16:51:06.682210Z"
    }
   },
   "cell_type": "code",
   "source": [
    "np.random.seed(seed)\n",
    "\n",
    "models = []\n",
    "\n",
    "models.append(('LR', LogisticRegression()))\n",
    "models.append(('KNN', KNeighborsClassifier()))\n",
    "models.append(('CART', DecisionTreeClassifier()))\n",
    "models.append(('NB', GaussianNB()))\n",
    "models.append(('SVM', SVC()))\n",
    "\n",
    "# Definindo os parâmetros do classificador base para o BaggingClassifier\n",
    "base = DecisionTreeClassifier()\n",
    "num_trees = 100\n",
    "max_features = 3\n",
    "\n",
    "# Criando os modelos para o VotingClassifier\n",
    "bases = []\n",
    "model1 = LogisticRegression(max_iter=200)\n",
    "bases.append(('logistic', model1))\n",
    "model2 = DecisionTreeClassifier()\n",
    "bases.append(('cart', model2))\n",
    "model3 = SVC()\n",
    "bases.append(('svm', model3))\n",
    "\n",
    "# Criando os ensembles e adicionando-os na lista de modelos\n",
    "models.append(('Bagging', BaggingClassifier(estimator=base, n_estimators=num_trees)))\n",
    "models.append(('RF', RandomForestClassifier(n_estimators=num_trees, max_features=max_features)))\n",
    "models.append(('ET', ExtraTreesClassifier(n_estimators=num_trees, max_features=max_features)))\n",
    "models.append(('Ada', AdaBoostClassifier(n_estimators=num_trees)))\n",
    "models.append(('GB', GradientBoostingClassifier(n_estimators=num_trees)))\n",
    "models.append(('Voting', VotingClassifier(bases)))\n",
    "\n",
    "results = []\n",
    "names = []\n",
    "\n",
    "for name, model in models:\n",
    "    cv_results = cross_val_score(model, X_train, y_train, cv=kfold, scoring=scoring)\n",
    "    results.append(cv_results)\n",
    "    names.append(name)\n",
    "    msg = \"%s: %f (%f)\" % (name, cv_results.mean(), cv_results.std())\n",
    "    print(msg)\n",
    "\n"
   ],
   "outputs": [
    {
     "name": "stdout",
     "output_type": "stream",
     "text": [
      "LR: 0.814652 (0.045042)\n",
      "KNN: 0.748513 (0.024643)\n",
      "CART: 0.797770 (0.046090)\n",
      "NB: 0.749922 (0.034276)\n",
      "SVM: 0.696694 (0.034426)\n",
      "Bagging: 0.810466 (0.045363)\n",
      "RF: 0.801956 (0.046886)\n",
      "ET: 0.787911 (0.049796)\n",
      "Ada: 0.813243 (0.045170)\n",
      "GB: 0.804812 (0.044884)\n",
      "Voting: 0.814710 (0.049658)\n"
     ]
    }
   ],
   "execution_count": 307
  },
  {
   "metadata": {
    "ExecuteTime": {
     "end_time": "2024-09-03T16:57:34.143780Z",
     "start_time": "2024-09-03T16:57:33.950822Z"
    }
   },
   "cell_type": "code",
   "source": [
    "# Boxplot de comparação dos modelos\n",
    "fig = plt.figure(figsize=(10,8))\n",
    "fig.suptitle('Comparação dos Modelos')\n",
    "ax = fig.add_subplot(111)\n",
    "plt.boxplot(results)\n",
    "ax.set_xticklabels(names)\n",
    "plt.show()"
   ],
   "outputs": [
    {
     "data": {
      "text/plain": [
       "<Figure size 1000x800 with 1 Axes>"
      ],
      "image/png": "[encoded data removed]"
     },
     "metadata": {},
     "output_type": "display_data"
    }
   ],
   "execution_count": 311
  },
  {
   "metadata": {},
   "cell_type": "markdown",
   "source": "Parecem interessantes até o momento o algoritmo ADA e o algoritmo LR (Regressão Logística)."
  },
  {
   "metadata": {},
   "cell_type": "markdown",
   "source": "## Otimizacao de Hiperparametros"
  },
  {
   "metadata": {
    "ExecuteTime": {
     "end_time": "2024-09-03T17:59:05.733979Z",
     "start_time": "2024-09-03T17:30:32.323190Z"
    }
   },
   "cell_type": "code",
   "source": [
    "np.random.seed(seed)  # Definindo uma semente global para este bloco\n",
    "\n",
    "# Lista de modelos\n",
    "models = []\n",
    "\n",
    "# Criando os modelos e adicionando-os na lista de modelos\n",
    "models.append(('LR', LogisticRegression(max_iter=200))) \n",
    "models.append(('KNN', KNeighborsClassifier())) \n",
    "models.append(('CART', DecisionTreeClassifier())) \n",
    "models.append(('NB', GaussianNB()))\n",
    "models.append(('SVM', SVC()))\n",
    "\n",
    "# Definindo os parâmetros do classificador base para o BaggingClassifier\n",
    "base = DecisionTreeClassifier()\n",
    "num_trees = 100\n",
    "max_features = 3\n",
    "\n",
    "# Criando os modelos para o VotingClassifier\n",
    "bases = []\n",
    "model1 = LogisticRegression(max_iter=200)\n",
    "bases.append(('logistic', model1))\n",
    "model2 = DecisionTreeClassifier()\n",
    "bases.append(('cart', model2))\n",
    "model3 = SVC()\n",
    "bases.append(('svm', model3))\n",
    "\n",
    "# Criando os ensembles e adicionando-os na lista de modelos\n",
    "models.append(('Bagging', BaggingClassifier(estimator=base, n_estimators=num_trees)))\n",
    "models.append(('RF', RandomForestClassifier(n_estimators=num_trees, max_features=max_features)))\n",
    "models.append(('ET', ExtraTreesClassifier(n_estimators=num_trees, max_features=max_features)))\n",
    "models.append(('Ada', AdaBoostClassifier(n_estimators=num_trees)))\n",
    "models.append(('GB', GradientBoostingClassifier(n_estimators=num_trees)))\n",
    "models.append(('Voting', VotingClassifier(estimators=bases, voting='hard')))\n",
    "\n",
    "# Definindo os componentes do pipeline\n",
    "standard_scaler = ('StandardScaler', StandardScaler())\n",
    "min_max_scaler = ('MinMaxScaler', MinMaxScaler())\n",
    "\n",
    "# Lista de pipelines\n",
    "pipelines = []\n",
    "\n",
    "# Criando pipelines para cada modelo\n",
    "for name, model in models:\n",
    "    pipelines.append((name + '-orig', Pipeline(steps=[(name, model)])))\n",
    "    pipelines.append((name + '-padr', Pipeline(steps=[standard_scaler, (name, model)])))\n",
    "    pipelines.append((name + '-norm', Pipeline(steps=[min_max_scaler, (name, model)])))\n",
    "\n",
    "# Definindo os parâmetros para GridSearchCV\n",
    "param_grids = {\n",
    "    'LR': {\n",
    "        'LR__C': [0.01, 0.1, 1, 10, 100],\n",
    "        'LR__solver': ['liblinear', 'saga']\n",
    "    },\n",
    "    'KNN': {\n",
    "        'KNN__n_neighbors': [1, 3, 5, 7, 9, 11, 13, 15, 17, 19, 21],\n",
    "        'KNN__metric': [\"euclidean\", \"manhattan\", \"minkowski\"]\n",
    "    },\n",
    "    'CART': {\n",
    "        'CART__max_depth': [None, 10, 20, 30, 40, 50],\n",
    "        'CART__min_samples_split': [2, 5, 10],\n",
    "        'CART__min_samples_leaf': [1, 2, 4]\n",
    "    },\n",
    "    'NB': {\n",
    "        'NB__var_smoothing': [1e-9, 1e-8, 1e-7, 1e-6, 1e-5]\n",
    "    },\n",
    "    'SVM': {\n",
    "        'SVM__C': [0.1, 1, 10, 100],\n",
    "        'SVM__gamma': [1, 0.1, 0.01, 0.001],\n",
    "        'SVM__kernel': ['rbf', 'linear']\n",
    "    },\n",
    "    'RF': {\n",
    "        'RF__n_estimators': [10, 50, 100, 200],\n",
    "        'RF__max_features': ['auto', 'sqrt', 'log2'],\n",
    "        'RF__max_depth': [None, 10, 20, 30],\n",
    "        'RF__min_samples_split': [2, 5, 10],\n",
    "        'RF__min_samples_leaf': [1, 2, 4]\n",
    "    },\n",
    "    'ET': {\n",
    "        'ET__n_estimators': [10, 50, 100, 200],\n",
    "        'ET__max_features': ['auto', 'sqrt', 'log2'],\n",
    "        'ET__max_depth': [None, 10, 20, 30],\n",
    "        'ET__min_samples_split': [2, 5, 10],\n",
    "        'ET__min_samples_leaf': [1, 2, 4]\n",
    "    },\n",
    "    'Ada': {\n",
    "        'Ada__n_estimators': [10, 50, 100, 200],\n",
    "        'Ada__learning_rate': [0.01, 0.1, 1, 10]\n",
    "    },\n",
    "    'GB': {\n",
    "        'GB__n_estimators': [10, 50, 100, 200],\n",
    "        'GB__learning_rate': [0.01, 0.1, 0.2, 0.3],\n",
    "        'GB__max_depth': [3, 5, 7, 9]\n",
    "    },\n",
    "    'Voting': {\n",
    "        # Para VotingClassifier, geralmente não há hiperparâmetros para ajustar diretamente\n",
    "        # Ajustar os hiperparâmetros dos estimadores base individualmente se necessário\n",
    "    }\n",
    "}\n",
    "\n",
    "# Parâmetros de cross-validation e scoring\n",
    "scoring = 'accuracy'\n",
    "kfold = 5\n",
    "\n",
    "# Executando o GridSearchCV para cada pipeline\n",
    "for name, pipeline in pipelines:\n",
    "    model_type = name.split('-')[0]\n",
    "    if model_type in param_grids:\n",
    "        param_grid = param_grids[model_type]\n",
    "    else:\n",
    "        param_grid = {}  # Para modelos que não têm parâmetros definidos\n",
    "\n",
    "    grid = GridSearchCV(estimator=pipeline, param_grid=param_grid, scoring=scoring, cv=kfold)\n",
    "    grid.fit(X_train, y_train)\n",
    "    # Imprimindo a melhor configuração\n",
    "    print(\"Modelo: %s - Melhor: %f usando %s\" % (name, grid.best_score_, grid.best_params_))"
   ],
   "outputs": [
    {
     "name": "stdout",
     "output_type": "stream",
     "text": [
      "Modelo: LR-orig - Melhor: 0.811790 usando {'LR__C': 1, 'LR__solver': 'liblinear'}\n",
      "Modelo: LR-padr - Melhor: 0.820191 usando {'LR__C': 0.1, 'LR__solver': 'liblinear'}\n",
      "Modelo: LR-norm - Melhor: 0.818783 usando {'LR__C': 1, 'LR__solver': 'saga'}\n",
      "Modelo: KNN-orig - Melhor: 0.750074 usando {'KNN__metric': 'manhattan', 'KNN__n_neighbors': 17}\n",
      "Modelo: KNN-padr - Melhor: 0.797794 usando {'KNN__metric': 'manhattan', 'KNN__n_neighbors': 5}\n",
      "Modelo: KNN-norm - Melhor: 0.799202 usando {'KNN__metric': 'manhattan', 'KNN__n_neighbors': 17}\n",
      "Modelo: CART-orig - Melhor: 0.807633 usando {'CART__max_depth': 50, 'CART__min_samples_leaf': 4, 'CART__min_samples_split': 2}\n",
      "Modelo: CART-padr - Melhor: 0.809081 usando {'CART__max_depth': None, 'CART__min_samples_leaf': 2, 'CART__min_samples_split': 2}\n",
      "Modelo: CART-norm - Melhor: 0.809042 usando {'CART__max_depth': 40, 'CART__min_samples_leaf': 4, 'CART__min_samples_split': 2}\n",
      "Modelo: NB-orig - Melhor: 0.755580 usando {'NB__var_smoothing': 1e-05}\n",
      "Modelo: NB-padr - Melhor: 0.748577 usando {'NB__var_smoothing': 1e-09}\n",
      "Modelo: NB-norm - Melhor: 0.748577 usando {'NB__var_smoothing': 1e-09}\n",
      "Modelo: SVM-orig - Melhor: 0.808943 usando {'SVM__C': 10, 'SVM__gamma': 1, 'SVM__kernel': 'linear'}\n",
      "Modelo: SVM-padr - Melhor: 0.815966 usando {'SVM__C': 1, 'SVM__gamma': 0.1, 'SVM__kernel': 'rbf'}\n",
      "Modelo: SVM-norm - Melhor: 0.815985 usando {'SVM__C': 100, 'SVM__gamma': 0.1, 'SVM__kernel': 'rbf'}\n",
      "Modelo: Bagging-orig - Melhor: 0.801970 usando {}\n",
      "Modelo: Bagging-padr - Melhor: 0.800571 usando {}\n",
      "Modelo: Bagging-norm - Melhor: 0.806205 usando {}\n",
      "Modelo: RF-orig - Melhor: 0.824446 usando {'RF__max_depth': 20, 'RF__max_features': 'log2', 'RF__min_samples_leaf': 1, 'RF__min_samples_split': 10, 'RF__n_estimators': 100}\n",
      "Modelo: RF-padr - Melhor: 0.825874 usando {'RF__max_depth': 30, 'RF__max_features': 'log2', 'RF__min_samples_leaf': 2, 'RF__min_samples_split': 5, 'RF__n_estimators': 10}\n",
      "Modelo: RF-norm - Melhor: 0.825854 usando {'RF__max_depth': 10, 'RF__max_features': 'sqrt', 'RF__min_samples_leaf': 2, 'RF__min_samples_split': 2, 'RF__n_estimators': 200}\n",
      "Modelo: ET-orig - Melhor: 0.817433 usando {'ET__max_depth': 20, 'ET__max_features': 'log2', 'ET__min_samples_leaf': 4, 'ET__min_samples_split': 2, 'ET__n_estimators': 100}\n",
      "Modelo: ET-padr - Melhor: 0.821580 usando {'ET__max_depth': 10, 'ET__max_features': 'sqrt', 'ET__min_samples_leaf': 4, 'ET__min_samples_split': 10, 'ET__n_estimators': 10}\n",
      "Modelo: ET-norm - Melhor: 0.821609 usando {'ET__max_depth': 30, 'ET__max_features': 'sqrt', 'ET__min_samples_leaf': 4, 'ET__min_samples_split': 10, 'ET__n_estimators': 50}\n",
      "Modelo: Ada-orig - Melhor: 0.804816 usando {'Ada__learning_rate': 1, 'Ada__n_estimators': 100}\n",
      "Modelo: Ada-padr - Melhor: 0.806215 usando {'Ada__learning_rate': 1, 'Ada__n_estimators': 100}\n",
      "Modelo: Ada-norm - Melhor: 0.804816 usando {'Ada__learning_rate': 1, 'Ada__n_estimators': 100}\n",
      "Modelo: GB-orig - Melhor: 0.821678 usando {'GB__learning_rate': 0.1, 'GB__max_depth': 5, 'GB__n_estimators': 100}\n",
      "Modelo: GB-padr - Melhor: 0.817473 usando {'GB__learning_rate': 0.3, 'GB__max_depth': 3, 'GB__n_estimators': 50}\n",
      "Modelo: GB-norm - Melhor: 0.818881 usando {'GB__learning_rate': 0.3, 'GB__max_depth': 3, 'GB__n_estimators': 50}\n",
      "Modelo: Voting-orig - Melhor: 0.810411 usando {}\n",
      "Modelo: Voting-padr - Melhor: 0.817384 usando {}\n",
      "Modelo: Voting-norm - Melhor: 0.824416 usando {}\n"
     ]
    }
   ],
   "execution_count": 314
  },
  {
   "metadata": {},
   "cell_type": "markdown",
   "source": "Com base nos dados acima é possível inferir que o melhor algoritmo foi o de Random Forest, com pouca diferença na precisão com dados normalizados, padronizados ou sem interferência. O método vencedor foi o `Modelo: RF-padr - Melhor: 0.825874 usando {'RF__max_depth': 30, 'RF__max_features': 'log2', 'RF__min_samples_leaf': 2, 'RF__min_samples_split': 5, 'RF__n_estimators': 10}`"
  },
  {
   "metadata": {},
   "cell_type": "markdown",
   "source": "## Finalização do modelo"
  },
  {
   "metadata": {
    "ExecuteTime": {
     "end_time": "2024-09-03T19:11:00.840633Z",
     "start_time": "2024-09-03T19:11:00.818667Z"
    }
   },
   "cell_type": "code",
   "source": [
    "np.random.seed(seed)\n",
    "\n",
    "# Preparação do modelo\n",
    "scaler = StandardScaler().fit(X_train)\n",
    "rescaledX = scaler.transform(X_train)\n",
    "model = RandomForestClassifier(n_estimators=10,\n",
    "                               max_features='log2',\n",
    "                               min_samples_split=5,\n",
    "                               max_depth=30,\n",
    "                               min_samples_leaf=2,\n",
    "                               )\n",
    "model.fit(rescaledX, y_train)\n",
    "\n",
    "rescaledTestX = scaler.transform(X_test)\n",
    "predictions = model.predict(rescaledTestX)\n",
    "print(accuracy_score(y_test, predictions))\n",
    "\n"
   ],
   "outputs": [
    {
     "name": "stdout",
     "output_type": "stream",
     "text": [
      "0.7988826815642458\n"
     ]
    }
   ],
   "execution_count": 321
  },
  {
   "metadata": {
    "ExecuteTime": {
     "end_time": "2024-09-03T19:25:58.468157Z",
     "start_time": "2024-09-03T19:25:58.447584Z"
    }
   },
   "cell_type": "code",
   "source": [
    "np.random.seed(seed)\n",
    "\n",
    "model = RandomForestClassifier(n_estimators=10,\n",
    "                               max_features='log2',\n",
    "                               min_samples_split=5,\n",
    "                               max_depth=30,\n",
    "                               min_samples_leaf=2,\n",
    "                               )\n",
    "\n",
    "pipeline = Pipeline(steps=[('StandardScaler', StandardScaler()), ('RF', model)])\n",
    "\n",
    "pipeline.fit(X_train, y_train)\n",
    "predictions = pipeline.predict(X_test)\n",
    "print(accuracy_score(y_test, predictions))"
   ],
   "outputs": [
    {
     "name": "stdout",
     "output_type": "stream",
     "text": [
      "0.7988826815642458\n"
     ]
    }
   ],
   "execution_count": 324
  },
  {
   "metadata": {},
   "cell_type": "markdown",
   "source": "## Salvando os arquivos"
  },
  {
   "metadata": {
    "ExecuteTime": {
     "end_time": "2024-09-03T19:55:41.257701Z",
     "start_time": "2024-09-03T19:55:41.248338Z"
    }
   },
   "cell_type": "code",
   "source": [
    "# Salvando o modelo\n",
    "model_filename = 'rf_titanic_challenge.pkl'\n",
    "with open(\"../models/\"+model_filename, 'wb') as file:\n",
    "    pickle.dump(model, file)\n",
    "\n",
    "# Salvando o scaler\n",
    "scaler_filename = 'std_scaler_diabetes.pkl'\n",
    "with open(\"../scalers/\"+scaler_filename, 'wb') as file:\n",
    "    pickle.dump(scaler, file)\n",
    "    \n",
    "# Salvando o pipeline\n",
    "pipeline_filename = 'rf_titanic_pipeline.pkl'\n",
    "with open(\"../pipelines/\"+pipeline_filename, 'wb') as file:\n",
    "    pickle.dump(pipeline, file)\n",
    "    \n",
    "# Salvando X_test e y_test\n",
    "X_test_df = pd.DataFrame(X_test, columns=df_treino.columns[1:12])\n",
    "y_test_df = pd.DataFrame(y_test, columns=[df_treino.columns[0]])\n",
    "X_test_df.to_csv(\"../data/X_test_dataset_titanic.csv\", index=False)\n",
    "y_test_df.to_csv(\"../data/y_test_dataset_titanic.csv\", index=False)"
   ],
   "outputs": [],
   "execution_count": 333
  },
  {
   "metadata": {},
   "cell_type": "code",
   "outputs": [],
   "execution_count": null,
   "source": ""
  }
 ],
 "metadata": {
  "colab": {
   "include_colab_link": true,
   "name": "colab-github-demo.ipynb",
   "provenance": []
  },
  "hide_input": false,
  "kernelspec": {
   "display_name": "Python 3 (ipykernel)",
   "language": "python",
   "name": "python3"
  },
  "language_info": {
   "codemirror_mode": {
    "name": "ipython",
    "version": 3
   },
   "file_extension": ".py",
   "mimetype": "text/x-python",
   "name": "python",
   "nbconvert_exporter": "python",
   "pygments_lexer": "ipython3",
   "version": "3.11.5"
  },
  "toc": {
   "base_numbering": 1,
   "nav_menu": {},
   "number_sections": true,
   "sideBar": true,
   "skip_h1_title": false,
   "title_cell": "Table of Contents",
   "title_sidebar": "Contents",
   "toc_cell": false,
   "toc_position": {},
   "toc_section_display": true,
   "toc_window_display": false
  }
 },
 "nbformat": 4,
 "nbformat_minor": 1
}
